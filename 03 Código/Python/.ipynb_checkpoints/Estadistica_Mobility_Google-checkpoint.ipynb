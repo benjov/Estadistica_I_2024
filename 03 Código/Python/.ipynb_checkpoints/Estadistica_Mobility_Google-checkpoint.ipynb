{
 "cells": [
  {
   "cell_type": "markdown",
   "metadata": {},
   "source": [
    "# Visualizando datos de Google\n",
    "\n",
    "Acttualización al 5 de abril de 2021"
   ]
  },
  {
   "cell_type": "code",
   "execution_count": null,
   "metadata": {},
   "outputs": [],
   "source": [
    "# Dependencies\n",
    "import pandas as pd\n",
    "import plotly.express as px\n",
    "import plotly.graph_objects as go\n",
    "\n",
    "import warnings\n",
    "warnings.filterwarnings('ignore')"
   ]
  },
  {
   "cell_type": "markdown",
   "metadata": {},
   "source": [
    "## 1. Descarga de datos\n",
    "\n",
    "Datos reportados GOOGLE\n",
    "\n",
    "Información disponible en: https://www.google.com/covid19/mobility/"
   ]
  },
  {
   "cell_type": "markdown",
   "metadata": {},
   "source": [
    "## 2. Mobility\n",
    "\n",
    "#### Innformes de mobilidad local sobre COVID-19\n",
    "\n",
    "Los datos muestran la variación que se está produciendo en el número de visitas a ciertos lugares, como supermercados y parques, en cada región geográfica. \n",
    "\n",
    "La precisión de la ubicación y la interpretación de los lugares categorizados varían según la región, por lo que no recomendamos utilizar estos datos para comparar los cambios de distintos países o regiones con características diferentes (por ejemplo, zonas rurales y zonas urbanas).\n",
    "\n",
    "Si no contamos con una cantidad de datos estadísticamente significativa en una región o categoría, no la incluiremos en el conjunto de datos.\n",
    "\n",
    "\n",
    "#### Categorías de lugar\n",
    "\n",
    "##### Supermercados y farmacias\n",
    "Tendencias de movilidad de lugares como supermercados, almacenes de comida, mercados de productos agrícolas, tiendas de comida especializada y farmacias.\n",
    "\n",
    "##### Parques\n",
    "Tendencias de movilidad de lugares como parques locales, parques nacionales, playas públicas, puertos deportivos, parques caninos, plazas y jardines públicos.\n",
    "\n",
    "##### Estaciones de transporte\n",
    "Tendencias de movilidad de lugares como estaciones de transporte público (por ejemplo, de metro, tren y autobuses).\n",
    "\n",
    "##### Tiendas y ocio\n",
    "Tendencias de movilidad de lugares como restaurantes, cafeterías, centros comerciales, parques de atracciones, museos, bibliotecas y cines.\n",
    "\n",
    "##### Zonas residenciales\n",
    "Las tendencias en movilidad de zonas residenciales.\n",
    "\n",
    "##### Lugares de trabajo\n",
    "Las tendencias en movilidad de lugares de trabajo.\n",
    "\n",
    "Los cambios de cada día se comparan con un valor de referencia de ese día de la semana.\n",
    "\n",
    "* El valor de referencia, que es el valor medio de cada día de la semana, se calcula durante un periodo de 5 semanas, desde el 3 de enero al 6 de febrero del 2020.\n",
    "* Los conjuntos de datos muestran las tendencias durante varios meses, y los datos más recientes corresponden a los últimos 2 o 3 días, que es el tiempo que se tarda en generar los conjuntos de datos."
   ]
  },
  {
   "cell_type": "code",
   "execution_count": null,
   "metadata": {},
   "outputs": [],
   "source": [
    "# \n",
    "Mobility = pd.read_csv('https://www.gstatic.com/covid19/mobility/Global_Mobility_Report.csv', encoding = 'utf-8')\n",
    "\n",
    "Mobility.head()"
   ]
  },
  {
   "cell_type": "code",
   "execution_count": null,
   "metadata": {},
   "outputs": [],
   "source": [
    "# Nombres de las columnas\n",
    "Mobility.columns"
   ]
  },
  {
   "cell_type": "code",
   "execution_count": null,
   "metadata": {},
   "outputs": [],
   "source": [
    "#\n",
    "Mobility = Mobility[Mobility['country_region_code'] == 'MX']\n",
    "\n",
    "Mobility.head()"
   ]
  },
  {
   "cell_type": "code",
   "execution_count": null,
   "metadata": {},
   "outputs": [],
   "source": [
    "#\n",
    "Mobility"
   ]
  },
  {
   "cell_type": "code",
   "execution_count": null,
   "metadata": {},
   "outputs": [],
   "source": [
    "#\n",
    "Mobility['sub_region_1'].value_counts()"
   ]
  },
  {
   "cell_type": "code",
   "execution_count": null,
   "metadata": {},
   "outputs": [],
   "source": [
    "# Tipo de dato de las columnas\n",
    "Mobility.dtypes"
   ]
  },
  {
   "cell_type": "code",
   "execution_count": null,
   "metadata": {},
   "outputs": [],
   "source": [
    "# Date time\n",
    "\n",
    "Mobility['Fecha'] = pd.to_datetime(Mobility['date'])"
   ]
  },
  {
   "cell_type": "code",
   "execution_count": null,
   "metadata": {},
   "outputs": [],
   "source": [
    "# Selecting series\n",
    "\n",
    "Series_Mobility = Mobility[Mobility[\"sub_region_1\"].isnull()]\n",
    "\n",
    "Series_Mobility = Series_Mobility[['Fecha', 'retail_and_recreation_percent_change_from_baseline',\n",
    "                                   'grocery_and_pharmacy_percent_change_from_baseline', \n",
    "                                   'parks_percent_change_from_baseline', \n",
    "                                   'transit_stations_percent_change_from_baseline', \n",
    "                                   'workplaces_percent_change_from_baseline', \n",
    "                                   'residential_percent_change_from_baseline']]\n",
    "\n",
    "Series_Mobility.head()"
   ]
  },
  {
   "cell_type": "markdown",
   "metadata": {},
   "source": [
    "#### Graficando:"
   ]
  },
  {
   "cell_type": "code",
   "execution_count": null,
   "metadata": {},
   "outputs": [],
   "source": [
    "# Promedio de México\n",
    "\n",
    "fig = go.Figure()\n",
    "\n",
    "fig.add_trace( go.Scatter( x = Series_Mobility['Fecha'], \n",
    "                           y = Series_Mobility['retail_and_recreation_percent_change_from_baseline'], \n",
    "                           name = 'Tiendas y ocio', \n",
    "                           line_color = 'darkblue' ) )\n",
    "\n",
    "fig.add_trace( go.Scatter( x = Series_Mobility['Fecha'], \n",
    "                           y = Series_Mobility['grocery_and_pharmacy_percent_change_from_baseline'], \n",
    "                           name = 'Supermercados y farmacias', \n",
    "                           line_color = 'darkred' ) )\n",
    "\n",
    "fig.add_trace( go.Scatter( x = Series_Mobility['Fecha'], \n",
    "                           y = Series_Mobility['parks_percent_change_from_baseline'], \n",
    "                           name = 'Parques', \n",
    "                           line_color = 'darkgreen' ) )\n",
    "\n",
    "fig.add_trace( go.Scatter( x = Series_Mobility['Fecha'], \n",
    "                           y = Series_Mobility['transit_stations_percent_change_from_baseline'], \n",
    "                           name = 'Estaciones de transporte', \n",
    "                           line_color = 'orange' ) )\n",
    "\n",
    "fig.add_trace( go.Scatter( x = Series_Mobility['Fecha'], \n",
    "                           y = Series_Mobility['workplaces_percent_change_from_baseline'], \n",
    "                           name = 'Lugares de trabajo', \n",
    "                           line_color = 'gray' ) )\n",
    "\n",
    "fig.add_trace( go.Scatter( x = Series_Mobility['Fecha'], \n",
    "                           y = Series_Mobility['residential_percent_change_from_baseline'], \n",
    "                           name = 'Zonas residenciales', \n",
    "                           line_color = 'black' ) )\n",
    "\n",
    "fig.update_layout( template = 'plotly_white', # \"plotly\", \"plotly_white\", \"ggplot2\", \"seaborn\", \"simple_white\", \"none\"\n",
    "                  barmode = 'overlay', \n",
    "                  #title = { 'text': 'México: Cambio porcentual en la movilidad en diferentes lugares en comparación con la línea de base',\n",
    "                  #         'y':0.9, 'x':0.5, 'xanchor': 'center', 'yanchor': 'top'}, \n",
    "                  font_family = 'Times New Roman', font_size = 18, font_color = 'black',\n",
    "                  legend = dict( orientation = \"h\", yanchor = \"bottom\", y = 0.9, xanchor=\"right\", x = 0.9 ))\n",
    "\n",
    "fig.update_xaxes(tickformat = '%Y-%m-%d') # (tickangle = 90, tickformat = '%Y-%m-%d')\n",
    "\n",
    "fig.show()"
   ]
  },
  {
   "cell_type": "code",
   "execution_count": null,
   "metadata": {},
   "outputs": [],
   "source": [
    "# To CSV:\n",
    "\n",
    "Series_Mobility.to_csv('Series_Mobility.csv', index = False, encoding = 'utf-8-sig')"
   ]
  },
  {
   "cell_type": "code",
   "execution_count": null,
   "metadata": {},
   "outputs": [],
   "source": []
  },
  {
   "cell_type": "code",
   "execution_count": null,
   "metadata": {},
   "outputs": [],
   "source": []
  },
  {
   "cell_type": "code",
   "execution_count": null,
   "metadata": {},
   "outputs": [],
   "source": []
  },
  {
   "cell_type": "code",
   "execution_count": null,
   "metadata": {},
   "outputs": [],
   "source": []
  }
 ],
 "metadata": {
  "kernelspec": {
   "display_name": "Python 3",
   "language": "python",
   "name": "python3"
  },
  "language_info": {
   "codemirror_mode": {
    "name": "ipython",
    "version": 3
   },
   "file_extension": ".py",
   "mimetype": "text/x-python",
   "name": "python",
   "nbconvert_exporter": "python",
   "pygments_lexer": "ipython3",
   "version": "3.7.5"
  }
 },
 "nbformat": 4,
 "nbformat_minor": 2
}
