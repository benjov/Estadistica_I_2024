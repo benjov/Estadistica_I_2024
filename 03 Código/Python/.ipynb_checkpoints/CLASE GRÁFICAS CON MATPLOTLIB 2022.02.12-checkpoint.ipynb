{
 "cells": [
  {
   "cell_type": "markdown",
   "metadata": {},
   "source": [
    "# INTRODUCCIÓN A  LA VISUALIZACIÓN DE DATOS CON MATPLOTLIB"
   ]
  },
  {
   "cell_type": "markdown",
   "metadata": {},
   "source": [
    "**Matplotlib** es una de las librerías de python más populares, para la generación de gráficos.\n",
    "En esta clase revisaremos los comandos necesarios para construir algunos de los gráficos más comunmente utilizados."
   ]
  },
  {
   "cell_type": "code",
   "execution_count": null,
   "metadata": {},
   "outputs": [],
   "source": [
    "#Importando las librerías necesarias para graficar\n",
    "import pandas as pd\n",
    "import numpy as np\n",
    "import matplotlib as mpl\n",
    "import matplotlib.pyplot as plt\n",
    "from matplotlib import pylab, mlab, pyplot"
   ]
  },
  {
   "cell_type": "markdown",
   "metadata": {},
   "source": [
    "**Para desplegar las gráficas matplotlib cuenta con dos opciones:**\n",
    "* **%matplotlib notebook** desplegará graficas interactivas embebidas en el notebook \n",
    "* **%matplotlib inline** desplegará graficas estáticas embebidas en el notebook, que pueden ser guardadas en diversos formatos."
   ]
  },
  {
   "cell_type": "code",
   "execution_count": null,
   "metadata": {},
   "outputs": [],
   "source": [
    "%matplotlib inline"
   ]
  },
  {
   "cell_type": "markdown",
   "metadata": {},
   "source": [
    "# GRAFICANDO X,Y\n",
    "Antes de comenzar, te sugerimos familiarizarte con algunas instrucciones básicas\n",
    "\n",
    "• **figure():** crea una ventana para dibujar la figura.\n",
    "\n",
    "• **plot(x,y):** dibuja la figura en la ventana, en esta instrucción se colocan los parámetros de la figura tales como color,grosor,tipo de marcador,etc. En estas ligas encontrarás información sobre estilo\n",
    "https://matplotlib.org/3.1.1/api/markers_api.html\n",
    "https://python-graph-gallery.com/wp-content/uploads/Matplotlib_cheatsheet_datacamp.png, http://www.utc.fr/~jlaforet/Suppl/python-cheatsheets.pdf\n",
    "\n",
    "• **plt.ylabel**('titulo de y')\n",
    "\n",
    "• **plt.axis** ([[xmin, xmax, ymin, ymax]]) rango de valores eje x y eje y\n",
    "\n",
    "• **plt.xlabel** ('titulo de x')\n",
    "\n",
    "• **plt.show** ('titulo de x')\n",
    "\n",
    "**Ejemplo 1)**  Vamos a graficar los valores de x[1,2,3,4];y[1,4,9,16]\n",
    "Nota que en este caso estamos utilizando un par de listas de números.\n"
   ]
  },
  {
   "cell_type": "code",
   "execution_count": null,
   "metadata": {},
   "outputs": [],
   "source": [
    "fig = plt.figure()\n",
    "plt.plot([1,2,3,4], [2,4,9,20],) \n",
    "plt.axis([0, 5, 0, 20])\n",
    "plt.ylabel(\"datos eje y\")\n",
    "plt.xlabel(\"datos eje x\")\n",
    "plt.show()"
   ]
  },
  {
   "cell_type": "markdown",
   "metadata": {},
   "source": [
    "**Ejemplo 2)** Si queremos incluir marcadores para cada punto agregamos una línea con los parámetros color(\"r:red\" y forma\"o:circulo\""
   ]
  },
  {
   "cell_type": "code",
   "execution_count": null,
   "metadata": {},
   "outputs": [],
   "source": [
    "fig = plt.figure()\n",
    "plt.plot([1,2,3,4], [2,4,9,20],\"y\",linewidth=2.0)\n",
    "plt.plot([1,2,3,4], [2,4,9,20],\"ro\") \n",
    "plt.axis([0, 4, 0, 20])\n",
    "plt.ylabel(\"datos eje y\")\n",
    "plt.xlabel(\"datos eje x\")\n",
    "plt.show()"
   ]
  },
  {
   "cell_type": "markdown",
   "metadata": {},
   "source": [
    "**MÚLTIPLES GRAFICOS EN UNA FIGURA**\n",
    "\n",
    "Para colocar más de un gráfico en la misma figura utilizamos la instrucción **plt.subplot**\n",
    "\n",
    "**Sintaxis:** plt.subplot(filas, columnas, nro. de gráfico).\n",
    "\n",
    "En esta liga encontrarás otros ejemplos https://matplotlib.org/3.1.0/gallery/subplots_axes_and_figures/subplots_demo.html"
   ]
  },
  {
   "cell_type": "code",
   "execution_count": null,
   "metadata": {},
   "outputs": [],
   "source": [
    "plt.figure(2,figsize=(6,4.5))\n",
    "\n",
    "plt.suptitle(\"Ejemplo de gráficas en grupo\")\n",
    "\n",
    "plt.subplot(211)\n",
    "plt.plot([1,2,3,4], [2,4,9,20],) \n",
    "plt.axis([0, 5, 0, 20])\n",
    "plt.ylabel(\"datos eje y\")\n",
    "plt.xlabel(\"datos eje x\")\n",
    "\n",
    "plt.subplot(212)\n",
    "plt.plot([1,2,3,4], [2,4,9,20],\"y\",linewidth=2.0)\n",
    "plt.plot([1,2,3,4], [2,4,9,20],\"ro\") \n",
    "plt.axis([0, 4, 0, 20])\n",
    "plt.ylabel(\"datos eje y\")\n",
    "plt.xlabel(\"datos eje x\")\n",
    "plt.show()"
   ]
  },
  {
   "cell_type": "code",
   "execution_count": null,
   "metadata": {},
   "outputs": [],
   "source": [
    "plt.figure(2,figsize=(6,4.5))\n",
    "\n",
    "plt.suptitle(\"Ejemplo de gráficas en grupo\")\n",
    "\n",
    "plt.subplot(121)\n",
    "\n",
    "plt.plot([1,2,3,4], [2,4,9,20],) \n",
    "plt.axis([0, 5, 0, 20])\n",
    "plt.ylabel(\"datos eje y\")\n",
    "plt.xlabel(\"datos eje x\")\n",
    "\n",
    "plt.subplot(122)\n",
    "plt.plot([1,2,3,4], [2,4,9,20],\"y\",linewidth=2.0)\n",
    "plt.plot([1,2,3,4], [2,4,9,20],\"ro\") \n",
    "plt.axis([0, 4, 0, 20])\n",
    "plt.ylabel(\"datos eje y\")\n",
    "plt.xlabel(\"datos eje x\")\n",
    "plt.show()"
   ]
  },
  {
   "cell_type": "markdown",
   "metadata": {},
   "source": [
    "**MATPLOTLIB Y PANDAS**\n",
    "\n",
    "Una vez que hemos revisado los parámetros básicos necesarios para graficar, veamos cómo podemos utilizar esta herramienta para visualizar información contenida en nuestra base de datos.\n",
    "\n",
    "**Ejemplo 1)** Iniciemos con un ejemplo sencillo, vamos a crear un DataFrame de prueba asignando a nuestras columnas los encabezados x y y.\n"
   ]
  },
  {
   "cell_type": "code",
   "execution_count": null,
   "metadata": {},
   "outputs": [],
   "source": [
    "df = pd.DataFrame({'x': [10, 8, 10, 7, 7, 10, 9, 9],\n",
    "                   'y': [6, 4, 5, 5, 7, 10, 9, 9]})\n",
    "df"
   ]
  },
  {
   "cell_type": "markdown",
   "metadata": {},
   "source": [
    "* Para graficar el dataframe utilizaremos 2 comandos nuevos\n",
    "\n",
    "**1) plt.style.use('nombre del estilo')**\n",
    "\n",
    "Este comando permite aplicar un estilo específico a nuestros gráficos,los estilos disponibles pueden consultarse con el comando **plt.style.available**\n",
    "En este caso utilizaremos el estilo 'dark_background', no es el mejor estilo, pero es ilustrativo de los estilos disponibles.\n",
    "\n",
    "**2) nombredataframe.plot()**\n",
    "\n",
    "Este comando tomará los datos del dataframe y grafica los mismos considerando cada columna como datos del eje Y.\n",
    "Este comando asume que el índice del DataFrame son los valores del eje X.\n"
   ]
  },
  {
   "cell_type": "code",
   "execution_count": null,
   "metadata": {},
   "outputs": [],
   "source": [
    "plt.style.available"
   ]
  },
  {
   "cell_type": "code",
   "execution_count": null,
   "metadata": {},
   "outputs": [],
   "source": [
    "plt.style.use('dark_background')\n",
    "df.plot()"
   ]
  },
  {
   "cell_type": "markdown",
   "metadata": {},
   "source": [
    "Si queremos tomar únicamente los datos de una de las columnas seleccionamos la columna por nombre; tal como aprendimos en nuestra clase anterior."
   ]
  },
  {
   "cell_type": "code",
   "execution_count": null,
   "metadata": {},
   "outputs": [],
   "source": [
    "df['x'].plot()"
   ]
  },
  {
   "cell_type": "markdown",
   "metadata": {},
   "source": [
    "**HISTOGRAMA**\n",
    "Ahora vamos a hablar un poco del tipo de gráficas disponibles en matplotlib y bajo qué circunstancias es correcto utilizarlas.\n",
    "Te sugerimos consultar esta página en la que encontrarás información de las gráficas que se presentan en este notebook\n",
    "https://python-graph-gallery.com/\n",
    "\n",
    "Iniciaremos esta exploración con un Histograma.\n",
    "\n",
    "**¿Qué es un Histograma?**\n",
    "\n",
    "Es un gráfico que muestra la distribución de **frecuencias** de una variable dada.\n",
    "En el eje Y se representan las frecuencias observadas y en el eje X los posibles valores que toma nuestra variable, es importante mencionar que en el caso de los valores del eje X es posible establecer \"grupos\" o clases para representar su rango completo.\n",
    "\n",
    "Por ejemplo, si utilizamos la columna X de nuestro dataframe y la graficamos como histograma,podemos observar que 1) su rango de valores va de 7 a 10 y 2) las frecuencias observadas no son mayores a 3 observaciones.\n",
    "\n",
    "Trazemos el histograma con la instrucción .hist()\n",
    "**datos.hist(parámetros)**\n",
    "\n"
   ]
  },
  {
   "cell_type": "code",
   "execution_count": null,
   "metadata": {},
   "outputs": [],
   "source": [
    "plt.style.use('classic')\n",
    "df['x'].hist()\n",
    "plt.ylabel(\"Frecuencia observada\")\n",
    "plt.xlabel(\"Valores que toma mi variable\")\n",
    "plt.show()"
   ]
  },
  {
   "cell_type": "markdown",
   "metadata": {},
   "source": [
    "Para graficar más de un histograma en la misma figura asignamos las columnas de mi DataFrame a una variable, nota que podemos diferenciar las frecuencias a partir del color y podemos establecer la cantidad de grupos \"clases\" para representar nuestros datos.\n",
    "\n",
    "En este caso utilizamos una sintaxis distinta colocando **plt.hist(datos,parametros-bins, color, etc-)**"
   ]
  },
  {
   "cell_type": "code",
   "execution_count": null,
   "metadata": {},
   "outputs": [],
   "source": [
    "plt.style.use('seaborn-bright')\n",
    "datosX=df['x']\n",
    "datosY=df['y']\n",
    "plt.hist([datosX, datosY],bins=3, color=['orange', 'green'])\n",
    "plt.ylabel(\"Frecuencia observada\")\n",
    "plt.xlabel(\"Valores que toma mi variable\")\n",
    "plt.title(\"Histograma\")\n",
    "plt.show()"
   ]
  },
  {
   "cell_type": "markdown",
   "metadata": {},
   "source": [
    "Ya que tenemos los comandos básicos para graficar,utilicemos nuestro DataFrame de consumo de agua para aprender cómo utilizar distintos tipos de representaciones de datos"
   ]
  },
  {
   "cell_type": "code",
   "execution_count": null,
   "metadata": {},
   "outputs": [],
   "source": [
    "aguacpob=\"basecompletaconpob.csv\""
   ]
  },
  {
   "cell_type": "code",
   "execution_count": null,
   "metadata": {},
   "outputs": [],
   "source": [
    "aguacp = pd.read_csv(aguacpob,encoding=\"UTF-8\")\n",
    "aguacp "
   ]
  },
  {
   "cell_type": "code",
   "execution_count": null,
   "metadata": {},
   "outputs": [],
   "source": [
    "aguacp ['Categoriaconsumo'].hist(color='green')\n",
    "plt.ylabel(\"Frecuencia observada\")\n",
    "plt.xlabel(\"Categorías de consumo de agua\")\n",
    "plt.title(\"Histograma de categorías de consumo de agua CDMX 2019\")\n",
    "plt.show()"
   ]
  },
  {
   "cell_type": "code",
   "execution_count": null,
   "metadata": {},
   "outputs": [],
   "source": [
    "aguacp ['Categoriaconsumo'].value_counts()"
   ]
  },
  {
   "cell_type": "markdown",
   "metadata": {},
   "source": [
    "**GRAFICO DE DENSIDAD**\n",
    "\n",
    "* Regularmente cuando analizamos un conjunto de datos hacemos ciertas suposiciones respecto de la generalización sobre las conclusiones obtenidas. Lo anterior se debe por un lado, a que suponemos que el conjunto de datos analizado es una muestra \"suficientemente representativa\" del fenómeno que analizamos y, por otra parte a que suponemos que los datos se distribuyen de una forma específica. \n",
    "\n",
    "* Más adelante en el curso ahondaremos sobre este tema, por lo pronto aprederemos cómo trazar un gráfico de  Función de Densidad de Probabilidad que nos permitirá describir la probabilidad relativa según la cual nuestra variable aleatoria tomará un determinado valor.El área debajo de la curva es la probabilidad. Puedes calcular área debajo de la curva dentro de un intervalo.\n",
    "\n",
    "Un recurso que te sugerimos revisar es este notebook: https://github.com/relopezbriega/relopezbriega.github.io/blob/master/downloads/DistStatsPy.ipynb\n",
    "\n",
    "**El comando .plot.kde() arroja como resultado el gráfico de densidad.**\n",
    "\n",
    "**Sintaxis:** dataframe['nombrecolumna'].plot.kde()"
   ]
  },
  {
   "cell_type": "code",
   "execution_count": null,
   "metadata": {},
   "outputs": [],
   "source": [
    "aguacp ['consumo_total'].plot.kde()\n",
    "plt.title(\"Densidad consumo total de agua\")\n",
    "plt.show()"
   ]
  },
  {
   "cell_type": "code",
   "execution_count": null,
   "metadata": {},
   "outputs": [],
   "source": [
    "aguacp [['consumo_total','Pob_Tot2019']].plot.kde()\n",
    "plt.title(\"Densidad agua y población\")\n",
    "plt.show()"
   ]
  },
  {
   "cell_type": "markdown",
   "metadata": {},
   "source": [
    "**GRAFICO DE PASTEL**\n",
    "* El gráfico de pastel nos ayuda a identificar cuánto un grupo específico o segmento a un conjunto, el total representa el 100% de la variable a analizar.\n",
    "* La función .plot(kind='pie')  despliega el gráfico.\n",
    "\n",
    "**Sintaxis:**\n",
    "\n",
    "Al igual que con otros gráficos podemos guardar nuestras agrupaciones y pasar la variable a la instrucción del tipo de gráfico que queremos:**variable**.plot(kind='pie',parametros) \n",
    "\n",
    "*Utilicemos un gráfico de pastel para conocer la contribución de las diversas categorías de consumo al total de delegaciones."
   ]
  },
  {
   "cell_type": "code",
   "execution_count": null,
   "metadata": {},
   "outputs": [],
   "source": [
    "plt.style.use('ggplot')\n",
    "datos = aguacp.groupby([\"Categoriaconsumo\"]).Categoriaconsumo.count()\n",
    "datos.plot(kind='pie',figsize=(14, 6),autopct='%1.1f%%',explode = (0.1, 0, 0, 0,0))\n",
    "plt.axis('equal')\n",
    "plt.legend(labels=datos.index, loc='upper left')\n",
    "plt.title(\"% de alcaldias segun categoría de consumo de agua\")\n",
    "plt.show()"
   ]
  },
  {
   "cell_type": "markdown",
   "metadata": {},
   "source": [
    "**GRAFICO DE BARRAS**\n",
    "El gráfico de barras es útil para comparar los valores que toma una variable en relación a una o más categorías.estos se pueden representar horizontal o verticalmente. "
   ]
  },
  {
   "cell_type": "code",
   "execution_count": null,
   "metadata": {},
   "outputs": [],
   "source": [
    "plt.style.use('ggplot')\n",
    "datos = aguacp.groupby([\"alcaldia\"]).consumo_total.mean()\n",
    "datos.plot(kind='bar',figsize=(15, 6),color = 'lightblue')\n",
    "plt.title(\"Promedio de consumo total de agua por alcaldia 2019\")\n",
    "plt.ylabel(\"Valor de la variable- consumo total\")\n",
    "plt.xlabel(\"Categorías - alcaldías\")\n",
    "plt.show()"
   ]
  },
  {
   "cell_type": "markdown",
   "metadata": {},
   "source": [
    "* Otra forma de utilizar el gráfico de barras es la **comparación entre los datos de dos columnas de un dataframe**, por ejemplo Población y consumo total o la población de hombres y mujeres en cada Alcadía.\n",
    "\n",
    "* Nota que la **Sintaxis** para llamar al comando es la siguiente:\n",
    "\n",
    "dataframe(valoresx=\"columna\",valoresy[\"col1\",\"col2\"],kind=\"tipodegráfico\", en este caso barra horizontal)"
   ]
  },
  {
   "cell_type": "code",
   "execution_count": null,
   "metadata": {},
   "outputs": [],
   "source": [
    "aguacp.plot(x=\"alcaldia\", y=[\"Pob_Tot2019\", \"consumo_total\"], kind=\"barh\")"
   ]
  },
  {
   "cell_type": "code",
   "execution_count": null,
   "metadata": {},
   "outputs": [],
   "source": [
    "aguacp.plot(x=\"alcaldia\", y=[\"Pob2019_H\",\"Pob2019_M\",], kind=\"barh\")"
   ]
  },
  {
   "cell_type": "markdown",
   "metadata": {},
   "source": [
    "**GRAFICO DE DISPERSIÓN**"
   ]
  },
  {
   "cell_type": "markdown",
   "metadata": {},
   "source": [
    "**La Dispersión** \n",
    "puede definirse como el grado de distanciamiento de un conjunto de valores respecto a su valor medio.\n",
    "Un gráfico de dispersión nos permite representar gráficamente la relación la relación entre dos variables o grupos de datos.\n",
    "De forma general con el gráfico podemos encontrar 3 tipos de correlación: Positiva, negativa y nula. Esta correlación NO implica que una variable cause el movimiento de la otra, únicamente en esta etapa descriptiva podemos decir que ambas se mueven  \n",
    "en una misma dirección (en dirección contraria) de forma proporcional.   \n",
    "\n",
    "**Correlación positiva**\n",
    "\n",
    "Se presenta cuando una variable aumenta o disminuye y la otra también. \n",
    "\n",
    "**Correlación negativa**\n",
    "\n",
    "Se presenta cuando una variable se comporta de forma contraria o a la otra, es decir que si una variable aumenta, la otra disminuye. \n",
    "\n",
    "**Relación nula**\n",
    "\n",
    "Si no encuentras un comportamiento entre las variables, existe una correlación nula.\n",
    "\n",
    "** Sintaxis**\n",
    "\n",
    "* Para trazar un gráfico de dispersión podemos utilizar la sintaxis:\n",
    "\n",
    "**plt.scater(dataframe.columna valoresX,dataframe.columna valoresY)**\n"
   ]
  },
  {
   "cell_type": "code",
   "execution_count": null,
   "metadata": {},
   "outputs": [],
   "source": [
    "plt.style.use('ggplot')\n",
    "plt.scatter(aguacp.Pob_Tot2019, aguacp.consumo_total, s=200,color =\"red\")\n",
    "plt.title(\"Gráfico de dispersión Consumo total vs Población total\")\n",
    "plt.ylabel(\" Consumo total\")\n",
    "plt.xlabel(\"Pob_Tot2019\")\n",
    "plt.show()"
   ]
  },
  {
   "cell_type": "markdown",
   "metadata": {},
   "source": [
    "**.CORR**\n",
    "Para obtener una medida de la correlación entre dos variables podemos utilizar la sintaxis\n",
    "nombredataframe['Columna']**.corr**(nombredataframe['Columna'])"
   ]
  },
  {
   "cell_type": "code",
   "execution_count": null,
   "metadata": {},
   "outputs": [],
   "source": [
    "aguacp['Pob_Tot2019'].corr(aguacp['consumo_total'])"
   ]
  },
  {
   "cell_type": "markdown",
   "metadata": {},
   "source": [
    "**BOXPLOT O DIAGRAMAS DE CAJA**\n",
    "\n",
    "\n",
    "* EL diagrama de **\"cajas y bigotes\"** o **\"Boxplot\"** muestra gráficamente grupos de datos numéricos a través de sus cuartiles.\n",
    "\n",
    "* Con este diagrama podemos identificar rápidamente valores clave, tales como: el promedio, el percentil 25 medio, etc, valores atípicos,si los datos son simétricos, qué tan estrechamente se agrupan los datos.\n",
    "\n",
    "* La linea recta que atraviesa el rectángulo o \"caja\" representa la mediana(el segundo cuartil); la base del rectángulo representa el pimer cuartil y su parte superior el tercer cuartil.\n",
    "Al rango entre el primer y tercer cuartil se le conoce como intercuartílico (RangoInterCCuartil RIC).\n",
    "\n",
    "* De la caja salen dos líneas. Una que llega hasta el mínimo valor de los datos en la variable o hasta el primer cuartil menos hast 1.5 veces el RIC; y otra que llegar hasta el valor máximo de los datos o el tercer cuartil más hasta 1.5 veces el RIC. Estos son los bigotes.\n",
    "\n",
    "*  Los valores atípicos se representan a veces como puntos individuales que están en línea con los bigotes. Los diagramas de cajas y bigotes se pueden dibujar vertical u horizontalmente."
   ]
  },
  {
   "cell_type": "code",
   "execution_count": null,
   "metadata": {},
   "outputs": [],
   "source": [
    "#Sintaxis\n",
    "#nombredataframe.boxplot(by ='categoria', column =[nombrecolumna], grid = False)\n",
    "aguacp.boxplot(by ='Categoriaconsumo', column =['Pob_Tot2019'], grid = True) "
   ]
  },
  {
   "cell_type": "code",
   "execution_count": null,
   "metadata": {},
   "outputs": [],
   "source": [
    "aguacp.boxplot(by ='Categoriaconsumo', column =['consumo_total'], grid = True) "
   ]
  },
  {
   "cell_type": "code",
   "execution_count": null,
   "metadata": {},
   "outputs": [],
   "source": [
    "\n",
    "aguacp.boxplot(by ='Categoriaconsumo', column =['CTNODomestico'], grid = False) "
   ]
  },
  {
   "cell_type": "code",
   "execution_count": null,
   "metadata": {},
   "outputs": [],
   "source": [
    "aguacp.boxplot(by ='Categoriaconsumo', column =['CTDomestico'], grid = False) "
   ]
  },
  {
   "cell_type": "code",
   "execution_count": null,
   "metadata": {},
   "outputs": [],
   "source": [
    "aguacp.boxplot(by ='Categoriaconsumo', column =['Pob_Tot2019'], grid = False) "
   ]
  },
  {
   "cell_type": "code",
   "execution_count": null,
   "metadata": {},
   "outputs": [],
   "source": []
  }
 ],
 "metadata": {
  "kernelspec": {
   "display_name": "Python 3",
   "language": "python",
   "name": "python3"
  },
  "language_info": {
   "codemirror_mode": {
    "name": "ipython",
    "version": 3
   },
   "file_extension": ".py",
   "mimetype": "text/x-python",
   "name": "python",
   "nbconvert_exporter": "python",
   "pygments_lexer": "ipython3",
   "version": "3.7.5"
  }
 },
 "nbformat": 4,
 "nbformat_minor": 2
}
