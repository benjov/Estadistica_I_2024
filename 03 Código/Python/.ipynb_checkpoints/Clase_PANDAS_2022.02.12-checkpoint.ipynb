{
 "cells": [
  {
   "cell_type": "markdown",
   "metadata": {},
   "source": [
    "# INTRODUCCIÓN A PANDAS"
   ]
  },
  {
   "cell_type": "markdown",
   "metadata": {},
   "source": [
    "###### Los datos consultados en este notebook proceden de :https://datos.cdmx.gob.mx/explore/dataset/consumo-agua/export/ y\n",
    "https://www.gob.mx/cms/uploads/attachment/file/503374/Diccionario_Proyecciones_de_la_Poblacion_2016_2050.pdf"
   ]
  },
  {
   "cell_type": "markdown",
   "metadata": {},
   "source": [
    "**PANDAS** es una biblioteca de python utilizada para  manipular y análizar  datos. El nombre deriva del término \"panel data\" (datos panel).\n",
    "\n",
    "La estructura básica de PANDAS es el DataFrame.\n",
    "\n",
    "Un **DataFrame** es un objeto bidimensional (tabla) que puede tener columnas con diferentes tipos de información. Los diferentes tipos de entradas incluyen diccionarios, listas, series e incluso otro DataFrame."
   ]
  },
  {
   "cell_type": "markdown",
   "metadata": {},
   "source": [
    "**1) IMPORTAR LA BIBLIOTECA**: Para utilizar PANDAS es necesario importar esta biblioteca así como Numpy"
   ]
  },
  {
   "cell_type": "code",
   "execution_count": null,
   "metadata": {},
   "outputs": [],
   "source": [
    "import pandas as pd\n",
    "import numpy as np"
   ]
  },
  {
   "cell_type": "markdown",
   "metadata": {},
   "source": [
    "# OJO: CORRE ESTA CELDA SÓLO EN CASO DE QUE LA INSTRUCCION PARA IMPORTAR PANDAS FALLE. DESPUÉS VUELVE A CORRER 1)"
   ]
  },
  {
   "cell_type": "code",
   "execution_count": null,
   "metadata": {},
   "outputs": [],
   "source": [
    "#!pip install pip\n",
    "#!pip install pandas\n",
    "#!pip install numpy"
   ]
  },
  {
   "cell_type": "markdown",
   "metadata": {},
   "source": [
    "**2) DISTINTAS FORMAS DE CREAR UN DATAFRAME**"
   ]
  },
  {
   "cell_type": "markdown",
   "metadata": {},
   "source": [
    "**A) De una lista a un Serie:**\n",
    "\n",
    "Para crear la serie debemos creamos una variable que contendrá los elementos de la serie, utilizar la instrucción que le indica a PANDAS que el contenido es una serie, y guardar los elementos de la serie entre paréntesis y corchete.\n",
    "\n",
    "*Instrucción: pd.Series*\n",
    "\n",
    "*Sintaxis: nombrevariable =Instrucción([elemento1,elemento2,....elementon]*\n",
    "\n",
    "Por ejemplo, vamos a crear una serie con la lista de tus materias."
   ]
  },
  {
   "cell_type": "code",
   "execution_count": null,
   "metadata": {},
   "outputs": [],
   "source": [
    "data_series = pd.Series([\"Historia\", \"Estadística II\", \"Econometría\",\n",
    "                         \"Filosofía\", \"Literatura\"])\n",
    "data_series"
   ]
  },
  {
   "cell_type": "markdown",
   "metadata": {},
   "source": [
    "**B) De una lista de diccionarios a DataFrame:** \n",
    "\n",
    "Un listado de diccionarios puede convertirse en un DataFrame utilizando la **Instrucción pd.DataFrame.** Primero asiganos la lista de diccionarios a una variable y luego aplicamos la instrucción pd. Dataframe a dicha variable.\n",
    "\n",
    "*Instrucción: pd. Dataframe*\n",
    "\n",
    "*Sintaxis: nombredataframe=Instruccion(variable que contiene la lista de diccionarios)*\n",
    "    \n",
    "Un ejemplo clásico es la información de  los Estados de la Republica y su clave en INEGI    \n",
    " "
   ]
  },
  {
   "cell_type": "code",
   "execution_count": null,
   "metadata": {},
   "outputs": [],
   "source": [
    "# Convertir una lista de diccionarios a DataFrame\n",
    "#Sintaxis: nombrelistadic = [{\"KEY\":\"VALUE\",\"KEY\":VALUE\"},{\"KEY\":\"VALUE\",\"KEY\":VALUE\"}]\n",
    "#nombredataFrame=pd.Dataframe(nombrelistadic)\n",
    "\n",
    "listadiccionario = [{\"ESTADO\": \"AGUASCALIENTES\", \"CLAVEINEGIESTADO\":\"01\"},\n",
    "                {\"ESTADO\": \"ZACATECAS\", \"CLAVEINEGIESTADO\":\"32\"}]\n",
    "\n",
    "df_estados = pd.DataFrame(listadiccionario)\n",
    "df_estados"
   ]
  },
  {
   "cell_type": "markdown",
   "metadata": {},
   "source": [
    "**C) De un diccionario de listas a un DataFrame**\n",
    "\n",
    "Un diccionario creado a partir de varias listas puede convertirse en un DataFrame con la instrucción **pd.DataFrame**\n",
    "\n",
    "*Sintaxis: nombredataFrame=pd.Dataframe({\"lista1\":[elemento 1,elemento 2,...,elemento n],\"lista2\":[elemento 1,elemento 2,...,elemento n],\"lista n\":[elemento n1,elemento n2,...,elemento nn]})*\n"
   ]
  },
  {
   "cell_type": "code",
   "execution_count": null,
   "metadata": {},
   "outputs": [],
   "source": [
    "dfpoblacion = pd.DataFrame(\n",
    "    {\"Delegación\": [\"Coyoacán\", \"Miguel Hidalgo\"],\n",
    "     \"Claveinegi\": [\"090030001\", \"090160001\"],\n",
    "     \"Población\": [\"620,416\", \"372,889\"]})\n",
    "dfpoblacion"
   ]
  },
  {
   "cell_type": "markdown",
   "metadata": {},
   "source": [
    "# EJERCICIO"
   ]
  },
  {
   "cell_type": "code",
   "execution_count": null,
   "metadata": {},
   "outputs": [],
   "source": [
    "# Crea un  DataFrame a partir de un diccionario de listas completando la información faltante\n",
    "# = pd.DataFrame({\n",
    "   # \"\": [\"Carlos\", \"\", \"Rosa\", , \"Luis\"],\n",
    "    #\"Edad\": [15.00, 12.50, 10.00, 5.00, 1.00],\n",
    "    # [1.75, 1.68, 1.64, 1.72, \"N/D\"]\n",
    "#})\n"
   ]
  },
  {
   "cell_type": "markdown",
   "metadata": {},
   "source": [
    "**D) Crear DataFrame a partir de un archivo externo.**\n",
    "\n",
    "Regualarmente, en esta clase trabajaremos con arcivos de bases de datos externos, con formatos csv, xls, entre otros.\n",
    "Para que Python \"lea\" y manipule los datos de dichas bases de datos, a veces es necesario importar la biblioteca correspondiente a cada extension, de acuerdo a los archivos que se quieran manipular.Tal como se ha trabajado en este notebook se debe utilizar la instrucción:-import x as - abreviatura de la biblioteca-\n",
    "\n",
    "*Para mayor información te sugerimos estos enlaces:\n",
    "http://www.developerpe.com/blog/cargar_panda_csv_txt_json_xlsx/\n",
    "https://pandas.pydata.org/docs/user_guide/cookbook.html?highlight=read#data-in-out*\n",
    "\n",
    "**Por ejemplo:\n",
    "import csv**\n",
    "\n",
    "En este caso **NO** será necesario debido a que la instalación de Pandas incluye csv."
   ]
  },
  {
   "cell_type": "markdown",
   "metadata": {},
   "source": [
    "**Para crar un DataFrame con información de un archivo externo**\n",
    "\n",
    "**1)** Primero guardamos la ruta del archivo en una variable"
   ]
  },
  {
   "cell_type": "code",
   "execution_count": null,
   "metadata": {},
   "outputs": [],
   "source": [
    "#\n",
    "aguacsv = \"https://datos.cdmx.gob.mx/dataset/eb38823c-488a-49e8-a2cf-62e628fa246f/resource/2263bf74-c0ed-4e7c-bb9c-73f0624ac1a9/download/consumo-agua.csv\""
   ]
  },
  {
   "cell_type": "markdown",
   "metadata": {},
   "source": [
    "**2)** Le damos un nombre a nuestro DataFrame y con ayuda de la instrucción **pd.read_csv**, leemos los datos del csv.\n",
    "\n",
    "* ###### Ojo:la instrucción encoding no es estrictamente necesaria, pero nos ayudará a que todos los caracteres sean interpretados correctamente"
   ]
  },
  {
   "cell_type": "code",
   "execution_count": null,
   "metadata": {},
   "outputs": [],
   "source": [
    "consumodf = pd.read_csv(aguacsv, encoding = 'latin-1') \n",
    "# encoding = {UTF-8 , latin1, utf-8-sig}"
   ]
  },
  {
   "cell_type": "markdown",
   "metadata": {},
   "source": [
    "###### Para ver el encabezado del del DataFRame utilizamos la instrucción .head(),  por default muestra las primeras 5 líneas.\n",
    "\n",
    "Sintaxis: nombredataframe.head()\n",
    "\n",
    "###### También podemos ver los últimos registros con tail()\n",
    "\n",
    "Sintaxis: nombredataframe.tail()"
   ]
  },
  {
   "cell_type": "code",
   "execution_count": null,
   "metadata": {},
   "outputs": [],
   "source": [
    "consumodf.head()"
   ]
  },
  {
   "cell_type": "markdown",
   "metadata": {},
   "source": [
    "* ###### Para ver la información de una columna en particular y sus primeros 10 registros utilizamos la sintaxis: nombredataframe[\"columna\"].head(10)"
   ]
  },
  {
   "cell_type": "code",
   "execution_count": null,
   "metadata": {},
   "outputs": [],
   "source": [
    "consumodf[\"alcaldia\"].head(10)"
   ]
  },
  {
   "cell_type": "markdown",
   "metadata": {},
   "source": [
    "* ###### Para mostrar múltiples columnas utilizamos la  Sintaxis: nombredataframe[[\"columnaA\",\"columnaB\"]].head(n) -nota los corchetes dobles\n"
   ]
  },
  {
   "cell_type": "code",
   "execution_count": null,
   "metadata": {},
   "outputs": [],
   "source": [
    "consumodf[[\"alcaldia\", \"consumo_prom\"]].head()"
   ]
  },
  {
   "cell_type": "markdown",
   "metadata": {},
   "source": [
    "* ###### Para saber cuántos datos tenemos utilizamos la sintaxis nombredataframe.shape"
   ]
  },
  {
   "cell_type": "code",
   "execution_count": null,
   "metadata": {},
   "outputs": [],
   "source": [
    "consumodf.shape"
   ]
  },
  {
   "cell_type": "markdown",
   "metadata": {},
   "source": [
    "# FUNCIONES BÁSICAS DE PANDAS PARA ANALIZAR UN DATAFRAME \n",
    "\n",
    "Tal como está, nuestro DataFrame no nos permite revisar la información de forma sencilla, para ordenar y limpiar los datos que tenemos debemos realizar una serie de operaciones. Cada una de las instrucciones que se muestran a continuación pueden se guardadas en una variable para posteriormente ser utilizadas"
   ]
  },
  {
   "cell_type": "markdown",
   "metadata": {},
   "source": [
    "* Para mostrar el nombre de todas las columnas que componen nuestro DataFrame utilizamos la instrucción **.columns**\n",
    "\n",
    " **Sintaxis:** nombredataframe.columns()"
   ]
  },
  {
   "cell_type": "code",
   "execution_count": null,
   "metadata": {},
   "outputs": [],
   "source": [
    "consumodf.columns"
   ]
  },
  {
   "cell_type": "markdown",
   "metadata": {},
   "source": [
    "* La instrucción **.dtypes** a plicada al DataFrame regresa el tipo de datos de cada columna"
   ]
  },
  {
   "cell_type": "code",
   "execution_count": null,
   "metadata": {},
   "outputs": [],
   "source": [
    "consumodf.dtypes"
   ]
  },
  {
   "cell_type": "markdown",
   "metadata": {},
   "source": [
    "* La instrucción **.count()** aplicada al DataFrame regresa el no. de observaciones válidas en cada columna"
   ]
  },
  {
   "cell_type": "code",
   "execution_count": null,
   "metadata": {},
   "outputs": [],
   "source": [
    "consumodf.count()"
   ]
  },
  {
   "cell_type": "markdown",
   "metadata": {},
   "source": [
    "* Si queremos saber los valores que toma cada columna y el no. de observaciones que tiene cada valor, utilizamo la instrucción **.value_counts()**\n",
    "\n",
    " **Sintaxis:** nombredataframe[\"columna\"].value_counts()"
   ]
  },
  {
   "cell_type": "code",
   "execution_count": null,
   "metadata": {},
   "outputs": [],
   "source": [
    "consumodf[\"alcaldia\"].value_counts()"
   ]
  },
  {
   "cell_type": "markdown",
   "metadata": {},
   "source": [
    "* Para conocer los valores únicos de una columna utilizamos la instrucción **.unique()**, esta instrucción regresa un arreglo con la información delos valores únicos que aparecen en la columna y el tipo de datos\n",
    "\n",
    "   **Sintaxis:** unicos= nombredataframe[\"columna\"].unique()"
   ]
  },
  {
   "cell_type": "code",
   "execution_count": null,
   "metadata": {},
   "outputs": [],
   "source": [
    "unique = consumodf[\"bimestre\"].unique()\n",
    "unique"
   ]
  },
  {
   "cell_type": "markdown",
   "metadata": {},
   "source": [
    "# OPERACIONES CON COLUMNAS"
   ]
  },
  {
   "cell_type": "markdown",
   "metadata": {},
   "source": [
    "Por ahora, los comandos utilizados nos permiten tener una idea general de lo que hay en la base de datos.\n",
    "A fin de realizar un análisis más profundo de la información que contiene nuestro DataFrame, es necesario renombrar y reorganizar columnas, así como limpiar algunos registros.\n",
    "\n",
    "Utilizaremos algunos nuevos comandos para este propósito."
   ]
  },
  {
   "cell_type": "markdown",
   "metadata": {},
   "source": [
    "* **ELIMINAR:** Vamos a conservar sólo las columnas que necesitamos, en este caso no vamos a utilizar la información geográfica por lo que debemos eliminar las columnas con dicha información.\n",
    "Por otra parte la información de la columna 'nomgeo'está repetida en la columna \"alcaldía\"; por lo que vamos a eliminar esta información.\n",
    " Utilizamos el comando **.drop**\n",
    "   \n",
    " **Sintaxis:** nombredataframe.drop([\"columna1,\"columna n\"], axis=1, inplace=True)"
   ]
  },
  {
   "cell_type": "code",
   "execution_count": null,
   "metadata": {},
   "outputs": [],
   "source": [
    "consumodf.drop([\"geo_point_2d\", \"geo_shape\"], axis=1, inplace=True)\n",
    "consumodf.head(5)\n"
   ]
  },
  {
   "cell_type": "markdown",
   "metadata": {},
   "source": [
    " * **RENOMBRAR** Vamos a renombrar algunas columnas para aclarar su significado y a reorganizar el orden de aparición de las mismas. Para ello vamos a utilizar el comando **df.rename**\n",
    "\n",
    " **Sintaxis:** dataframe=dataframe.rename(columns={\"Nombreactual\": \"Nuevonombre\", \"Nombreactual\": \"Nuevonombre\"})\n",
    "\n",
    "Los nombres de las columnas serán lo siguientes:\n",
    "\n",
    " * anio=año\n",
    " * consumo_total_mixto= CTMixto\n",
    " * consumo_prom_mixto= CPMixto\n",
    " * consumo_prom_dom= CPDomestico\n",
    " * consumo_total_dom=CTDomestico\n",
    " * consumo_prom_no_dom= CPNODomestico\n",
    " * consumo_total_no_dom=CTNODomestico\n"
   ]
  },
  {
   "cell_type": "code",
   "execution_count": null,
   "metadata": {},
   "outputs": [],
   "source": [
    "consumodf = consumodf.rename(columns={\"anio\":\"año\",\"consumo_total_mixto\":\"CTMixto\", \"consumo_prom_mixto\":\"CPMixto\",\n",
    "                                      \"consumo_prom_dom\":\"CPDomestico\",\"consumo_total_dom\":\"CTDomestico\",\n",
    "                                      \"consumo_prom_no_dom\":\"CPNODomestico\",\"consumo_total_no_dom\":\"CTNODomestico\"})\n",
    "consumodf.head()"
   ]
  },
  {
   "cell_type": "markdown",
   "metadata": {},
   "source": [
    "* **REORGANIZAR:** Vamos a reorganizar las columnas y a conservar sólo aquellas que vamos a utilizar, para ello se utiliza la sigiente sintaxis. Los nombres de las columnas van en el órden que nosotros establezcamos.\n",
    "\n",
    "  **Sintaxis:** nombredataframe=nombredataframe[[\"nombre columna1\",\"nombre columna2\",...\"nombre columnan\"]]"
   ]
  },
  {
   "cell_type": "code",
   "execution_count": null,
   "metadata": {},
   "outputs": [],
   "source": [
    "consumodf = consumodf[[\"año\",\"alcaldia\",\"colonia\",\"bimestre\",\"indice_des\",\"CPDomestico\",\"CTDomestico\",\"CPNODomestico\",\"CTNODomestico\",\"CPMixto\",\"CTMixto\",\"consumo_total\",\"consumo_prom\"]]\n",
    "consumodf"
   ]
  },
  {
   "cell_type": "markdown",
   "metadata": {},
   "source": [
    "# LIMPIANDO DATOS"
   ]
  },
  {
   "cell_type": "markdown",
   "metadata": {},
   "source": [
    "* Observa que la información de la columna alcaldía contiene errores e inconsistencias en algunos de los registros"
   ]
  },
  {
   "cell_type": "code",
   "execution_count": null,
   "metadata": {},
   "outputs": [],
   "source": [
    "consumodf[\"alcaldia\"].value_counts()"
   ]
  },
  {
   "cell_type": "markdown",
   "metadata": {},
   "source": [
    "* **REEMPLAZAR VALORES:** Para corregir esta situación utilizamos la instrucción **.replace**\n",
    "\n",
    "  **Sintaxis:** nombredataframe[\"columna\"]=nombredataframe[\"columna\"].replace({'Valor actual': 'Nuevo Valor', 'Valor actual': 'Nuevo Valor'})"
   ]
  },
  {
   "cell_type": "code",
   "execution_count": null,
   "metadata": {},
   "outputs": [],
   "source": [
    "consumodf[\"alcaldia\"] = consumodf[\"alcaldia\"].replace(\n",
    "    {'IZTAPALAPA': 'IZP'})"
   ]
  },
  {
   "cell_type": "markdown",
   "metadata": {},
   "source": [
    "* Comprobamos que efectivamente se han reemplazado los datos"
   ]
  },
  {
   "cell_type": "code",
   "execution_count": null,
   "metadata": {},
   "outputs": [],
   "source": [
    "consumodf[\"alcaldia\"].value_counts()"
   ]
  },
  {
   "cell_type": "markdown",
   "metadata": {},
   "source": [
    "* **CAMBIANDO EL TIPO DE DATOS:** \n",
    "Ahora vamos a cambiar el tipo de datos de algunas columnas con la instrucción **.astype**\n",
    "Iniciamos el proceso revisando el tipo de datos actual de cada columna.\n",
    "\n",
    "  **Sintaxis:** dataFrame.dtypes"
   ]
  },
  {
   "cell_type": "code",
   "execution_count": null,
   "metadata": {},
   "outputs": [],
   "source": [
    "consumodf.dtypes"
   ]
  },
  {
   "cell_type": "markdown",
   "metadata": {},
   "source": [
    "* Vamos a cambiar año y bimestre a tipo string y, la columna \"indice_des\" a categoría aplicando la  instrucción **.astype.**\n",
    " \n",
    " Formateamos las columnas float a 2 decimales\n"
   ]
  },
  {
   "cell_type": "code",
   "execution_count": null,
   "metadata": {},
   "outputs": [],
   "source": [
    "consumodf.round(2)\n",
    "consumodf[\"año\"]=consumodf[\"año\"].astype(str)\n",
    "consumodf[\"bimestre\"]=consumodf[\"bimestre\"].astype(str)\n",
    "consumodf[\"indice_des\"]=consumodf[\"indice_des\"].astype('category')\n",
    "consumodf"
   ]
  },
  {
   "cell_type": "markdown",
   "metadata": {},
   "source": [
    "* Comprobamos el cambio en el tipo de datos"
   ]
  },
  {
   "cell_type": "code",
   "execution_count": null,
   "metadata": {},
   "outputs": [],
   "source": [
    "consumodf.dtypes"
   ]
  },
  {
   "cell_type": "markdown",
   "metadata": {},
   "source": [
    "**VALORES PERDIDOS nan y 0**\n",
    "Ahora revisemos los registros en 0 y los valores perdidos\n",
    "Para recabar la información utilizamos un \"loop\" o iteración en cada columna.\n",
    "* 1) La instrucción **consumodf.columns:** nos da como resultado una lista con los nombres de las columnas\n",
    "* 2) de esta lista vamos seleccionado cada elemento (i) con la instrucción **  for i in consumodf.columns:**\n",
    "* 3) por cada elemento(i) le pedimos a python que imprima (i) y aplique **consumodf[i].value_counts()** instrucción que nos mostrará los valores que toma (i)\n",
    "    "
   ]
  },
  {
   "cell_type": "code",
   "execution_count": null,
   "metadata": {},
   "outputs": [],
   "source": [
    "for i in consumodf.columns:\n",
    "    print (i)\n",
    "    print(consumodf[i].value_counts())"
   ]
  },
  {
   "cell_type": "markdown",
   "metadata": {},
   "source": [
    "* Como podemos observar en casi todas las columnas hay nan y valores 0.\n",
    "\n",
    "* Para **eliminar** los valores en **0 utilizamos la instrucción .drop.**\n",
    "  Apliquemos esta instrucción en una de las columnas de nuestro DataFrame"
   ]
  },
  {
   "cell_type": "code",
   "execution_count": null,
   "metadata": {},
   "outputs": [],
   "source": [
    "consumodf = consumodf.drop(consumodf[consumodf['CPDomestico']==0].index)"
   ]
  },
  {
   "cell_type": "code",
   "execution_count": null,
   "metadata": {},
   "outputs": [],
   "source": [
    "consumodf['CPDomestico'].value_counts()"
   ]
  },
  {
   "cell_type": "markdown",
   "metadata": {},
   "source": [
    "# EJERCICIO : UTIILIZANDO LOS NOMBRES DE LAS COLUMNAS QUE SE MUESTRAN DEBAJO COMPLETA LA INFORMACIÓN FALTANTE PARA ELIMINAR LAS FILAS CON REGISTROS EN 0\n",
    "En este caso vamos a elimiar todas esas filas para ilustrar algunos comandos, ¿tendría sentido eliminar todas las filas con valores en 0 en otro contexto?"
   ]
  },
  {
   "cell_type": "code",
   "execution_count": null,
   "metadata": {},
   "outputs": [],
   "source": [
    "consumodf.columns"
   ]
  },
  {
   "cell_type": "code",
   "execution_count": null,
   "metadata": {},
   "outputs": [],
   "source": [
    "consumodf = consumodf.drop(consumodf[consumodf['CTDomestico']==0].index)\n",
    "consumodf = .drop([consumodf['CPNODomestico']==0].)\n",
    "consumodf = consumodf.drop(consumodf[consumodf['CTNODomestico']==0].index)\n",
    "consumodf = consumodf.drop(consumodf[consumodf['CPMixto']==0].index)\n",
    " = .drop([consumodf['']==0].index)\n",
    "consumodf = consumodf.drop(consumodf[consumodf['consumo_total']==0].index)\n",
    " =(consumodf[consumodf['consumo_prom']==0].)"
   ]
  },
  {
   "cell_type": "markdown",
   "metadata": {},
   "source": [
    "**VALORES PERDIDOS**\n",
    "Iniciaremos este proceso revisando los valores perdidos con .count()"
   ]
  },
  {
   "cell_type": "code",
   "execution_count": null,
   "metadata": {},
   "outputs": [],
   "source": [
    "consumodf.count()"
   ]
  },
  {
   "cell_type": "markdown",
   "metadata": {},
   "source": [
    "* Utilizamos   la instrucción **.dropna** para eliminar las filas con información faltante"
   ]
  },
  {
   "cell_type": "code",
   "execution_count": null,
   "metadata": {},
   "outputs": [],
   "source": [
    "consumodf = consumodf.dropna(how=\"any\")\n",
    "consumodf.count()"
   ]
  },
  {
   "cell_type": "markdown",
   "metadata": {},
   "source": [
    "# GUARDANDO EL DATAFRAME LIMPIO"
   ]
  },
  {
   "cell_type": "markdown",
   "metadata": {},
   "source": [
    "**GUARDAMOS EL DATAFRAME EN UN NUEVO ARCHIVO**\n",
    "\n",
    "Observa que colocamos dos características a nuestra exportación 1)index y 2)header :\n",
    "\n",
    "* **Index False** exportará nuestro DataFRame sin la columna del índice generado por python y\n",
    "* **header True** guardará los nombres de las columnas como encabezados en el csv\n",
    "\n",
    "Siempre es recomendable tener una copia de tus datos limpios."
   ]
  },
  {
   "cell_type": "code",
   "execution_count": null,
   "metadata": {},
   "outputs": [],
   "source": [
    "consumodf.to_csv(\"baseconsumolimpia.csv\",\n",
    "                  encoding=\"utf-8\", index=False, header=True)"
   ]
  },
  {
   "cell_type": "markdown",
   "metadata": {},
   "source": [
    "* Vamos a leer nuevamente los datos, pero ahora desde nuestro archivo limpio, ¿recuerdas como se hace?"
   ]
  },
  {
   "cell_type": "code",
   "execution_count": null,
   "metadata": {},
   "outputs": [],
   "source": [
    "aguacsv=\"baseconsumolimpia.csv\""
   ]
  },
  {
   "cell_type": "code",
   "execution_count": null,
   "metadata": {},
   "outputs": [],
   "source": [
    "consumodf = pd.read_csv(aguacsv,encoding=\"UTF-8\")"
   ]
  },
  {
   "cell_type": "markdown",
   "metadata": {},
   "source": [
    "# RESUMEN DE LA INFORMACIÓN"
   ]
  },
  {
   "cell_type": "markdown",
   "metadata": {},
   "source": [
    "* Vamos a hacer un resumen estadístico del DataFrame con la instrucción **.describe**"
   ]
  },
  {
   "cell_type": "code",
   "execution_count": null,
   "metadata": {},
   "outputs": [],
   "source": [
    "consumodf.describe()"
   ]
  },
  {
   "cell_type": "markdown",
   "metadata": {},
   "source": [
    "**MEAN, MIN Y MAX:** Aunque el resumen  que **.describe** nos muestra  es útil, podemos mejorar la forma en la que presentamos nuestra información\n",
    "* Obtengamos el **promedio deL CONSUMO TOTAL(MEAN), del CONSUMO DOMÉSTICO Y NO DOMÉSTICO, así como sus valores máximos (MAX) y mínimos (MIN)**"
   ]
  },
  {
   "cell_type": "code",
   "execution_count": null,
   "metadata": {},
   "outputs": [],
   "source": [
    "promedio_consumo_total = consumodf[\"consumo_total\"].mean()\n",
    "CTMIN = consumodf[\"consumo_total\"].min()\n",
    "CTMAX= consumodf[\"consumo_total\"].max()\n",
    "promedio_consumo_total_Doméstico = consumodf[\"CTDomestico\"].mean()\n",
    "CDMIN = consumodf[\"CTDomestico\"].min()\n",
    "CDMAX= consumodf[\"CTDomestico\"].max()\n",
    "promedio_consumo_total_NoDoméstico = consumodf[\"CTNODomestico\"].mean()\n",
    "CNDMIN = consumodf[\"CTNODomestico\"].min()\n",
    "CNDMAX= consumodf[\"CTNODomestico\"].max()"
   ]
  },
  {
   "cell_type": "code",
   "execution_count": null,
   "metadata": {},
   "outputs": [],
   "source": [
    "promedio_consumo_total"
   ]
  },
  {
   "cell_type": "code",
   "execution_count": null,
   "metadata": {},
   "outputs": [],
   "source": [
    "CDMIN"
   ]
  },
  {
   "cell_type": "markdown",
   "metadata": {},
   "source": [
    "\n",
    "\n",
    "* **LEN, UNIQUE:** calcularemos también el número total de colonias en la base de datos utilizando **.unique y len()**"
   ]
  },
  {
   "cell_type": "code",
   "execution_count": null,
   "metadata": {},
   "outputs": [],
   "source": [
    "total_colonias = len(consumodf[\"colonia\"].unique())\n",
    "total_colonias"
   ]
  },
  {
   "cell_type": "code",
   "execution_count": null,
   "metadata": {},
   "outputs": [],
   "source": [
    "consumodf[\"colonia\"]"
   ]
  },
  {
   "cell_type": "code",
   "execution_count": null,
   "metadata": {},
   "outputs": [],
   "source": [
    "CNDMAX"
   ]
  },
  {
   "cell_type": "markdown",
   "metadata": {},
   "source": [
    "* Guardemos nuestros cálculos en un nuevo DataFrame\n",
    "\n",
    "**Sintaxis:** nombredataFrame=pd.DataFrame({\"Nombrecolumna\":[nombrevariablecreada],\"Nombrecolumna\":[nombrevariablecreada]})"
   ]
  },
  {
   "cell_type": "code",
   "execution_count": null,
   "metadata": {},
   "outputs": [],
   "source": [
    "\n",
    "resumen = pd.DataFrame({\"Promedio del consumo total\": promedio_consumo_total,\"Colonias\": [total_colonias],\n",
    "                        \"CTotal Min\": [CTMIN],\"CTotal MAx\": [CTMAX],\n",
    "                              \"Promedio del consumo total Doméstico\": [promedio_consumo_total_Doméstico],\n",
    "                               \"CDomestico Min\": [CDMIN],\"CDomestico Max\": [CDMAX],\n",
    "                              \"Promedio del consumo total NO Doméstico\": [promedio_consumo_total_NoDoméstico],\n",
    "                        \"CNDomestico Min\": [CNDMIN],\"CNDomestico Max\": [CNDMAX],})\n",
    "resumen"
   ]
  },
  {
   "cell_type": "markdown",
   "metadata": {},
   "source": [
    "# FILTRADO DE COLUMNAS, RESUMEN DE LA INFORMACIÓN\n",
    "Para nuestros propósitos,probablemente,es mucho más interesante analizar los datos desagregando la información por Alcaldia, bimestre, colonia o categoría del índice de desarrollo.\n",
    "Para llevar a cabo dicho análisis es necesario aplicar filtros y agrupar información"
   ]
  },
  {
   "cell_type": "markdown",
   "metadata": {},
   "source": [
    "#  .ILOC, .LOC\n",
    "Los comandos .iloc y .loc  son útiles para seleccionar información."
   ]
  },
  {
   "cell_type": "markdown",
   "metadata": {},
   "source": [
    "* El método **.ILOC** se utiliza para seleccionar en un DataFrame filas y/o columnas por su **ubicación.**\n",
    "* Se utiliza la sintáxis **dataframe.iloc[ filas , columnas]**\n",
    "  * Por ejemplo vamos a seleccionar en nuestro DataFrame resumen la información del **No. Total de Colonias** presente en la base de datos de consumo de agua. Recuerda que en python se cuenta a partir de 0 tanto filas como columnas, por ello para seleccionar la fila  1,segunda columna colocamos 0, 1"
   ]
  },
  {
   "cell_type": "code",
   "execution_count": null,
   "metadata": {},
   "outputs": [],
   "source": [
    "resumen.iloc[0,1]"
   ]
  },
  {
   "cell_type": "markdown",
   "metadata": {},
   "source": [
    "* Otra opción es seleccionar directamente la columna 2, sin colocar la referencia a la fila(es factible en este caso por que el DataFrame solo contiene 1 fila, este tipo de selección traerá el contenido completo de la columna)\n",
    "**dataframe.iloc[:, columna]**"
   ]
  },
  {
   "cell_type": "code",
   "execution_count": null,
   "metadata": {},
   "outputs": [],
   "source": [
    "resumen.iloc[:,1]"
   ]
  },
  {
   "cell_type": "markdown",
   "metadata": {},
   "source": [
    "* Para seleccionar toda una fila se omite la información de columnas **dataframe.iloc[fila,:]**"
   ]
  },
  {
   "cell_type": "code",
   "execution_count": null,
   "metadata": {},
   "outputs": [],
   "source": [
    "resumen.iloc[0,:]"
   ]
  },
  {
   "cell_type": "markdown",
   "metadata": {},
   "source": [
    " **.LOC:** La selección de información mediante el comando **.loc** puede resultar mucho más interesante\n",
    "* El método .loc puede ser utilizado de  dos formas diferentes: \n",
    " **1)** Para seleccionar filas o columnas mediante una etiqueta y  **2)** Para seleccionar filas que cumplen una condición:\n",
    "    * Para ilustrae el primer caso regresando a nuestro DataFrame de consumo de agua, podemos seleccionar toda la información de la columna \"Consumo promedio doméstico\" haciendo referencia a su etiqueta"
   ]
  },
  {
   "cell_type": "code",
   "execution_count": null,
   "metadata": {},
   "outputs": [],
   "source": [
    "consumodf.loc[:, 'CPDomestico']"
   ]
  },
  {
   "cell_type": "markdown",
   "metadata": {},
   "source": [
    "* Podemos seleccionar diversas columnas, pasando como parámetro un arreglo con los nombres de las columnas\n",
    "* El resultado al utilizar .loc es un DataFrame"
   ]
  },
  {
   "cell_type": "code",
   "execution_count": null,
   "metadata": {},
   "outputs": [],
   "source": [
    "consumodf.loc[:, ['CPDomestico','CTDomestico','CPNODomestico','CTNODomestico']]"
   ]
  },
  {
   "cell_type": "markdown",
   "metadata": {},
   "source": [
    "* Podríamos limitar la consulta a un número determinado de filas, por las primeras 5"
   ]
  },
  {
   "cell_type": "code",
   "execution_count": null,
   "metadata": {},
   "outputs": [],
   "source": [
    "consumodf.loc[10:14:,['CPDomestico','CTDomestico','CPNODomestico','CTNODomestico']]"
   ]
  },
  {
   "cell_type": "markdown",
   "metadata": {},
   "source": [
    "**2)** seleccionar filas o columnas que cumplen una condición.\n",
    "* Supongamos que estamos interesados en seleccionar la información de una colonia en particular para analizar los distintos tipos de consumos de agua"
   ]
  },
  {
   "cell_type": "code",
   "execution_count": null,
   "metadata": {},
   "outputs": [],
   "source": [
    "copilcoU=consumodf.loc[consumodf.loc[:, 'colonia'] == \"COPILCO UNIVERSIDAD\"]\n",
    "copilcoU"
   ]
  },
  {
   "cell_type": "markdown",
   "metadata": {},
   "source": [
    "* También podemos seleccionar filas que cumplan varias condiciones;\n",
    "por ejemplo la información de la colonia  COPILCO UNIVERSIDAD para el segundo y tercer bimestre\n"
   ]
  },
  {
   "cell_type": "code",
   "execution_count": null,
   "metadata": {},
   "outputs": [],
   "source": [
    "copilcoU2=consumodf.loc[(consumodf.loc[:, 'colonia'] != \"COPILCO UNIVERSIDAD\")&((consumodf['bimestre'] <=2))]\n",
    "copilcoU2"
   ]
  },
  {
   "cell_type": "code",
   "execution_count": null,
   "metadata": {},
   "outputs": [],
   "source": [
    "copilcoU3 = copilcoU.loc[copilcoU.loc[:, 'bimestre'] == 2]\n",
    "copilcoU3"
   ]
  },
  {
   "cell_type": "markdown",
   "metadata": {},
   "source": [
    "# ORDENANDO LOS DATOS "
   ]
  },
  {
   "cell_type": "markdown",
   "metadata": {},
   "source": [
    "**SORT**\n",
    "* Observando los datos, identificamos que la información de las columna bimestre aparece de forma desordenada combinando 2 y 3\n",
    "* Podemos ordenar los datos del DataFrame copilcoU2 "
   ]
  },
  {
   "cell_type": "code",
   "execution_count": null,
   "metadata": {},
   "outputs": [],
   "source": [
    "copilcoU2ordenado= copilcoU2.sort_values([\"CPNODomestico\"], ascending=True)\n",
    "copilcoU2ordenado.head()\n"
   ]
  },
  {
   "cell_type": "markdown",
   "metadata": {},
   "source": [
    "* Inclusive podemos **ordenar los datos por más de una columna**"
   ]
  },
  {
   "cell_type": "code",
   "execution_count": null,
   "metadata": {},
   "outputs": [],
   "source": [
    "copilcoU2ordenado= copilcoU2.sort_values([\"bimestre\",\"indice_des\"], ascending=True)\n",
    "copilcoU2ordenado.head()"
   ]
  },
  {
   "cell_type": "code",
   "execution_count": null,
   "metadata": {},
   "outputs": [],
   "source": [
    "consumodf['indice_des']"
   ]
  },
  {
   "cell_type": "markdown",
   "metadata": {},
   "source": [
    "# AGRUPANDO CON GROUP BY\n",
    "Es posible que estemos interesado en analizar los datos desde el punto de vista de algún tipo de agrupación presente en los datos.\n",
    "\n",
    "Por ejemplo **analizar por separado la información de las colonias etiquetadas con un índice de desarrollo \"ALTO\" vs las etiquetadas con un índice de desarrollo \"BAJO\".**\n",
    "\n",
    "Para realizar este tipo de análisis vamos a utilizar la instrucción **group.by**"
   ]
  },
  {
   "cell_type": "markdown",
   "metadata": {},
   "source": [
    "* Vamos a analizar los datos del DataFrame consumodf para comparar los consumos de agua de las colonias según su  índice desarrollo\n",
    "* **La instrucción .groupby crea un objeto, a partir del cual podremos obtener información de los grupos** "
   ]
  },
  {
   "cell_type": "code",
   "execution_count": null,
   "metadata": {},
   "outputs": [],
   "source": [
    "gruposdesarrollo=consumodf.groupby(['indice_des'])\n",
    "gruposdesarrollo"
   ]
  },
  {
   "cell_type": "markdown",
   "metadata": {},
   "source": [
    "**.GROUP.KEYS** Esta instrucción mostrará los grupos que se identifican en el DataFrame a partir de los valores únicos presentes en la columna"
   ]
  },
  {
   "cell_type": "code",
   "execution_count": null,
   "metadata": {},
   "outputs": [],
   "source": [
    "consumodf.groupby(['indice_des']).groups.keys()"
   ]
  },
  {
   "cell_type": "code",
   "execution_count": null,
   "metadata": {},
   "outputs": [],
   "source": [
    "gruposdesarrollo.groups.keys()"
   ]
  },
  {
   "cell_type": "markdown",
   "metadata": {},
   "source": [
    "* Si queremos saber **cuántos elementos integran cada grupo** podemos utilizar la instruccion **len** y la etiqueta del grupo "
   ]
  },
  {
   "cell_type": "code",
   "execution_count": null,
   "metadata": {},
   "outputs": [],
   "source": [
    "alto=len(consumodf.groupby(['indice_des']).groups['ALTO'])\n",
    "bajo=len(consumodf.groupby(['indice_des']).groups['BAJO'])\n",
    "medio=len(consumodf.groupby(['indice_des']).groups['MEDIO'])\n",
    "popular=len(consumodf.groupby(['indice_des']).groups['POPULAR'])\n",
    "alto,medio,bajo,popular"
   ]
  },
  {
   "cell_type": "markdown",
   "metadata": {},
   "source": [
    "**.GROUPBY .MEAN** Podemos obtener el promedio de consumo total por cada grupo"
   ]
  },
  {
   "cell_type": "code",
   "execution_count": null,
   "metadata": {},
   "outputs": [],
   "source": [
    "consumodf.groupby('indice_des')['consumo_total'].mean()"
   ]
  },
  {
   "cell_type": "markdown",
   "metadata": {},
   "source": [
    "**.GROUPBY .NUNIQUE:** Podemos obtener el numero total de colonias que se incluyen en cada grupo"
   ]
  },
  {
   "cell_type": "code",
   "execution_count": null,
   "metadata": {},
   "outputs": [],
   "source": [
    "consumodf.groupby('indice_des')[\"colonia\"].nunique()"
   ]
  },
  {
   "cell_type": "markdown",
   "metadata": {},
   "source": [
    "# MERGE\n",
    "Un problema común en el análisis de datos es la necesidad de tener que incorporar nueva información.\n",
    "Python cuenta con varios métodos para realizar esta tarea, cada uno es útil dependiendo cómo queremos incluir nuestra información y la estructura de los datos a los que la anexaremos.\n",
    "\n"
   ]
  },
  {
   "cell_type": "markdown",
   "metadata": {},
   "source": [
    "* Para identificar si los consumos de agua son altos o bajos, debemos considerar alguna medida que nos permita tener referencia, por ejemplo los litros consumidos por el número de habitantes de la alacldia\n",
    " nuestra información no contiene datos sobre la población, por lo que debemos incorporar este dato.\n",
    "* Tomamos información sobre las proyecciones de población que realiza CONAPO, estos datos están a nivel alcaldia , por lo que primero debemos obtener un DataFrame con la información resumida a ese nivel\n",
    "* Despues vamos a unir la información de población mediante el comando .merge y realizaremos algunos cálculos para analizar los consumos de agua:\n",
    "\n",
    "**1)** consideremos inicialmente únicamente la información de los consumos tootales"
   ]
  },
  {
   "cell_type": "code",
   "execution_count": null,
   "metadata": {},
   "outputs": [],
   "source": [
    "consumototalc=consumodf.groupby('alcaldia')['CTDomestico','CTNODomestico','CTMixto','consumo_total'].sum()\n",
    "consumototalc"
   ]
  },
  {
   "cell_type": "markdown",
   "metadata": {},
   "source": [
    "**2** Vamos a leer los datos de nuestro archivo de población**"
   ]
  },
  {
   "cell_type": "code",
   "execution_count": null,
   "metadata": {},
   "outputs": [],
   "source": [
    "poblacioncsv =\"proyeccionespoblac2019alcaldias.csv\"\n",
    "poblac2019cdmx= pd.read_csv(poblacioncsv,encoding=\"UTF-8\")\n",
    "poblac2019cdmx"
   ]
  },
  {
   "cell_type": "code",
   "execution_count": null,
   "metadata": {},
   "outputs": [],
   "source": [
    "dataframecompleto = pd.merge(poblac2019cdmx, consumototalc, how='outer', on='alcaldia')\n",
    "dataframecompleto "
   ]
  },
  {
   "cell_type": "markdown",
   "metadata": {},
   "source": [
    "* Calcularemos el consumo total/la población total de la alcaldia y agregaremos esta información como una nueva columna"
   ]
  },
  {
   "cell_type": "code",
   "execution_count": null,
   "metadata": {},
   "outputs": [],
   "source": [
    "CTpPobtot = dataframecompleto [\"consumo_total\"]/dataframecompleto [\"Pob_Tot2019\"]\n",
    "dataframecompleto[\"CTpPobtot\"] = CTpPobtot\n",
    "dataframecompleto"
   ]
  },
  {
   "cell_type": "code",
   "execution_count": null,
   "metadata": {},
   "outputs": [],
   "source": [
    "dataframecompleto[\"CTpPobtot\"].describe().round()"
   ]
  },
  {
   "cell_type": "markdown",
   "metadata": {},
   "source": [
    "**BINING**\n",
    "\n",
    "Vamos a dividir nuestros datos en distintas categorías a partir de la información  de el Consumo TOtal/Población\n",
    "para ello utilizaremos el comando **pd.cut y la instrucción bins**\n",
    "Los bins deben considerar el rango completo de la variable que vamos a categorizar(cada bin establece el límite de la categiría)\n",
    "Los nombres de los grupos deben ser no.bins-1."
   ]
  },
  {
   "cell_type": "code",
   "execution_count": null,
   "metadata": {},
   "outputs": [],
   "source": [
    "bins = [0, 3, 6, 13, 23, 34]\n",
    "group_names = [\"MUY BAJO\", \"BAJO\", \"MEDIO\", \"ALTO\", \"MUY ALTO\"]\n",
    "dataframecompleto[\"Categoriaconsumo\"] = pd.cut(dataframecompleto[\"CTpPobtot\"], bins, labels=group_names)\n",
    "dataframecompleto"
   ]
  },
  {
   "cell_type": "code",
   "execution_count": null,
   "metadata": {},
   "outputs": [],
   "source": [
    "#Guardemos nuestro DataFrame en un nuevo csv\n",
    "dataframecompleto.to_csv(\"basecompletaconpob.csv\",  encoding=\"utf-8\", index=False, header=True)"
   ]
  },
  {
   "cell_type": "markdown",
   "metadata": {},
   "source": [
    "# OPERADORES Y CONDICIONALES "
   ]
  },
  {
   "cell_type": "markdown",
   "metadata": {},
   "source": [
    "*Para realizar comparaciones en Python se utilizan diversos operadores, entre los más comúnes\n",
    "se encuentran:\n",
    "\n",
    "**== igual**\n",
    "\n",
    "**!= distinto de** \n",
    "\n",
    "**<*menor que**\n",
    "\n",
    "**> mayor que** \n",
    "\n",
    "**>= mayor o igual que**\n",
    "\n",
    "**and** \n",
    "\n",
    "**or**"
   ]
  },
  {
   "cell_type": "markdown",
   "metadata": {},
   "source": [
    "#### **IF**\n",
    "\n",
    "La instrucción **IF en conjunto con los operadores lógicos** permiten que un programa ejecute una o más  instrucciones al al cumplirse una condición.\n",
    "\n",
    "**La sintaxis de la instrucción if es la siguiente:**\n",
    "\n",
    "   * Se establecen los valores de las variables a comparar (sí aplica).\n",
    "    \n",
    "   * Se evalúa la condición IF\n",
    "    \n",
    "   * Sí el resultado es **True** se ejecuta el bloque de sentencias\n",
    "    \n",
    "   * Sí el resultado es **False** no se ejecuta el bloque de sentencias."
   ]
  },
  {
   "cell_type": "code",
   "execution_count": null,
   "metadata": {},
   "outputs": [],
   "source": [
    "#EJEMPLO\n",
    "x = 1\n",
    "y = 1\n",
    "if x == y:\n",
    "    print(\"x is equal to y\")\n",
    "    x = (x)+1\n",
    "    y= (y)+1\n",
    "    print(x)\n",
    "    print(y)"
   ]
  },
  {
   "cell_type": "code",
   "execution_count": null,
   "metadata": {},
   "outputs": [],
   "source": [
    "#EJEMPLO\n",
    "x = 1\n",
    "y = 2\n",
    "if x == y:\n",
    "    print(\"x is equal to y\")\n",
    "    x = (x)+1\n",
    "    y= (y)+1\n",
    "    print(x)\n",
    "    print(y)"
   ]
  },
  {
   "cell_type": "markdown",
   "metadata": {},
   "source": [
    "#### **IF ELSE** --  IF ANIDADOS CON MÁS DE DOS CONDICIONES"
   ]
  },
  {
   "cell_type": "markdown",
   "metadata": {},
   "source": [
    "**IF, ELIF, ELSE** \n",
    "Estas tres instrucciones  permiten establecer instrucciones para **más de un escenario.**\n",
    "Cuando sólo teníamos IF,  establecimos condiciones para el caso en el que la evaluación de IF da como resultado \"True\", al agregar ELSE podemos establecer instrucciones para el caso en el que la evaluación de IF da como resultado \"False\"\n",
    "\n",
    "Si además añadimos ELIF(contracción de else if) estamos incluyendo un escenario adicional para comparar nuestras variables."
   ]
  },
  {
   "cell_type": "code",
   "execution_count": null,
   "metadata": {},
   "outputs": [],
   "source": [
    "#EJEMPLO 1 IF ELSE\n",
    "x = 1\n",
    "y = 10\n",
    "if x == y:#La primera línea contiene la condición a evaluar y es una expresión lógica. Esta línea debe terminar siempre por dos puntos (:).\n",
    "    print(\"x is equal to y\")#loque de órdenes que se ejecutan cuando la condición se cumple (es decir, cuando la condición es verdadera). \n",
    "else:#si la condición anterior no se cumple\n",
    "     print(\"x is not equal to y\")\n"
   ]
  },
  {
   "cell_type": "code",
   "execution_count": null,
   "metadata": {},
   "outputs": [],
   "source": [
    "#EJEMPLO 2 IF ELIF ELSE\n",
    "x = 100\n",
    "y = 100\n",
    "if x > y:#condición_1:\n",
    "    print(\"x es mayor\") #bloque 1\n",
    "elif x < y: #condición_2:\n",
    "    print(\"x es menor\") #bloque 2\n",
    "else:\n",
    "    print(\"x es igual a y\")#bloque 3\n"
   ]
  },
  {
   "cell_type": "markdown",
   "metadata": {},
   "source": [
    "# LOOPS/CICLOS FOR,  WHILE\n",
    "Un For Loop o ciclo for, recorre cada uno de los elementos de una lista y ejecuta por cada elemento la condición establecida.\n",
    "\n",
    "**Ejemplo 1 For Loop en un rango de números**, si sólo se provee un número, se ejecutara la condición desde 0 hasta el número provisto"
   ]
  },
  {
   "cell_type": "code",
   "execution_count": null,
   "metadata": {},
   "outputs": [],
   "source": [
    "for x in range(10):\n",
    "    print(x)"
   ]
  },
  {
   "cell_type": "markdown",
   "metadata": {},
   "source": [
    "**Ejemplo 2 For Loop en un rango entre dos números,** si provee un número inicial y uno final , se ejecutara la condición hasta alcanzar el número final"
   ]
  },
  {
   "cell_type": "code",
   "execution_count": null,
   "metadata": {},
   "outputs": [],
   "source": [
    "for x in range(20, 30):\n",
    "    print(x)"
   ]
  },
  {
   "cell_type": "markdown",
   "metadata": {},
   "source": [
    "**Ejemplo 3 For Loop en un una lista** si se provee una lista, la instrucción se ejecutará por cada elemento dentro de la lista "
   ]
  },
  {
   "cell_type": "code",
   "execution_count": null,
   "metadata": {},
   "outputs": [],
   "source": [
    "palabras= [\"Sandía\", \"Canela\", \"Azul\", \"Tiempo\", \"Ayer\", \"Hoy\"]\n",
    "for palabra in palabras:\n",
    "    print(palabra)\n"
   ]
  },
  {
   "cell_type": "markdown",
   "metadata": {},
   "source": [
    "**Ejemplo 4 While Loop**  Este tipo de ciclos continuará ejecutando la instrucción establecida hasta que se cumple cierta condición"
   ]
  },
  {
   "cell_type": "code",
   "execution_count": null,
   "metadata": {},
   "outputs": [],
   "source": [
    "x = \"A\"\n",
    "while x == \"A\":\n",
    "    print(\"Primera letra del Abecedario\")\n",
    "    x = input(\"Introduce otra letra \")\n"
   ]
  },
  {
   "cell_type": "markdown",
   "metadata": {},
   "source": [
    "# EJERCICIOS \n",
    "Completa la información necesaria para ejecutar los siguientes Loops"
   ]
  },
  {
   "cell_type": "code",
   "execution_count": null,
   "metadata": {},
   "outputs": [],
   "source": [
    "#Ejecuta  un rango de números (0 al 4)\n",
    "for x in range():\n",
    "    print(x)\n",
    "    print(\"Muy bien,entendiste el ejericio!\")"
   ]
  },
  {
   "cell_type": "code",
   "execution_count": null,
   "metadata": {},
   "outputs": [],
   "source": [
    "#Ejecuta un loop de números del 2 al 6 inclusive\n",
    " x in range(, ):\n",
    "    print(x)"
   ]
  },
  {
   "cell_type": "code",
   "execution_count": null,
   "metadata": {},
   "outputs": [],
   "source": [
    "#Itera cada una de las letras en una palabra\n",
    "palabra = \"Econometría\"\n",
    "for letra in palabra:\n",
    "    print(letra)"
   ]
  },
  {
   "cell_type": "code",
   "execution_count": null,
   "metadata": {},
   "outputs": [],
   "source": [
    "#Itera cada uno de los elementos en una lista\n",
    "canasta = [\"leche\", \"carne\", \"jitomate\", \"lechuga\"]\n",
    "for  in :\n",
    "    print()"
   ]
  },
  {
   "cell_type": "code",
   "execution_count": null,
   "metadata": {},
   "outputs": [],
   "source": [
    "# Ejecuta la instrucción hasta que se cumpla una  a condition\n",
    "run = \"y\"\n",
    "while run == \"y\":\n",
    "    print(\"Hi!\")\n",
    "    run = input(\"To run again. Enter 'y'\")"
   ]
  },
  {
   "cell_type": "markdown",
   "metadata": {},
   "source": [
    "**LIST COMPREHENSION**\n",
    "Permite crear listas de forma simplificada y con menor cantidad de código.\n",
    "El resultado siempres será una lista.\n",
    "\n",
    "**Ejemplo 1:** Queremos guardar cada una de las letras que componen una palabra en una lista para cambiarla a mayúscula e imprimir todas las letras.\n",
    "Como ya hemos visto, podemos utilizar un ciclo for para este propósito"
   ]
  },
  {
   "cell_type": "code",
   "execution_count": null,
   "metadata": {},
   "outputs": [],
   "source": [
    "palabra = \"Parangaricutirimicuaro\" # guardamos en una variable nuestra palabra\n",
    "letras = [] #creamos una lista vacia en la que se van a ir agregando las letras de nuestra palabra\n",
    "for letra in palabra:# iniciamos nuestro ciclo for\n",
    "        letras.append(letra.upper()) # letra.upper(convierte a mayúscula la letra dentro del ciclo)\n",
    "                                     # letras.append(listavacia.append esta instrucción \"agrega\" la letra en mayúscula a la lista llamada letras)\n",
    "print(letras)"
   ]
  },
  {
   "cell_type": "markdown",
   "metadata": {},
   "source": [
    "* Con **LIST COMPREHENSION** podemos ejecutar la misma tarea con un código simplificado\n",
    "\n",
    "**Sintaxis:** variable para guardar la lista = [Expresion para aplicar a cada elemento() ciclo for]"
   ]
  },
  {
   "cell_type": "code",
   "execution_count": null,
   "metadata": {},
   "outputs": [],
   "source": [
    "palabra = \"Parangaricutirimicuaro\"\n",
    "letras = [letra.upper() for letra in palabra]\n",
    "print(letras)"
   ]
  },
  {
   "cell_type": "markdown",
   "metadata": {},
   "source": [
    "**Ejemplo 2: For en un rango**\n",
    "Obtengamos el cuadrado de los número pares que hay en un rango del 0 al 9"
   ]
  },
  {
   "cell_type": "code",
   "execution_count": null,
   "metadata": {},
   "outputs": [],
   "source": [
    "# variable para guardar la lista = [Expresion para aplicar a cada elemento() ciclo for range]   \n",
    "cuadrados_pares = [num**2 for num in range(10) if num % 2 == 0]\n",
    "print(cuadrados_pares)"
   ]
  },
  {
   "cell_type": "markdown",
   "metadata": {},
   "source": [
    "**Ejemplo 3: For IF**\n",
    "\n",
    "Podemos añadir un condicional (if) a un list comprehension.\n",
    "\n",
    "* Supongamos que queremos un listado de las temperaturas más altas en una semana del mes de julio (mayores a 26 grados)\n",
    "Tenemos un listado con el registro de temperaturas de cada día de la semana.\n",
    "Con un clico for e If podemos seleccionar las temperaturas de los días más calurosos."
   ]
  },
  {
   "cell_type": "code",
   "execution_count": null,
   "metadata": {},
   "outputs": [],
   "source": [
    "temperatura_semanal= [27, 25, 22, 29, 30,26,32]\n",
    "días_calurosos = []\n",
    "for temperatura in temperatura_semanal:\n",
    "    if temperatura > 26:\n",
    "        días_calurosos.append(temperatura)\n",
    "print(días_calurosos)"
   ]
  },
  {
   "cell_type": "markdown",
   "metadata": {},
   "source": [
    "* Podemos hacer la misma selección utilizando list comprehension"
   ]
  },
  {
   "cell_type": "code",
   "execution_count": null,
   "metadata": {},
   "outputs": [],
   "source": [
    "temperatura_semanal= [27, 25, 22, 29, 30,26,32]\n",
    "días_calurosos = [temperatura for temperatura in temperatura_semanal if temperatura > 26]\n",
    "\n",
    "print(días_calurosos)"
   ]
  },
  {
   "cell_type": "markdown",
   "metadata": {},
   "source": [
    "* Utilizando **IF, CICLOS FOR Y LIST COMPRENHENSION** en PANDAS"
   ]
  },
  {
   "cell_type": "code",
   "execution_count": null,
   "metadata": {},
   "outputs": [],
   "source": [
    "#Creamos un DataFrame de prueba\n",
    "import pandas as pd\n",
    "datos = {'nombre': ['Francisco', 'Julieta', 'Marcela', 'Joaquin', 'Carlos'], \n",
    "        'año': [2012, 2012, 2013, 2014, 2014], \n",
    "        'calificacion': [9, 7, 8, 10, 8]}\n",
    "df = pd.DataFrame(datos)\n",
    "df"
   ]
  },
  {
   "cell_type": "markdown",
   "metadata": {},
   "source": [
    "**Creando una nueva columna con IF** \n",
    "* Estructura df.loc[df['nombre_columna'] condicion, 'nombre_nueva_columna'] = 'valor si la condición se cumple'\n",
    "  Estructura df.loc[df['nombre_columna'] condicion, 'nombre_nueva_columna'] = 'valor si la condición  NO se cumple'"
   ]
  },
  {
   "cell_type": "code",
   "execution_count": null,
   "metadata": {},
   "outputs": [],
   "source": [
    "df.loc[df['año'] > 2012 , '+2012'] = 'Verdadero' \n",
    "df.loc[df['año'] <= 2012, '+2012'] = 'Falso' \n",
    "df"
   ]
  },
  {
   "cell_type": "markdown",
   "metadata": {},
   "source": [
    "**Ciclo for en pandas**"
   ]
  },
  {
   "cell_type": "code",
   "execution_count": null,
   "metadata": {},
   "outputs": [],
   "source": [
    "import numpy as np\n",
    "# Iteración por columnas del DataFrame:\n",
    "cols=df.columns\n",
    "upp=[]\n",
    "for col in cols:\n",
    "    upp.append(col.upper())\n",
    "print(upp)"
   ]
  },
  {
   "cell_type": "code",
   "execution_count": null,
   "metadata": {},
   "outputs": [],
   "source": [
    "# Iteración por filas del DataFrame:\n",
    "for indice_fila, fila in df.iterrows():\n",
    "    print(indice_fila)\n",
    "    print(fila)"
   ]
  },
  {
   "cell_type": "markdown",
   "metadata": {},
   "source": [
    "**Ejemplo List Comprehensions**\n",
    "* Vamos a crear una columna nueva de **\"año anterior\"** restaremos 1 a la columna año utilizando list comprehension.\n",
    "\n",
    "* **Sintaxis** nombredataframe[nombrecolumna] =[ciclo for para cada fila en la columna [nombrecolumna]]"
   ]
  },
  {
   "cell_type": "code",
   "execution_count": null,
   "metadata": {},
   "outputs": [],
   "source": [
    "df['año_anterior'] = [row-1 for row in df['año']]\n",
    "df"
   ]
  },
  {
   "cell_type": "code",
   "execution_count": null,
   "metadata": {},
   "outputs": [],
   "source": []
  }
 ],
 "metadata": {
  "kernelspec": {
   "display_name": "Python 3",
   "language": "python",
   "name": "python3"
  },
  "language_info": {
   "codemirror_mode": {
    "name": "ipython",
    "version": 3
   },
   "file_extension": ".py",
   "mimetype": "text/x-python",
   "name": "python",
   "nbconvert_exporter": "python",
   "pygments_lexer": "ipython3",
   "version": "3.7.5"
  }
 },
 "nbformat": 4,
 "nbformat_minor": 2
}
