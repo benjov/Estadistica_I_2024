{
 "cells": [
  {
   "cell_type": "markdown",
   "metadata": {},
   "source": [
    "# INTRODUCCIÓN A PANDAS"
   ]
  },
  {
   "cell_type": "markdown",
   "metadata": {},
   "source": [
    "###### Los datos consultados en este notebook proceden de :https://datos.cdmx.gob.mx/explore/dataset/consumo-agua/export/ y\n",
    "https://www.gob.mx/cms/uploads/attachment/file/503374/Diccionario_Proyecciones_de_la_Poblacion_2016_2050.pdf"
   ]
  },
  {
   "cell_type": "markdown",
   "metadata": {},
   "source": [
    "**PANDAS** es una biblioteca de python utilizada para  manipular y análizar  datos. El nombre deriva del término \"panel data\" (datos panel).\n",
    "\n",
    "La estructura básica de **PANDAS** es el DataFrame.\n",
    "\n",
    "Un **DataFrame** es un objeto bidimensional (tabla) que puede tener columnas con diferentes tipos de información. Los diferentes tipos de entradas incluyen diccionarios, listas, series e incluso otro DataFrame."
   ]
  },
  {
   "cell_type": "markdown",
   "metadata": {},
   "source": [
    "**1) IMPORTAR LA BIBLIOTECA**: Para utilizar PANDAS es necesario importar esta biblioteca así como Numpy"
   ]
  },
  {
   "cell_type": "code",
   "execution_count": 1,
   "metadata": {},
   "outputs": [],
   "source": [
    "import pandas as pd\n",
    "import numpy as np"
   ]
  },
  {
   "cell_type": "markdown",
   "metadata": {},
   "source": [
    "# OJO: CORRE ESTA CELDA SÓLO EN CASO DE QUE LA INSTRUCCION PARA IMPORTAR PANDAS FALLE. DESPUÉS VUELVE A CORRER 1)"
   ]
  },
  {
   "cell_type": "code",
   "execution_count": null,
   "metadata": {},
   "outputs": [],
   "source": [
    "#!pip install pip\n",
    "#!pip install pandas\n",
    "#!pip install numpy"
   ]
  },
  {
   "cell_type": "markdown",
   "metadata": {},
   "source": [
    "**2) DISTINTAS FORMAS DE CREAR UN DATAFRAME**"
   ]
  },
  {
   "cell_type": "markdown",
   "metadata": {},
   "source": [
    "**A) De una lista a un Serie:**\n",
    "\n",
    "Para crear la serie debemos creamos una variable que contendrá los elementos de la serie, utilizar la instrucción que le indica a PANDAS que el contenido es una serie, y guardar los elementos de la serie entre paréntesis y corchete.\n",
    "\n",
    "*Instrucción: pd.Series*\n",
    "\n",
    "*Sintaxis: nombrevariable =Instrucción([elemento1,elemento2,....elementon]*\n",
    "\n",
    "Por ejemplo, vamos a crear una serie con la lista de tus materias."
   ]
  },
  {
   "cell_type": "code",
   "execution_count": 5,
   "metadata": {},
   "outputs": [
    {
     "data": {
      "text/plain": [
       "0          Historia\n",
       "1    Estadística II\n",
       "2       Econometría\n",
       "3         Filosofía\n",
       "4        Literatura\n",
       "dtype: object"
      ]
     },
     "execution_count": 5,
     "metadata": {},
     "output_type": "execute_result"
    }
   ],
   "source": [
    "data_series = pd.Series([\"Historia\", \"Estadística II\", \"Econometría\",\n",
    "                         \"Filosofía\", \"Literatura\"])\n",
    "data_series"
   ]
  },
  {
   "cell_type": "markdown",
   "metadata": {},
   "source": [
    "**B) De una lista de diccionarios a DataFrame:** \n",
    "\n",
    "Un listado de diccionarios puede convertirse en un DataFrame utilizando la **Instrucción pd.DataFrame.** Primero asiganos la lista de diccionarios a una variable y luego aplicamos la instrucción pd. Dataframe a dicha variable.\n",
    "\n",
    "*Instrucción: pd. Dataframe*\n",
    "\n",
    "*Sintaxis: nombredataframe=Instruccion(variable que contiene la lista de diccionarios)*\n",
    "    \n",
    "Un ejemplo clásico es la información de  los Estados de la Republica y su clave en INEGI    \n",
    " "
   ]
  },
  {
   "cell_type": "code",
   "execution_count": 6,
   "metadata": {},
   "outputs": [
    {
     "data": {
      "text/html": [
       "<div>\n",
       "<style scoped>\n",
       "    .dataframe tbody tr th:only-of-type {\n",
       "        vertical-align: middle;\n",
       "    }\n",
       "\n",
       "    .dataframe tbody tr th {\n",
       "        vertical-align: top;\n",
       "    }\n",
       "\n",
       "    .dataframe thead th {\n",
       "        text-align: right;\n",
       "    }\n",
       "</style>\n",
       "<table border=\"1\" class=\"dataframe\">\n",
       "  <thead>\n",
       "    <tr style=\"text-align: right;\">\n",
       "      <th></th>\n",
       "      <th>ESTADO</th>\n",
       "      <th>CLAVEINEGIESTADO</th>\n",
       "    </tr>\n",
       "  </thead>\n",
       "  <tbody>\n",
       "    <tr>\n",
       "      <th>0</th>\n",
       "      <td>AGUASCALIENTES</td>\n",
       "      <td>01</td>\n",
       "    </tr>\n",
       "    <tr>\n",
       "      <th>1</th>\n",
       "      <td>ZACATECAS</td>\n",
       "      <td>32</td>\n",
       "    </tr>\n",
       "  </tbody>\n",
       "</table>\n",
       "</div>"
      ],
      "text/plain": [
       "           ESTADO CLAVEINEGIESTADO\n",
       "0  AGUASCALIENTES               01\n",
       "1       ZACATECAS               32"
      ]
     },
     "execution_count": 6,
     "metadata": {},
     "output_type": "execute_result"
    }
   ],
   "source": [
    "# Convertir una lista de diccionarios a DataFrame\n",
    "#Sintaxis: nombrelistadic = [{\"KEY\":\"VALUE\",\"KEY\":VALUE\"},{\"KEY\":\"VALUE\",\"KEY\":VALUE\"}]\n",
    "#nombredataFrame=pd.Dataframe(nombrelistadic)\n",
    "\n",
    "listadiccionario = [{\"ESTADO\": \"AGUASCALIENTES\", \"CLAVEINEGIESTADO\":\"01\"},\n",
    "                {\"ESTADO\": \"ZACATECAS\", \"CLAVEINEGIESTADO\":\"32\"}]\n",
    "\n",
    "df_estados = pd.DataFrame(listadiccionario)\n",
    "df_estados"
   ]
  },
  {
   "cell_type": "markdown",
   "metadata": {},
   "source": [
    "**C) De un diccionario de listas a un DataFrame**\n",
    "\n",
    "Un diccionario creado a partir de varias listas puede convertirse en un DataFrame con la instrucción **pd.DataFrame**\n",
    "\n",
    "*Sintaxis: nombredataFrame=pd.Dataframe({\"lista1\":[elemento 1,elemento 2,...,elemento n],\"lista2\":[elemento 1,elemento 2,...,elemento n],\"lista n\":[elemento n1,elemento n2,...,elemento nn]})*\n"
   ]
  },
  {
   "cell_type": "code",
   "execution_count": 7,
   "metadata": {},
   "outputs": [
    {
     "data": {
      "text/html": [
       "<div>\n",
       "<style scoped>\n",
       "    .dataframe tbody tr th:only-of-type {\n",
       "        vertical-align: middle;\n",
       "    }\n",
       "\n",
       "    .dataframe tbody tr th {\n",
       "        vertical-align: top;\n",
       "    }\n",
       "\n",
       "    .dataframe thead th {\n",
       "        text-align: right;\n",
       "    }\n",
       "</style>\n",
       "<table border=\"1\" class=\"dataframe\">\n",
       "  <thead>\n",
       "    <tr style=\"text-align: right;\">\n",
       "      <th></th>\n",
       "      <th>Delegación</th>\n",
       "      <th>Claveinegi</th>\n",
       "      <th>Población</th>\n",
       "    </tr>\n",
       "  </thead>\n",
       "  <tbody>\n",
       "    <tr>\n",
       "      <th>0</th>\n",
       "      <td>Coyoacán</td>\n",
       "      <td>090030001</td>\n",
       "      <td>620,416</td>\n",
       "    </tr>\n",
       "    <tr>\n",
       "      <th>1</th>\n",
       "      <td>Miguel Hidalgo</td>\n",
       "      <td>090160001</td>\n",
       "      <td>372,889</td>\n",
       "    </tr>\n",
       "  </tbody>\n",
       "</table>\n",
       "</div>"
      ],
      "text/plain": [
       "       Delegación Claveinegi Población\n",
       "0        Coyoacán  090030001   620,416\n",
       "1  Miguel Hidalgo  090160001   372,889"
      ]
     },
     "execution_count": 7,
     "metadata": {},
     "output_type": "execute_result"
    }
   ],
   "source": [
    "dfpoblacion = pd.DataFrame(\n",
    "    {\"Delegación\": [\"Coyoacán\", \"Miguel Hidalgo\"],\n",
    "     \"Claveinegi\": [\"090030001\", \"090160001\"],\n",
    "     \"Población\": [\"620,416\", \"372,889\"]})\n",
    "dfpoblacion"
   ]
  },
  {
   "cell_type": "markdown",
   "metadata": {},
   "source": [
    "# EJERCICIO"
   ]
  },
  {
   "cell_type": "code",
   "execution_count": null,
   "metadata": {},
   "outputs": [],
   "source": [
    "# Crea un  DataFrame a partir de un diccionario de listas completando la información faltante\n",
    "# = pd.DataFrame({\n",
    "   # \"\": [\"Carlos\", \"\", \"Rosa\", , \"Luis\"],\n",
    "    #\"Edad\": [15.00, 12.50, 10.00, 5.00, 1.00],\n",
    "    # [1.75, 1.68, 1.64, 1.72, \"N/D\"]\n",
    "#})\n"
   ]
  },
  {
   "cell_type": "markdown",
   "metadata": {},
   "source": [
    "**D) Crear DataFrame a partir de un archivo externo.**\n",
    "\n",
    "Regualarmente, en esta clase trabajaremos con arcivos de bases de datos externos, con formatos csv, xls, entre otros.\n",
    "Para que Python \"lea\" y manipule los datos de dichas bases de datos, a veces es necesario importar la biblioteca correspondiente a cada extension, de acuerdo a los archivos que se quieran manipular.Tal como se ha trabajado en este notebook se debe utilizar la instrucción:-import x as - abreviatura de la biblioteca-\n",
    "\n",
    "*Para mayor información te sugerimos estos enlaces:\n",
    "http://www.developerpe.com/blog/cargar_panda_csv_txt_json_xlsx/\n",
    "https://pandas.pydata.org/docs/user_guide/cookbook.html?highlight=read#data-in-out*\n",
    "\n",
    "**Por ejemplo:\n",
    "import csv**\n",
    "\n",
    "En este caso **NO** será necesario debido a que la instalación de Pandas incluye csv."
   ]
  },
  {
   "cell_type": "markdown",
   "metadata": {},
   "source": [
    "**Para crar un DataFrame con información de un archivo externo**\n",
    "\n",
    "**1)** Primero guardamos la ruta del archivo en una variable"
   ]
  },
  {
   "cell_type": "code",
   "execution_count": 2,
   "metadata": {},
   "outputs": [],
   "source": [
    "#\n",
    "aguacsv = \"https://datos.cdmx.gob.mx/dataset/eb38823c-488a-49e8-a2cf-62e628fa246f/resource/2263bf74-c0ed-4e7c-bb9c-73f0624ac1a9/download/consumo-agua.csv\""
   ]
  },
  {
   "cell_type": "markdown",
   "metadata": {},
   "source": [
    "**2)** Le damos un nombre a nuestro DataFrame y con ayuda de la instrucción **pd.read_csv**, leemos los datos del csv.\n",
    "\n",
    "* ###### Ojo:la instrucción encoding no es estrictamente necesaria, pero nos ayudará a que todos los caracteres sean interpretados correctamente"
   ]
  },
  {
   "cell_type": "code",
   "execution_count": 3,
   "metadata": {},
   "outputs": [],
   "source": [
    "consumodf = pd.read_csv(aguacsv, encoding = 'latin-1') \n",
    "# encoding = {UTF-8 , latin1, utf-8-sig}"
   ]
  },
  {
   "cell_type": "markdown",
   "metadata": {},
   "source": [
    "###### Para ver el encabezado del del DataFRame utilizamos la instrucción .head(),  por default muestra las primeras 5 líneas.\n",
    "\n",
    "Sintaxis: nombredataframe.head()\n",
    "\n",
    "###### También podemos ver los últimos registros con tail()\n",
    "\n",
    "Sintaxis: nombredataframe.tail()"
   ]
  },
  {
   "cell_type": "code",
   "execution_count": 4,
   "metadata": {},
   "outputs": [
    {
     "data": {
      "text/html": [
       "<div>\n",
       "<style scoped>\n",
       "    .dataframe tbody tr th:only-of-type {\n",
       "        vertical-align: middle;\n",
       "    }\n",
       "\n",
       "    .dataframe tbody tr th {\n",
       "        vertical-align: top;\n",
       "    }\n",
       "\n",
       "    .dataframe thead th {\n",
       "        text-align: right;\n",
       "    }\n",
       "</style>\n",
       "<table border=\"1\" class=\"dataframe\">\n",
       "  <thead>\n",
       "    <tr style=\"text-align: right;\">\n",
       "      <th></th>\n",
       "      <th>id</th>\n",
       "      <th>geo_point_2d</th>\n",
       "      <th>geo_shape</th>\n",
       "      <th>consumo_total_mixto</th>\n",
       "      <th>anio</th>\n",
       "      <th>nomgeo</th>\n",
       "      <th>consumo_prom_dom</th>\n",
       "      <th>consumo_total_dom</th>\n",
       "      <th>alcaldia</th>\n",
       "      <th>colonia</th>\n",
       "      <th>consumo_prom_mixto</th>\n",
       "      <th>consumo_total</th>\n",
       "      <th>consumo_prom</th>\n",
       "      <th>consumo_prom_no_dom</th>\n",
       "      <th>bimestre</th>\n",
       "      <th>consumo_total_no_dom</th>\n",
       "      <th>gid</th>\n",
       "      <th>indice_des</th>\n",
       "    </tr>\n",
       "  </thead>\n",
       "  <tbody>\n",
       "    <tr>\n",
       "      <th>0</th>\n",
       "      <td>0</td>\n",
       "      <td>19.4552601937,-99.1126617526</td>\n",
       "      <td>{\"type\": \"MultiPolygon\", \"coordinates\": [[[[-9...</td>\n",
       "      <td>159.72</td>\n",
       "      <td>2019</td>\n",
       "      <td>Gustavo A. Madero</td>\n",
       "      <td>42.566364</td>\n",
       "      <td>468.23</td>\n",
       "      <td>GUSTAVO A. MADERO</td>\n",
       "      <td>7 DE NOVIEMBRE</td>\n",
       "      <td>53.24</td>\n",
       "      <td>631.00</td>\n",
       "      <td>42.066667</td>\n",
       "      <td>3.05</td>\n",
       "      <td>3</td>\n",
       "      <td>3.05</td>\n",
       "      <td>57250</td>\n",
       "      <td>ALTO</td>\n",
       "    </tr>\n",
       "    <tr>\n",
       "      <th>1</th>\n",
       "      <td>1</td>\n",
       "      <td>19.4552601937,-99.1126617526</td>\n",
       "      <td>{\"type\": \"MultiPolygon\", \"coordinates\": [[[[-9...</td>\n",
       "      <td>0.00</td>\n",
       "      <td>2019</td>\n",
       "      <td>Gustavo A. Madero</td>\n",
       "      <td>35.936667</td>\n",
       "      <td>107.81</td>\n",
       "      <td>GUSTAVO A. MADERO</td>\n",
       "      <td>7 DE NOVIEMBRE</td>\n",
       "      <td>0.00</td>\n",
       "      <td>115.13</td>\n",
       "      <td>28.782500</td>\n",
       "      <td>7.32</td>\n",
       "      <td>3</td>\n",
       "      <td>7.32</td>\n",
       "      <td>57253</td>\n",
       "      <td>MEDIO</td>\n",
       "    </tr>\n",
       "    <tr>\n",
       "      <th>2</th>\n",
       "      <td>2</td>\n",
       "      <td>19.4557195871,-99.1135822797</td>\n",
       "      <td>{\"type\": \"MultiPolygon\", \"coordinates\": [[[[-9...</td>\n",
       "      <td>0.00</td>\n",
       "      <td>2019</td>\n",
       "      <td>Gustavo A. Madero</td>\n",
       "      <td>24.586000</td>\n",
       "      <td>122.93</td>\n",
       "      <td>GUSTAVO A. MADERO</td>\n",
       "      <td>7 DE NOVIEMBRE</td>\n",
       "      <td>0.00</td>\n",
       "      <td>197.96</td>\n",
       "      <td>32.993333</td>\n",
       "      <td>75.03</td>\n",
       "      <td>3</td>\n",
       "      <td>75.03</td>\n",
       "      <td>57255</td>\n",
       "      <td>POPULAR</td>\n",
       "    </tr>\n",
       "    <tr>\n",
       "      <th>3</th>\n",
       "      <td>3</td>\n",
       "      <td>19.4596467168,-99.1044693641</td>\n",
       "      <td>{\"type\": \"MultiPolygon\", \"coordinates\": [[[[-9...</td>\n",
       "      <td>0.00</td>\n",
       "      <td>2019</td>\n",
       "      <td>Gustavo A. Madero</td>\n",
       "      <td>0.000000</td>\n",
       "      <td>0.00</td>\n",
       "      <td>GUSTAVO A. MADERO</td>\n",
       "      <td>NUEVA TENOCHTITLAN</td>\n",
       "      <td>0.00</td>\n",
       "      <td>253.53</td>\n",
       "      <td>84.510000</td>\n",
       "      <td>84.51</td>\n",
       "      <td>3</td>\n",
       "      <td>253.53</td>\n",
       "      <td>57267</td>\n",
       "      <td>BAJO</td>\n",
       "    </tr>\n",
       "    <tr>\n",
       "      <th>4</th>\n",
       "      <td>4</td>\n",
       "      <td>19.4741606185,-99.1467497317</td>\n",
       "      <td>{\"type\": \"MultiPolygon\", \"coordinates\": [[[[-9...</td>\n",
       "      <td>56.72</td>\n",
       "      <td>2019</td>\n",
       "      <td>Azcapotzalco</td>\n",
       "      <td>67.436250</td>\n",
       "      <td>539.49</td>\n",
       "      <td>AZCAPOTZALCO</td>\n",
       "      <td>PROHOGAR</td>\n",
       "      <td>56.72</td>\n",
       "      <td>839.35</td>\n",
       "      <td>76.304545</td>\n",
       "      <td>121.57</td>\n",
       "      <td>3</td>\n",
       "      <td>243.14</td>\n",
       "      <td>57330</td>\n",
       "      <td>BAJO</td>\n",
       "    </tr>\n",
       "  </tbody>\n",
       "</table>\n",
       "</div>"
      ],
      "text/plain": [
       "   id                  geo_point_2d  \\\n",
       "0   0  19.4552601937,-99.1126617526   \n",
       "1   1  19.4552601937,-99.1126617526   \n",
       "2   2  19.4557195871,-99.1135822797   \n",
       "3   3  19.4596467168,-99.1044693641   \n",
       "4   4  19.4741606185,-99.1467497317   \n",
       "\n",
       "                                           geo_shape  consumo_total_mixto  \\\n",
       "0  {\"type\": \"MultiPolygon\", \"coordinates\": [[[[-9...               159.72   \n",
       "1  {\"type\": \"MultiPolygon\", \"coordinates\": [[[[-9...                 0.00   \n",
       "2  {\"type\": \"MultiPolygon\", \"coordinates\": [[[[-9...                 0.00   \n",
       "3  {\"type\": \"MultiPolygon\", \"coordinates\": [[[[-9...                 0.00   \n",
       "4  {\"type\": \"MultiPolygon\", \"coordinates\": [[[[-9...                56.72   \n",
       "\n",
       "   anio             nomgeo  consumo_prom_dom  consumo_total_dom  \\\n",
       "0  2019  Gustavo A. Madero         42.566364             468.23   \n",
       "1  2019  Gustavo A. Madero         35.936667             107.81   \n",
       "2  2019  Gustavo A. Madero         24.586000             122.93   \n",
       "3  2019  Gustavo A. Madero          0.000000               0.00   \n",
       "4  2019       Azcapotzalco         67.436250             539.49   \n",
       "\n",
       "            alcaldia             colonia  consumo_prom_mixto  consumo_total  \\\n",
       "0  GUSTAVO A. MADERO      7 DE NOVIEMBRE               53.24         631.00   \n",
       "1  GUSTAVO A. MADERO      7 DE NOVIEMBRE                0.00         115.13   \n",
       "2  GUSTAVO A. MADERO      7 DE NOVIEMBRE                0.00         197.96   \n",
       "3  GUSTAVO A. MADERO  NUEVA TENOCHTITLAN                0.00         253.53   \n",
       "4       AZCAPOTZALCO            PROHOGAR               56.72         839.35   \n",
       "\n",
       "   consumo_prom  consumo_prom_no_dom  bimestre  consumo_total_no_dom    gid  \\\n",
       "0     42.066667                 3.05         3                  3.05  57250   \n",
       "1     28.782500                 7.32         3                  7.32  57253   \n",
       "2     32.993333                75.03         3                 75.03  57255   \n",
       "3     84.510000                84.51         3                253.53  57267   \n",
       "4     76.304545               121.57         3                243.14  57330   \n",
       "\n",
       "  indice_des  \n",
       "0       ALTO  \n",
       "1      MEDIO  \n",
       "2    POPULAR  \n",
       "3       BAJO  \n",
       "4       BAJO  "
      ]
     },
     "execution_count": 4,
     "metadata": {},
     "output_type": "execute_result"
    }
   ],
   "source": [
    "consumodf.head()"
   ]
  },
  {
   "cell_type": "markdown",
   "metadata": {},
   "source": [
    "* ###### Para ver la información de una columna en particular y sus primeros 10 registros utilizamos la sintaxis: nombredataframe[\"columna\"].head(10)"
   ]
  },
  {
   "cell_type": "code",
   "execution_count": 6,
   "metadata": {},
   "outputs": [
    {
     "data": {
      "text/plain": [
       "0    GUSTAVO A. MADERO\n",
       "1    GUSTAVO A. MADERO\n",
       "2    GUSTAVO A. MADERO\n",
       "3    GUSTAVO A. MADERO\n",
       "4         AZCAPOTZALCO\n",
       "5         AZCAPOTZALCO\n",
       "6         AZCAPOTZALCO\n",
       "7         AZCAPOTZALCO\n",
       "8         AZCAPOTZALCO\n",
       "9         AZCAPOTZALCO\n",
       "Name: alcaldia, dtype: object"
      ]
     },
     "execution_count": 6,
     "metadata": {},
     "output_type": "execute_result"
    }
   ],
   "source": [
    "consumodf[\"alcaldia\"].head(10)\n",
    "#consumodf.alcaldia.head(10)"
   ]
  },
  {
   "cell_type": "markdown",
   "metadata": {},
   "source": [
    "* ###### Para mostrar múltiples columnas utilizamos la  Sintaxis: nombredataframe[[\"columnaA\",\"columnaB\"]].head(n) -nota los corchetes dobles\n"
   ]
  },
  {
   "cell_type": "code",
   "execution_count": 7,
   "metadata": {},
   "outputs": [
    {
     "data": {
      "text/html": [
       "<div>\n",
       "<style scoped>\n",
       "    .dataframe tbody tr th:only-of-type {\n",
       "        vertical-align: middle;\n",
       "    }\n",
       "\n",
       "    .dataframe tbody tr th {\n",
       "        vertical-align: top;\n",
       "    }\n",
       "\n",
       "    .dataframe thead th {\n",
       "        text-align: right;\n",
       "    }\n",
       "</style>\n",
       "<table border=\"1\" class=\"dataframe\">\n",
       "  <thead>\n",
       "    <tr style=\"text-align: right;\">\n",
       "      <th></th>\n",
       "      <th>alcaldia</th>\n",
       "      <th>consumo_prom</th>\n",
       "    </tr>\n",
       "  </thead>\n",
       "  <tbody>\n",
       "    <tr>\n",
       "      <th>0</th>\n",
       "      <td>GUSTAVO A. MADERO</td>\n",
       "      <td>42.066667</td>\n",
       "    </tr>\n",
       "    <tr>\n",
       "      <th>1</th>\n",
       "      <td>GUSTAVO A. MADERO</td>\n",
       "      <td>28.782500</td>\n",
       "    </tr>\n",
       "    <tr>\n",
       "      <th>2</th>\n",
       "      <td>GUSTAVO A. MADERO</td>\n",
       "      <td>32.993333</td>\n",
       "    </tr>\n",
       "    <tr>\n",
       "      <th>3</th>\n",
       "      <td>GUSTAVO A. MADERO</td>\n",
       "      <td>84.510000</td>\n",
       "    </tr>\n",
       "    <tr>\n",
       "      <th>4</th>\n",
       "      <td>AZCAPOTZALCO</td>\n",
       "      <td>76.304545</td>\n",
       "    </tr>\n",
       "  </tbody>\n",
       "</table>\n",
       "</div>"
      ],
      "text/plain": [
       "            alcaldia  consumo_prom\n",
       "0  GUSTAVO A. MADERO     42.066667\n",
       "1  GUSTAVO A. MADERO     28.782500\n",
       "2  GUSTAVO A. MADERO     32.993333\n",
       "3  GUSTAVO A. MADERO     84.510000\n",
       "4       AZCAPOTZALCO     76.304545"
      ]
     },
     "execution_count": 7,
     "metadata": {},
     "output_type": "execute_result"
    }
   ],
   "source": [
    "consumodf[[\"alcaldia\", \"consumo_prom\"]].head()"
   ]
  },
  {
   "cell_type": "markdown",
   "metadata": {},
   "source": [
    "* ###### Para saber cuántos datos tenemos utilizamos la sintaxis nombredataframe.shape"
   ]
  },
  {
   "cell_type": "code",
   "execution_count": 8,
   "metadata": {},
   "outputs": [
    {
     "data": {
      "text/plain": [
       "(71102, 18)"
      ]
     },
     "execution_count": 8,
     "metadata": {},
     "output_type": "execute_result"
    }
   ],
   "source": [
    "consumodf.shape"
   ]
  },
  {
   "cell_type": "markdown",
   "metadata": {},
   "source": [
    "# FUNCIONES BÁSICAS DE PANDAS PARA ANALIZAR UN DATAFRAME \n",
    "\n",
    "Tal como está, nuestro DataFrame no nos permite revisar la información de forma sencilla, para ordenar y limpiar los datos que tenemos debemos realizar una serie de operaciones. Cada una de las instrucciones que se muestran a continuación pueden se guardadas en una variable para posteriormente ser utilizadas"
   ]
  },
  {
   "cell_type": "markdown",
   "metadata": {},
   "source": [
    "* Para mostrar el nombre de todas las columnas que componen nuestro DataFrame utilizamos la instrucción **.columns**\n",
    "\n",
    " **Sintaxis:** nombredataframe.columns()"
   ]
  },
  {
   "cell_type": "code",
   "execution_count": 9,
   "metadata": {},
   "outputs": [
    {
     "data": {
      "text/plain": [
       "Index(['id', 'geo_point_2d', 'geo_shape', 'consumo_total_mixto', 'anio',\n",
       "       'nomgeo', 'consumo_prom_dom', 'consumo_total_dom', 'alcaldia',\n",
       "       'colonia', 'consumo_prom_mixto', 'consumo_total', 'consumo_prom',\n",
       "       'consumo_prom_no_dom', 'bimestre', 'consumo_total_no_dom', 'gid',\n",
       "       'indice_des'],\n",
       "      dtype='object')"
      ]
     },
     "execution_count": 9,
     "metadata": {},
     "output_type": "execute_result"
    }
   ],
   "source": [
    "consumodf.columns"
   ]
  },
  {
   "cell_type": "markdown",
   "metadata": {},
   "source": [
    "* La instrucción **.dtypes** a plicada al DataFrame regresa el tipo de datos de cada columna"
   ]
  },
  {
   "cell_type": "code",
   "execution_count": 10,
   "metadata": {},
   "outputs": [
    {
     "data": {
      "text/plain": [
       "id                        int64\n",
       "geo_point_2d             object\n",
       "geo_shape                object\n",
       "consumo_total_mixto     float64\n",
       "anio                      int64\n",
       "nomgeo                   object\n",
       "consumo_prom_dom        float64\n",
       "consumo_total_dom       float64\n",
       "alcaldia                 object\n",
       "colonia                  object\n",
       "consumo_prom_mixto      float64\n",
       "consumo_total           float64\n",
       "consumo_prom            float64\n",
       "consumo_prom_no_dom     float64\n",
       "bimestre                  int64\n",
       "consumo_total_no_dom    float64\n",
       "gid                       int64\n",
       "indice_des               object\n",
       "dtype: object"
      ]
     },
     "execution_count": 10,
     "metadata": {},
     "output_type": "execute_result"
    }
   ],
   "source": [
    "consumodf.dtypes"
   ]
  },
  {
   "cell_type": "markdown",
   "metadata": {},
   "source": [
    "* La instrucción **.count()** aplicada al DataFrame regresa el no. de observaciones válidas en cada columna"
   ]
  },
  {
   "cell_type": "code",
   "execution_count": 11,
   "metadata": {},
   "outputs": [
    {
     "data": {
      "text/plain": [
       "id                      71102\n",
       "geo_point_2d            71102\n",
       "geo_shape               71078\n",
       "consumo_total_mixto     62775\n",
       "anio                    71102\n",
       "nomgeo                  71102\n",
       "consumo_prom_dom        66282\n",
       "consumo_total_dom       66282\n",
       "alcaldia                71102\n",
       "colonia                 71102\n",
       "consumo_prom_mixto      62775\n",
       "consumo_total           71102\n",
       "consumo_prom            71102\n",
       "consumo_prom_no_dom     71102\n",
       "bimestre                71102\n",
       "consumo_total_no_dom    71102\n",
       "gid                     71102\n",
       "indice_des              71102\n",
       "dtype: int64"
      ]
     },
     "execution_count": 11,
     "metadata": {},
     "output_type": "execute_result"
    }
   ],
   "source": [
    "consumodf.count()"
   ]
  },
  {
   "cell_type": "markdown",
   "metadata": {},
   "source": [
    "* Si queremos saber los valores que toma cada columna y el no. de observaciones que tiene cada valor, utilizamo la instrucción **.value_counts()**\n",
    "\n",
    " **Sintaxis:** nombredataframe[\"columna\"].value_counts()"
   ]
  },
  {
   "cell_type": "code",
   "execution_count": 12,
   "metadata": {},
   "outputs": [
    {
     "data": {
      "text/plain": [
       "IZTAPALAPA             10515\n",
       "GUSTAVO A. MADERO      10058\n",
       "CUAUHTEMOC              7313\n",
       "BENITO JUAREZ           6049\n",
       "VENUSTIANO CARRANZA     5179\n",
       "MIGUEL HIDALGO          5110\n",
       "COYOACAN                4947\n",
       "AZCAPOTZALCO            4216\n",
       "ALVARO OBREGON          4140\n",
       "IZTACALCO               3469\n",
       "TLALPAN                 3204\n",
       "XOCHIMILCO              2450\n",
       "TLAHUAC                 1955\n",
       "MAGDALENA CONTRERAS      955\n",
       "CUAJIMALPA               892\n",
       "MILPA ALTA               650\n",
       "Name: alcaldia, dtype: int64"
      ]
     },
     "execution_count": 12,
     "metadata": {},
     "output_type": "execute_result"
    }
   ],
   "source": [
    "consumodf[\"alcaldia\"].value_counts()"
   ]
  },
  {
   "cell_type": "markdown",
   "metadata": {},
   "source": [
    "* Para conocer los valores únicos de una columna utilizamos la instrucción **.unique()**, esta instrucción regresa un arreglo con la información delos valores únicos que aparecen en la columna y el tipo de datos\n",
    "\n",
    "   **Sintaxis:** unicos= nombredataframe[\"columna\"].unique()"
   ]
  },
  {
   "cell_type": "code",
   "execution_count": 13,
   "metadata": {},
   "outputs": [
    {
     "data": {
      "text/plain": [
       "array([3, 1, 2])"
      ]
     },
     "execution_count": 13,
     "metadata": {},
     "output_type": "execute_result"
    }
   ],
   "source": [
    "unique = consumodf[\"bimestre\"].unique()\n",
    "unique"
   ]
  },
  {
   "cell_type": "markdown",
   "metadata": {},
   "source": [
    "# OPERACIONES CON COLUMNAS"
   ]
  },
  {
   "cell_type": "markdown",
   "metadata": {},
   "source": [
    "Por ahora, los comandos utilizados nos permiten tener una idea general de lo que hay en la base de datos.\n",
    "A fin de realizar un análisis más profundo de la información que contiene nuestro DataFrame, es necesario renombrar y reorganizar columnas, así como limpiar algunos registros.\n",
    "\n",
    "Utilizaremos algunos nuevos comandos para este propósito."
   ]
  },
  {
   "cell_type": "markdown",
   "metadata": {},
   "source": [
    "* **ELIMINAR:** Vamos a conservar sólo las columnas que necesitamos, en este caso no vamos a utilizar la información geográfica por lo que debemos eliminar las columnas con dicha información.\n",
    "Por otra parte la información de la columna 'nomgeo'está repetida en la columna \"alcaldía\"; por lo que vamos a eliminar esta información.\n",
    " Utilizamos el comando **.drop**\n",
    "   \n",
    " **Sintaxis:** nombredataframe.drop([\"columna1,\"columna n\"], axis=1, inplace=True)"
   ]
  },
  {
   "cell_type": "code",
   "execution_count": 14,
   "metadata": {},
   "outputs": [
    {
     "data": {
      "text/html": [
       "<div>\n",
       "<style scoped>\n",
       "    .dataframe tbody tr th:only-of-type {\n",
       "        vertical-align: middle;\n",
       "    }\n",
       "\n",
       "    .dataframe tbody tr th {\n",
       "        vertical-align: top;\n",
       "    }\n",
       "\n",
       "    .dataframe thead th {\n",
       "        text-align: right;\n",
       "    }\n",
       "</style>\n",
       "<table border=\"1\" class=\"dataframe\">\n",
       "  <thead>\n",
       "    <tr style=\"text-align: right;\">\n",
       "      <th></th>\n",
       "      <th>id</th>\n",
       "      <th>consumo_total_mixto</th>\n",
       "      <th>anio</th>\n",
       "      <th>nomgeo</th>\n",
       "      <th>consumo_prom_dom</th>\n",
       "      <th>consumo_total_dom</th>\n",
       "      <th>alcaldia</th>\n",
       "      <th>colonia</th>\n",
       "      <th>consumo_prom_mixto</th>\n",
       "      <th>consumo_total</th>\n",
       "      <th>consumo_prom</th>\n",
       "      <th>consumo_prom_no_dom</th>\n",
       "      <th>bimestre</th>\n",
       "      <th>consumo_total_no_dom</th>\n",
       "      <th>gid</th>\n",
       "      <th>indice_des</th>\n",
       "    </tr>\n",
       "  </thead>\n",
       "  <tbody>\n",
       "    <tr>\n",
       "      <th>0</th>\n",
       "      <td>0</td>\n",
       "      <td>159.72</td>\n",
       "      <td>2019</td>\n",
       "      <td>Gustavo A. Madero</td>\n",
       "      <td>42.566364</td>\n",
       "      <td>468.23</td>\n",
       "      <td>GUSTAVO A. MADERO</td>\n",
       "      <td>7 DE NOVIEMBRE</td>\n",
       "      <td>53.24</td>\n",
       "      <td>631.00</td>\n",
       "      <td>42.066667</td>\n",
       "      <td>3.05</td>\n",
       "      <td>3</td>\n",
       "      <td>3.05</td>\n",
       "      <td>57250</td>\n",
       "      <td>ALTO</td>\n",
       "    </tr>\n",
       "    <tr>\n",
       "      <th>1</th>\n",
       "      <td>1</td>\n",
       "      <td>0.00</td>\n",
       "      <td>2019</td>\n",
       "      <td>Gustavo A. Madero</td>\n",
       "      <td>35.936667</td>\n",
       "      <td>107.81</td>\n",
       "      <td>GUSTAVO A. MADERO</td>\n",
       "      <td>7 DE NOVIEMBRE</td>\n",
       "      <td>0.00</td>\n",
       "      <td>115.13</td>\n",
       "      <td>28.782500</td>\n",
       "      <td>7.32</td>\n",
       "      <td>3</td>\n",
       "      <td>7.32</td>\n",
       "      <td>57253</td>\n",
       "      <td>MEDIO</td>\n",
       "    </tr>\n",
       "    <tr>\n",
       "      <th>2</th>\n",
       "      <td>2</td>\n",
       "      <td>0.00</td>\n",
       "      <td>2019</td>\n",
       "      <td>Gustavo A. Madero</td>\n",
       "      <td>24.586000</td>\n",
       "      <td>122.93</td>\n",
       "      <td>GUSTAVO A. MADERO</td>\n",
       "      <td>7 DE NOVIEMBRE</td>\n",
       "      <td>0.00</td>\n",
       "      <td>197.96</td>\n",
       "      <td>32.993333</td>\n",
       "      <td>75.03</td>\n",
       "      <td>3</td>\n",
       "      <td>75.03</td>\n",
       "      <td>57255</td>\n",
       "      <td>POPULAR</td>\n",
       "    </tr>\n",
       "    <tr>\n",
       "      <th>3</th>\n",
       "      <td>3</td>\n",
       "      <td>0.00</td>\n",
       "      <td>2019</td>\n",
       "      <td>Gustavo A. Madero</td>\n",
       "      <td>0.000000</td>\n",
       "      <td>0.00</td>\n",
       "      <td>GUSTAVO A. MADERO</td>\n",
       "      <td>NUEVA TENOCHTITLAN</td>\n",
       "      <td>0.00</td>\n",
       "      <td>253.53</td>\n",
       "      <td>84.510000</td>\n",
       "      <td>84.51</td>\n",
       "      <td>3</td>\n",
       "      <td>253.53</td>\n",
       "      <td>57267</td>\n",
       "      <td>BAJO</td>\n",
       "    </tr>\n",
       "    <tr>\n",
       "      <th>4</th>\n",
       "      <td>4</td>\n",
       "      <td>56.72</td>\n",
       "      <td>2019</td>\n",
       "      <td>Azcapotzalco</td>\n",
       "      <td>67.436250</td>\n",
       "      <td>539.49</td>\n",
       "      <td>AZCAPOTZALCO</td>\n",
       "      <td>PROHOGAR</td>\n",
       "      <td>56.72</td>\n",
       "      <td>839.35</td>\n",
       "      <td>76.304545</td>\n",
       "      <td>121.57</td>\n",
       "      <td>3</td>\n",
       "      <td>243.14</td>\n",
       "      <td>57330</td>\n",
       "      <td>BAJO</td>\n",
       "    </tr>\n",
       "  </tbody>\n",
       "</table>\n",
       "</div>"
      ],
      "text/plain": [
       "   id  consumo_total_mixto  anio             nomgeo  consumo_prom_dom  \\\n",
       "0   0               159.72  2019  Gustavo A. Madero         42.566364   \n",
       "1   1                 0.00  2019  Gustavo A. Madero         35.936667   \n",
       "2   2                 0.00  2019  Gustavo A. Madero         24.586000   \n",
       "3   3                 0.00  2019  Gustavo A. Madero          0.000000   \n",
       "4   4                56.72  2019       Azcapotzalco         67.436250   \n",
       "\n",
       "   consumo_total_dom           alcaldia             colonia  \\\n",
       "0             468.23  GUSTAVO A. MADERO      7 DE NOVIEMBRE   \n",
       "1             107.81  GUSTAVO A. MADERO      7 DE NOVIEMBRE   \n",
       "2             122.93  GUSTAVO A. MADERO      7 DE NOVIEMBRE   \n",
       "3               0.00  GUSTAVO A. MADERO  NUEVA TENOCHTITLAN   \n",
       "4             539.49       AZCAPOTZALCO            PROHOGAR   \n",
       "\n",
       "   consumo_prom_mixto  consumo_total  consumo_prom  consumo_prom_no_dom  \\\n",
       "0               53.24         631.00     42.066667                 3.05   \n",
       "1                0.00         115.13     28.782500                 7.32   \n",
       "2                0.00         197.96     32.993333                75.03   \n",
       "3                0.00         253.53     84.510000                84.51   \n",
       "4               56.72         839.35     76.304545               121.57   \n",
       "\n",
       "   bimestre  consumo_total_no_dom    gid indice_des  \n",
       "0         3                  3.05  57250       ALTO  \n",
       "1         3                  7.32  57253      MEDIO  \n",
       "2         3                 75.03  57255    POPULAR  \n",
       "3         3                253.53  57267       BAJO  \n",
       "4         3                243.14  57330       BAJO  "
      ]
     },
     "execution_count": 14,
     "metadata": {},
     "output_type": "execute_result"
    }
   ],
   "source": [
    "consumodf.drop([\"geo_point_2d\", \"geo_shape\"], axis=1, inplace=True)\n",
    "consumodf.head(5)\n"
   ]
  },
  {
   "cell_type": "markdown",
   "metadata": {},
   "source": [
    " * **RENOMBRAR** Vamos a renombrar algunas columnas para aclarar su significado y a reorganizar el orden de aparición de las mismas. Para ello vamos a utilizar el comando **df.rename**\n",
    "\n",
    " **Sintaxis:** dataframe=dataframe.rename(columns={\"Nombreactual\": \"Nuevonombre\", \"Nombreactual\": \"Nuevonombre\"})\n",
    "\n",
    "Los nombres de las columnas serán lo siguientes:\n",
    "\n",
    " * anio=año\n",
    " * consumo_total_mixto= CTMixto\n",
    " * consumo_prom_mixto= CPMixto\n",
    " * consumo_prom_dom= CPDomestico\n",
    " * consumo_total_dom=CTDomestico\n",
    " * consumo_prom_no_dom= CPNODomestico\n",
    " * consumo_total_no_dom=CTNODomestico\n"
   ]
  },
  {
   "cell_type": "code",
   "execution_count": 15,
   "metadata": {},
   "outputs": [
    {
     "data": {
      "text/html": [
       "<div>\n",
       "<style scoped>\n",
       "    .dataframe tbody tr th:only-of-type {\n",
       "        vertical-align: middle;\n",
       "    }\n",
       "\n",
       "    .dataframe tbody tr th {\n",
       "        vertical-align: top;\n",
       "    }\n",
       "\n",
       "    .dataframe thead th {\n",
       "        text-align: right;\n",
       "    }\n",
       "</style>\n",
       "<table border=\"1\" class=\"dataframe\">\n",
       "  <thead>\n",
       "    <tr style=\"text-align: right;\">\n",
       "      <th></th>\n",
       "      <th>id</th>\n",
       "      <th>CTMixto</th>\n",
       "      <th>año</th>\n",
       "      <th>nomgeo</th>\n",
       "      <th>CPDomestico</th>\n",
       "      <th>CTDomestico</th>\n",
       "      <th>alcaldia</th>\n",
       "      <th>colonia</th>\n",
       "      <th>CPMixto</th>\n",
       "      <th>consumo_total</th>\n",
       "      <th>consumo_prom</th>\n",
       "      <th>CPNODomestico</th>\n",
       "      <th>bimestre</th>\n",
       "      <th>CTNODomestico</th>\n",
       "      <th>gid</th>\n",
       "      <th>indice_des</th>\n",
       "    </tr>\n",
       "  </thead>\n",
       "  <tbody>\n",
       "    <tr>\n",
       "      <th>0</th>\n",
       "      <td>0</td>\n",
       "      <td>159.72</td>\n",
       "      <td>2019</td>\n",
       "      <td>Gustavo A. Madero</td>\n",
       "      <td>42.566364</td>\n",
       "      <td>468.23</td>\n",
       "      <td>GUSTAVO A. MADERO</td>\n",
       "      <td>7 DE NOVIEMBRE</td>\n",
       "      <td>53.24</td>\n",
       "      <td>631.00</td>\n",
       "      <td>42.066667</td>\n",
       "      <td>3.05</td>\n",
       "      <td>3</td>\n",
       "      <td>3.05</td>\n",
       "      <td>57250</td>\n",
       "      <td>ALTO</td>\n",
       "    </tr>\n",
       "    <tr>\n",
       "      <th>1</th>\n",
       "      <td>1</td>\n",
       "      <td>0.00</td>\n",
       "      <td>2019</td>\n",
       "      <td>Gustavo A. Madero</td>\n",
       "      <td>35.936667</td>\n",
       "      <td>107.81</td>\n",
       "      <td>GUSTAVO A. MADERO</td>\n",
       "      <td>7 DE NOVIEMBRE</td>\n",
       "      <td>0.00</td>\n",
       "      <td>115.13</td>\n",
       "      <td>28.782500</td>\n",
       "      <td>7.32</td>\n",
       "      <td>3</td>\n",
       "      <td>7.32</td>\n",
       "      <td>57253</td>\n",
       "      <td>MEDIO</td>\n",
       "    </tr>\n",
       "    <tr>\n",
       "      <th>2</th>\n",
       "      <td>2</td>\n",
       "      <td>0.00</td>\n",
       "      <td>2019</td>\n",
       "      <td>Gustavo A. Madero</td>\n",
       "      <td>24.586000</td>\n",
       "      <td>122.93</td>\n",
       "      <td>GUSTAVO A. MADERO</td>\n",
       "      <td>7 DE NOVIEMBRE</td>\n",
       "      <td>0.00</td>\n",
       "      <td>197.96</td>\n",
       "      <td>32.993333</td>\n",
       "      <td>75.03</td>\n",
       "      <td>3</td>\n",
       "      <td>75.03</td>\n",
       "      <td>57255</td>\n",
       "      <td>POPULAR</td>\n",
       "    </tr>\n",
       "    <tr>\n",
       "      <th>3</th>\n",
       "      <td>3</td>\n",
       "      <td>0.00</td>\n",
       "      <td>2019</td>\n",
       "      <td>Gustavo A. Madero</td>\n",
       "      <td>0.000000</td>\n",
       "      <td>0.00</td>\n",
       "      <td>GUSTAVO A. MADERO</td>\n",
       "      <td>NUEVA TENOCHTITLAN</td>\n",
       "      <td>0.00</td>\n",
       "      <td>253.53</td>\n",
       "      <td>84.510000</td>\n",
       "      <td>84.51</td>\n",
       "      <td>3</td>\n",
       "      <td>253.53</td>\n",
       "      <td>57267</td>\n",
       "      <td>BAJO</td>\n",
       "    </tr>\n",
       "    <tr>\n",
       "      <th>4</th>\n",
       "      <td>4</td>\n",
       "      <td>56.72</td>\n",
       "      <td>2019</td>\n",
       "      <td>Azcapotzalco</td>\n",
       "      <td>67.436250</td>\n",
       "      <td>539.49</td>\n",
       "      <td>AZCAPOTZALCO</td>\n",
       "      <td>PROHOGAR</td>\n",
       "      <td>56.72</td>\n",
       "      <td>839.35</td>\n",
       "      <td>76.304545</td>\n",
       "      <td>121.57</td>\n",
       "      <td>3</td>\n",
       "      <td>243.14</td>\n",
       "      <td>57330</td>\n",
       "      <td>BAJO</td>\n",
       "    </tr>\n",
       "  </tbody>\n",
       "</table>\n",
       "</div>"
      ],
      "text/plain": [
       "   id  CTMixto   año             nomgeo  CPDomestico  CTDomestico  \\\n",
       "0   0   159.72  2019  Gustavo A. Madero    42.566364       468.23   \n",
       "1   1     0.00  2019  Gustavo A. Madero    35.936667       107.81   \n",
       "2   2     0.00  2019  Gustavo A. Madero    24.586000       122.93   \n",
       "3   3     0.00  2019  Gustavo A. Madero     0.000000         0.00   \n",
       "4   4    56.72  2019       Azcapotzalco    67.436250       539.49   \n",
       "\n",
       "            alcaldia             colonia  CPMixto  consumo_total  \\\n",
       "0  GUSTAVO A. MADERO      7 DE NOVIEMBRE    53.24         631.00   \n",
       "1  GUSTAVO A. MADERO      7 DE NOVIEMBRE     0.00         115.13   \n",
       "2  GUSTAVO A. MADERO      7 DE NOVIEMBRE     0.00         197.96   \n",
       "3  GUSTAVO A. MADERO  NUEVA TENOCHTITLAN     0.00         253.53   \n",
       "4       AZCAPOTZALCO            PROHOGAR    56.72         839.35   \n",
       "\n",
       "   consumo_prom  CPNODomestico  bimestre  CTNODomestico    gid indice_des  \n",
       "0     42.066667           3.05         3           3.05  57250       ALTO  \n",
       "1     28.782500           7.32         3           7.32  57253      MEDIO  \n",
       "2     32.993333          75.03         3          75.03  57255    POPULAR  \n",
       "3     84.510000          84.51         3         253.53  57267       BAJO  \n",
       "4     76.304545         121.57         3         243.14  57330       BAJO  "
      ]
     },
     "execution_count": 15,
     "metadata": {},
     "output_type": "execute_result"
    }
   ],
   "source": [
    "consumodf = consumodf.rename(columns={\"anio\":\"año\",\"consumo_total_mixto\":\"CTMixto\", \"consumo_prom_mixto\":\"CPMixto\",\n",
    "                                      \"consumo_prom_dom\":\"CPDomestico\",\"consumo_total_dom\":\"CTDomestico\",\n",
    "                                      \"consumo_prom_no_dom\":\"CPNODomestico\",\"consumo_total_no_dom\":\"CTNODomestico\"})\n",
    "consumodf.head()"
   ]
  },
  {
   "cell_type": "markdown",
   "metadata": {},
   "source": [
    "* **REORGANIZAR:** Vamos a reorganizar las columnas y a conservar sólo aquellas que vamos a utilizar, para ello se utiliza la sigiente sintaxis. Los nombres de las columnas van en el órden que nosotros establezcamos.\n",
    "\n",
    "  **Sintaxis:** nombredataframe=nombredataframe[[\"nombre columna1\",\"nombre columna2\",...\"nombre columnan\"]]"
   ]
  },
  {
   "cell_type": "code",
   "execution_count": 16,
   "metadata": {},
   "outputs": [
    {
     "data": {
      "text/html": [
       "<div>\n",
       "<style scoped>\n",
       "    .dataframe tbody tr th:only-of-type {\n",
       "        vertical-align: middle;\n",
       "    }\n",
       "\n",
       "    .dataframe tbody tr th {\n",
       "        vertical-align: top;\n",
       "    }\n",
       "\n",
       "    .dataframe thead th {\n",
       "        text-align: right;\n",
       "    }\n",
       "</style>\n",
       "<table border=\"1\" class=\"dataframe\">\n",
       "  <thead>\n",
       "    <tr style=\"text-align: right;\">\n",
       "      <th></th>\n",
       "      <th>año</th>\n",
       "      <th>alcaldia</th>\n",
       "      <th>colonia</th>\n",
       "      <th>bimestre</th>\n",
       "      <th>indice_des</th>\n",
       "      <th>CPDomestico</th>\n",
       "      <th>CTDomestico</th>\n",
       "      <th>CPNODomestico</th>\n",
       "      <th>CTNODomestico</th>\n",
       "      <th>CPMixto</th>\n",
       "      <th>CTMixto</th>\n",
       "      <th>consumo_total</th>\n",
       "      <th>consumo_prom</th>\n",
       "    </tr>\n",
       "  </thead>\n",
       "  <tbody>\n",
       "    <tr>\n",
       "      <th>0</th>\n",
       "      <td>2019</td>\n",
       "      <td>GUSTAVO A. MADERO</td>\n",
       "      <td>7 DE NOVIEMBRE</td>\n",
       "      <td>3</td>\n",
       "      <td>ALTO</td>\n",
       "      <td>42.566364</td>\n",
       "      <td>468.23</td>\n",
       "      <td>3.050000</td>\n",
       "      <td>3.05</td>\n",
       "      <td>53.240000</td>\n",
       "      <td>159.72</td>\n",
       "      <td>631.00</td>\n",
       "      <td>42.066667</td>\n",
       "    </tr>\n",
       "    <tr>\n",
       "      <th>1</th>\n",
       "      <td>2019</td>\n",
       "      <td>GUSTAVO A. MADERO</td>\n",
       "      <td>7 DE NOVIEMBRE</td>\n",
       "      <td>3</td>\n",
       "      <td>MEDIO</td>\n",
       "      <td>35.936667</td>\n",
       "      <td>107.81</td>\n",
       "      <td>7.320000</td>\n",
       "      <td>7.32</td>\n",
       "      <td>0.000000</td>\n",
       "      <td>0.00</td>\n",
       "      <td>115.13</td>\n",
       "      <td>28.782500</td>\n",
       "    </tr>\n",
       "    <tr>\n",
       "      <th>2</th>\n",
       "      <td>2019</td>\n",
       "      <td>GUSTAVO A. MADERO</td>\n",
       "      <td>7 DE NOVIEMBRE</td>\n",
       "      <td>3</td>\n",
       "      <td>POPULAR</td>\n",
       "      <td>24.586000</td>\n",
       "      <td>122.93</td>\n",
       "      <td>75.030000</td>\n",
       "      <td>75.03</td>\n",
       "      <td>0.000000</td>\n",
       "      <td>0.00</td>\n",
       "      <td>197.96</td>\n",
       "      <td>32.993333</td>\n",
       "    </tr>\n",
       "    <tr>\n",
       "      <th>3</th>\n",
       "      <td>2019</td>\n",
       "      <td>GUSTAVO A. MADERO</td>\n",
       "      <td>NUEVA TENOCHTITLAN</td>\n",
       "      <td>3</td>\n",
       "      <td>BAJO</td>\n",
       "      <td>0.000000</td>\n",
       "      <td>0.00</td>\n",
       "      <td>84.510000</td>\n",
       "      <td>253.53</td>\n",
       "      <td>0.000000</td>\n",
       "      <td>0.00</td>\n",
       "      <td>253.53</td>\n",
       "      <td>84.510000</td>\n",
       "    </tr>\n",
       "    <tr>\n",
       "      <th>4</th>\n",
       "      <td>2019</td>\n",
       "      <td>AZCAPOTZALCO</td>\n",
       "      <td>PROHOGAR</td>\n",
       "      <td>3</td>\n",
       "      <td>BAJO</td>\n",
       "      <td>67.436250</td>\n",
       "      <td>539.49</td>\n",
       "      <td>121.570000</td>\n",
       "      <td>243.14</td>\n",
       "      <td>56.720000</td>\n",
       "      <td>56.72</td>\n",
       "      <td>839.35</td>\n",
       "      <td>76.304545</td>\n",
       "    </tr>\n",
       "    <tr>\n",
       "      <th>...</th>\n",
       "      <td>...</td>\n",
       "      <td>...</td>\n",
       "      <td>...</td>\n",
       "      <td>...</td>\n",
       "      <td>...</td>\n",
       "      <td>...</td>\n",
       "      <td>...</td>\n",
       "      <td>...</td>\n",
       "      <td>...</td>\n",
       "      <td>...</td>\n",
       "      <td>...</td>\n",
       "      <td>...</td>\n",
       "      <td>...</td>\n",
       "    </tr>\n",
       "    <tr>\n",
       "      <th>71097</th>\n",
       "      <td>2019</td>\n",
       "      <td>CUAUHTEMOC</td>\n",
       "      <td>GUERRERO</td>\n",
       "      <td>1</td>\n",
       "      <td>BAJO</td>\n",
       "      <td>20.053112</td>\n",
       "      <td>3930.41</td>\n",
       "      <td>13.687308</td>\n",
       "      <td>355.87</td>\n",
       "      <td>NaN</td>\n",
       "      <td>NaN</td>\n",
       "      <td>4286.28</td>\n",
       "      <td>19.307568</td>\n",
       "    </tr>\n",
       "    <tr>\n",
       "      <th>71098</th>\n",
       "      <td>2019</td>\n",
       "      <td>CUAUHTEMOC</td>\n",
       "      <td>GUERRERO</td>\n",
       "      <td>1</td>\n",
       "      <td>POPULAR</td>\n",
       "      <td>21.126615</td>\n",
       "      <td>9549.24</td>\n",
       "      <td>13.506923</td>\n",
       "      <td>175.59</td>\n",
       "      <td>35.650001</td>\n",
       "      <td>71.30</td>\n",
       "      <td>9796.12</td>\n",
       "      <td>20.976702</td>\n",
       "    </tr>\n",
       "    <tr>\n",
       "      <th>71099</th>\n",
       "      <td>2019</td>\n",
       "      <td>CUAUHTEMOC</td>\n",
       "      <td>GUERRERO</td>\n",
       "      <td>1</td>\n",
       "      <td>BAJO</td>\n",
       "      <td>27.527778</td>\n",
       "      <td>4707.25</td>\n",
       "      <td>15.093334</td>\n",
       "      <td>226.40</td>\n",
       "      <td>94.894999</td>\n",
       "      <td>759.16</td>\n",
       "      <td>5692.81</td>\n",
       "      <td>29.344381</td>\n",
       "    </tr>\n",
       "    <tr>\n",
       "      <th>71100</th>\n",
       "      <td>2019</td>\n",
       "      <td>CUAUHTEMOC</td>\n",
       "      <td>GUERRERO</td>\n",
       "      <td>1</td>\n",
       "      <td>BAJO</td>\n",
       "      <td>30.605000</td>\n",
       "      <td>550.89</td>\n",
       "      <td>9.610000</td>\n",
       "      <td>9.61</td>\n",
       "      <td>100.662498</td>\n",
       "      <td>402.65</td>\n",
       "      <td>963.15</td>\n",
       "      <td>41.876087</td>\n",
       "    </tr>\n",
       "    <tr>\n",
       "      <th>71101</th>\n",
       "      <td>2019</td>\n",
       "      <td>CUAUHTEMOC</td>\n",
       "      <td>GUERRERO</td>\n",
       "      <td>1</td>\n",
       "      <td>BAJO</td>\n",
       "      <td>22.507710</td>\n",
       "      <td>8552.94</td>\n",
       "      <td>15.034444</td>\n",
       "      <td>405.93</td>\n",
       "      <td>13.733333</td>\n",
       "      <td>41.20</td>\n",
       "      <td>9000.07</td>\n",
       "      <td>21.951366</td>\n",
       "    </tr>\n",
       "  </tbody>\n",
       "</table>\n",
       "<p>71102 rows × 13 columns</p>\n",
       "</div>"
      ],
      "text/plain": [
       "        año           alcaldia             colonia  bimestre indice_des  \\\n",
       "0      2019  GUSTAVO A. MADERO      7 DE NOVIEMBRE         3       ALTO   \n",
       "1      2019  GUSTAVO A. MADERO      7 DE NOVIEMBRE         3      MEDIO   \n",
       "2      2019  GUSTAVO A. MADERO      7 DE NOVIEMBRE         3    POPULAR   \n",
       "3      2019  GUSTAVO A. MADERO  NUEVA TENOCHTITLAN         3       BAJO   \n",
       "4      2019       AZCAPOTZALCO            PROHOGAR         3       BAJO   \n",
       "...     ...                ...                 ...       ...        ...   \n",
       "71097  2019         CUAUHTEMOC            GUERRERO         1       BAJO   \n",
       "71098  2019         CUAUHTEMOC            GUERRERO         1    POPULAR   \n",
       "71099  2019         CUAUHTEMOC            GUERRERO         1       BAJO   \n",
       "71100  2019         CUAUHTEMOC            GUERRERO         1       BAJO   \n",
       "71101  2019         CUAUHTEMOC            GUERRERO         1       BAJO   \n",
       "\n",
       "       CPDomestico  CTDomestico  CPNODomestico  CTNODomestico     CPMixto  \\\n",
       "0        42.566364       468.23       3.050000           3.05   53.240000   \n",
       "1        35.936667       107.81       7.320000           7.32    0.000000   \n",
       "2        24.586000       122.93      75.030000          75.03    0.000000   \n",
       "3         0.000000         0.00      84.510000         253.53    0.000000   \n",
       "4        67.436250       539.49     121.570000         243.14   56.720000   \n",
       "...            ...          ...            ...            ...         ...   \n",
       "71097    20.053112      3930.41      13.687308         355.87         NaN   \n",
       "71098    21.126615      9549.24      13.506923         175.59   35.650001   \n",
       "71099    27.527778      4707.25      15.093334         226.40   94.894999   \n",
       "71100    30.605000       550.89       9.610000           9.61  100.662498   \n",
       "71101    22.507710      8552.94      15.034444         405.93   13.733333   \n",
       "\n",
       "       CTMixto  consumo_total  consumo_prom  \n",
       "0       159.72         631.00     42.066667  \n",
       "1         0.00         115.13     28.782500  \n",
       "2         0.00         197.96     32.993333  \n",
       "3         0.00         253.53     84.510000  \n",
       "4        56.72         839.35     76.304545  \n",
       "...        ...            ...           ...  \n",
       "71097      NaN        4286.28     19.307568  \n",
       "71098    71.30        9796.12     20.976702  \n",
       "71099   759.16        5692.81     29.344381  \n",
       "71100   402.65         963.15     41.876087  \n",
       "71101    41.20        9000.07     21.951366  \n",
       "\n",
       "[71102 rows x 13 columns]"
      ]
     },
     "execution_count": 16,
     "metadata": {},
     "output_type": "execute_result"
    }
   ],
   "source": [
    "consumodf = consumodf[[\"año\",\"alcaldia\",\"colonia\",\"bimestre\",\"indice_des\",\"CPDomestico\",\"CTDomestico\",\"CPNODomestico\",\"CTNODomestico\",\"CPMixto\",\"CTMixto\",\"consumo_total\",\"consumo_prom\"]]\n",
    "consumodf"
   ]
  },
  {
   "cell_type": "markdown",
   "metadata": {},
   "source": [
    "# LIMPIANDO DATOS"
   ]
  },
  {
   "cell_type": "markdown",
   "metadata": {},
   "source": [
    "* Observa que la información de la columna alcaldía contiene errores e inconsistencias en algunos de los registros"
   ]
  },
  {
   "cell_type": "code",
   "execution_count": 17,
   "metadata": {},
   "outputs": [
    {
     "data": {
      "text/plain": [
       "IZTAPALAPA             10515\n",
       "GUSTAVO A. MADERO      10058\n",
       "CUAUHTEMOC              7313\n",
       "BENITO JUAREZ           6049\n",
       "VENUSTIANO CARRANZA     5179\n",
       "MIGUEL HIDALGO          5110\n",
       "COYOACAN                4947\n",
       "AZCAPOTZALCO            4216\n",
       "ALVARO OBREGON          4140\n",
       "IZTACALCO               3469\n",
       "TLALPAN                 3204\n",
       "XOCHIMILCO              2450\n",
       "TLAHUAC                 1955\n",
       "MAGDALENA CONTRERAS      955\n",
       "CUAJIMALPA               892\n",
       "MILPA ALTA               650\n",
       "Name: alcaldia, dtype: int64"
      ]
     },
     "execution_count": 17,
     "metadata": {},
     "output_type": "execute_result"
    }
   ],
   "source": [
    "consumodf[\"alcaldia\"].value_counts()"
   ]
  },
  {
   "cell_type": "markdown",
   "metadata": {},
   "source": [
    "* **REEMPLAZAR VALORES:** Para corregir esta situación utilizamos la instrucción **.replace**\n",
    "\n",
    "  **Sintaxis:** nombredataframe[\"columna\"]=nombredataframe[\"columna\"].replace({'Valor actual': 'Nuevo Valor', 'Valor actual': 'Nuevo Valor'})"
   ]
  },
  {
   "cell_type": "code",
   "execution_count": 18,
   "metadata": {},
   "outputs": [],
   "source": [
    "consumodf[\"alcaldia\"] = consumodf[\"alcaldia\"].replace(\n",
    "                                    {'IZTAPALAPA': 'IZP'}\n",
    ")"
   ]
  },
  {
   "cell_type": "markdown",
   "metadata": {},
   "source": [
    "* Comprobamos que efectivamente se han reemplazado los datos"
   ]
  },
  {
   "cell_type": "code",
   "execution_count": 19,
   "metadata": {},
   "outputs": [
    {
     "data": {
      "text/plain": [
       "IZP                    10515\n",
       "GUSTAVO A. MADERO      10058\n",
       "CUAUHTEMOC              7313\n",
       "BENITO JUAREZ           6049\n",
       "VENUSTIANO CARRANZA     5179\n",
       "MIGUEL HIDALGO          5110\n",
       "COYOACAN                4947\n",
       "AZCAPOTZALCO            4216\n",
       "ALVARO OBREGON          4140\n",
       "IZTACALCO               3469\n",
       "TLALPAN                 3204\n",
       "XOCHIMILCO              2450\n",
       "TLAHUAC                 1955\n",
       "MAGDALENA CONTRERAS      955\n",
       "CUAJIMALPA               892\n",
       "MILPA ALTA               650\n",
       "Name: alcaldia, dtype: int64"
      ]
     },
     "execution_count": 19,
     "metadata": {},
     "output_type": "execute_result"
    }
   ],
   "source": [
    "consumodf[\"alcaldia\"].value_counts()"
   ]
  },
  {
   "cell_type": "markdown",
   "metadata": {},
   "source": [
    "* **CAMBIANDO EL TIPO DE DATOS:** \n",
    "Ahora vamos a cambiar el tipo de datos de algunas columnas con la instrucción **.astype**\n",
    "Iniciamos el proceso revisando el tipo de datos actual de cada columna.\n",
    "\n",
    "  **Sintaxis:** dataFrame.dtypes"
   ]
  },
  {
   "cell_type": "code",
   "execution_count": 20,
   "metadata": {},
   "outputs": [
    {
     "data": {
      "text/plain": [
       "año                int64\n",
       "alcaldia          object\n",
       "colonia           object\n",
       "bimestre           int64\n",
       "indice_des        object\n",
       "CPDomestico      float64\n",
       "CTDomestico      float64\n",
       "CPNODomestico    float64\n",
       "CTNODomestico    float64\n",
       "CPMixto          float64\n",
       "CTMixto          float64\n",
       "consumo_total    float64\n",
       "consumo_prom     float64\n",
       "dtype: object"
      ]
     },
     "execution_count": 20,
     "metadata": {},
     "output_type": "execute_result"
    }
   ],
   "source": [
    "consumodf.dtypes"
   ]
  },
  {
   "cell_type": "markdown",
   "metadata": {},
   "source": [
    "* Vamos a cambiar año y bimestre a tipo string y, la columna \"indice_des\" a categoría aplicando la  instrucción **.astype.**\n",
    " \n",
    " Formateamos las columnas float a 2 decimales\n"
   ]
  },
  {
   "cell_type": "code",
   "execution_count": 24,
   "metadata": {},
   "outputs": [
    {
     "data": {
      "text/html": [
       "<div>\n",
       "<style scoped>\n",
       "    .dataframe tbody tr th:only-of-type {\n",
       "        vertical-align: middle;\n",
       "    }\n",
       "\n",
       "    .dataframe tbody tr th {\n",
       "        vertical-align: top;\n",
       "    }\n",
       "\n",
       "    .dataframe thead th {\n",
       "        text-align: right;\n",
       "    }\n",
       "</style>\n",
       "<table border=\"1\" class=\"dataframe\">\n",
       "  <thead>\n",
       "    <tr style=\"text-align: right;\">\n",
       "      <th></th>\n",
       "      <th>año</th>\n",
       "      <th>alcaldia</th>\n",
       "      <th>colonia</th>\n",
       "      <th>bimestre</th>\n",
       "      <th>indice_des</th>\n",
       "      <th>CPDomestico</th>\n",
       "      <th>CTDomestico</th>\n",
       "      <th>CPNODomestico</th>\n",
       "      <th>CTNODomestico</th>\n",
       "      <th>CPMixto</th>\n",
       "      <th>CTMixto</th>\n",
       "      <th>consumo_total</th>\n",
       "      <th>consumo_prom</th>\n",
       "    </tr>\n",
       "  </thead>\n",
       "  <tbody>\n",
       "    <tr>\n",
       "      <th>0</th>\n",
       "      <td>2019</td>\n",
       "      <td>GUSTAVO A. MADERO</td>\n",
       "      <td>7 DE NOVIEMBRE</td>\n",
       "      <td>3</td>\n",
       "      <td>ALTO</td>\n",
       "      <td>42.57</td>\n",
       "      <td>468.23</td>\n",
       "      <td>3.05</td>\n",
       "      <td>3.05</td>\n",
       "      <td>53.24</td>\n",
       "      <td>159.72</td>\n",
       "      <td>631.00</td>\n",
       "      <td>42.07</td>\n",
       "    </tr>\n",
       "    <tr>\n",
       "      <th>1</th>\n",
       "      <td>2019</td>\n",
       "      <td>GUSTAVO A. MADERO</td>\n",
       "      <td>7 DE NOVIEMBRE</td>\n",
       "      <td>3</td>\n",
       "      <td>MEDIO</td>\n",
       "      <td>35.94</td>\n",
       "      <td>107.81</td>\n",
       "      <td>7.32</td>\n",
       "      <td>7.32</td>\n",
       "      <td>0.00</td>\n",
       "      <td>0.00</td>\n",
       "      <td>115.13</td>\n",
       "      <td>28.78</td>\n",
       "    </tr>\n",
       "    <tr>\n",
       "      <th>2</th>\n",
       "      <td>2019</td>\n",
       "      <td>GUSTAVO A. MADERO</td>\n",
       "      <td>7 DE NOVIEMBRE</td>\n",
       "      <td>3</td>\n",
       "      <td>POPULAR</td>\n",
       "      <td>24.59</td>\n",
       "      <td>122.93</td>\n",
       "      <td>75.03</td>\n",
       "      <td>75.03</td>\n",
       "      <td>0.00</td>\n",
       "      <td>0.00</td>\n",
       "      <td>197.96</td>\n",
       "      <td>32.99</td>\n",
       "    </tr>\n",
       "    <tr>\n",
       "      <th>3</th>\n",
       "      <td>2019</td>\n",
       "      <td>GUSTAVO A. MADERO</td>\n",
       "      <td>NUEVA TENOCHTITLAN</td>\n",
       "      <td>3</td>\n",
       "      <td>BAJO</td>\n",
       "      <td>0.00</td>\n",
       "      <td>0.00</td>\n",
       "      <td>84.51</td>\n",
       "      <td>253.53</td>\n",
       "      <td>0.00</td>\n",
       "      <td>0.00</td>\n",
       "      <td>253.53</td>\n",
       "      <td>84.51</td>\n",
       "    </tr>\n",
       "    <tr>\n",
       "      <th>4</th>\n",
       "      <td>2019</td>\n",
       "      <td>AZCAPOTZALCO</td>\n",
       "      <td>PROHOGAR</td>\n",
       "      <td>3</td>\n",
       "      <td>BAJO</td>\n",
       "      <td>67.44</td>\n",
       "      <td>539.49</td>\n",
       "      <td>121.57</td>\n",
       "      <td>243.14</td>\n",
       "      <td>56.72</td>\n",
       "      <td>56.72</td>\n",
       "      <td>839.35</td>\n",
       "      <td>76.30</td>\n",
       "    </tr>\n",
       "    <tr>\n",
       "      <th>...</th>\n",
       "      <td>...</td>\n",
       "      <td>...</td>\n",
       "      <td>...</td>\n",
       "      <td>...</td>\n",
       "      <td>...</td>\n",
       "      <td>...</td>\n",
       "      <td>...</td>\n",
       "      <td>...</td>\n",
       "      <td>...</td>\n",
       "      <td>...</td>\n",
       "      <td>...</td>\n",
       "      <td>...</td>\n",
       "      <td>...</td>\n",
       "    </tr>\n",
       "    <tr>\n",
       "      <th>71097</th>\n",
       "      <td>2019</td>\n",
       "      <td>CUAUHTEMOC</td>\n",
       "      <td>GUERRERO</td>\n",
       "      <td>1</td>\n",
       "      <td>BAJO</td>\n",
       "      <td>20.05</td>\n",
       "      <td>3930.41</td>\n",
       "      <td>13.69</td>\n",
       "      <td>355.87</td>\n",
       "      <td>NaN</td>\n",
       "      <td>NaN</td>\n",
       "      <td>4286.28</td>\n",
       "      <td>19.31</td>\n",
       "    </tr>\n",
       "    <tr>\n",
       "      <th>71098</th>\n",
       "      <td>2019</td>\n",
       "      <td>CUAUHTEMOC</td>\n",
       "      <td>GUERRERO</td>\n",
       "      <td>1</td>\n",
       "      <td>POPULAR</td>\n",
       "      <td>21.13</td>\n",
       "      <td>9549.24</td>\n",
       "      <td>13.51</td>\n",
       "      <td>175.59</td>\n",
       "      <td>35.65</td>\n",
       "      <td>71.30</td>\n",
       "      <td>9796.12</td>\n",
       "      <td>20.98</td>\n",
       "    </tr>\n",
       "    <tr>\n",
       "      <th>71099</th>\n",
       "      <td>2019</td>\n",
       "      <td>CUAUHTEMOC</td>\n",
       "      <td>GUERRERO</td>\n",
       "      <td>1</td>\n",
       "      <td>BAJO</td>\n",
       "      <td>27.53</td>\n",
       "      <td>4707.25</td>\n",
       "      <td>15.09</td>\n",
       "      <td>226.40</td>\n",
       "      <td>94.89</td>\n",
       "      <td>759.16</td>\n",
       "      <td>5692.81</td>\n",
       "      <td>29.34</td>\n",
       "    </tr>\n",
       "    <tr>\n",
       "      <th>71100</th>\n",
       "      <td>2019</td>\n",
       "      <td>CUAUHTEMOC</td>\n",
       "      <td>GUERRERO</td>\n",
       "      <td>1</td>\n",
       "      <td>BAJO</td>\n",
       "      <td>30.61</td>\n",
       "      <td>550.89</td>\n",
       "      <td>9.61</td>\n",
       "      <td>9.61</td>\n",
       "      <td>100.66</td>\n",
       "      <td>402.65</td>\n",
       "      <td>963.15</td>\n",
       "      <td>41.88</td>\n",
       "    </tr>\n",
       "    <tr>\n",
       "      <th>71101</th>\n",
       "      <td>2019</td>\n",
       "      <td>CUAUHTEMOC</td>\n",
       "      <td>GUERRERO</td>\n",
       "      <td>1</td>\n",
       "      <td>BAJO</td>\n",
       "      <td>22.51</td>\n",
       "      <td>8552.94</td>\n",
       "      <td>15.03</td>\n",
       "      <td>405.93</td>\n",
       "      <td>13.73</td>\n",
       "      <td>41.20</td>\n",
       "      <td>9000.07</td>\n",
       "      <td>21.95</td>\n",
       "    </tr>\n",
       "  </tbody>\n",
       "</table>\n",
       "<p>71102 rows × 13 columns</p>\n",
       "</div>"
      ],
      "text/plain": [
       "        año           alcaldia             colonia  bimestre indice_des  \\\n",
       "0      2019  GUSTAVO A. MADERO      7 DE NOVIEMBRE         3       ALTO   \n",
       "1      2019  GUSTAVO A. MADERO      7 DE NOVIEMBRE         3      MEDIO   \n",
       "2      2019  GUSTAVO A. MADERO      7 DE NOVIEMBRE         3    POPULAR   \n",
       "3      2019  GUSTAVO A. MADERO  NUEVA TENOCHTITLAN         3       BAJO   \n",
       "4      2019       AZCAPOTZALCO            PROHOGAR         3       BAJO   \n",
       "...     ...                ...                 ...       ...        ...   \n",
       "71097  2019         CUAUHTEMOC            GUERRERO         1       BAJO   \n",
       "71098  2019         CUAUHTEMOC            GUERRERO         1    POPULAR   \n",
       "71099  2019         CUAUHTEMOC            GUERRERO         1       BAJO   \n",
       "71100  2019         CUAUHTEMOC            GUERRERO         1       BAJO   \n",
       "71101  2019         CUAUHTEMOC            GUERRERO         1       BAJO   \n",
       "\n",
       "       CPDomestico  CTDomestico  CPNODomestico  CTNODomestico  CPMixto  \\\n",
       "0            42.57       468.23           3.05           3.05    53.24   \n",
       "1            35.94       107.81           7.32           7.32     0.00   \n",
       "2            24.59       122.93          75.03          75.03     0.00   \n",
       "3             0.00         0.00          84.51         253.53     0.00   \n",
       "4            67.44       539.49         121.57         243.14    56.72   \n",
       "...            ...          ...            ...            ...      ...   \n",
       "71097        20.05      3930.41          13.69         355.87      NaN   \n",
       "71098        21.13      9549.24          13.51         175.59    35.65   \n",
       "71099        27.53      4707.25          15.09         226.40    94.89   \n",
       "71100        30.61       550.89           9.61           9.61   100.66   \n",
       "71101        22.51      8552.94          15.03         405.93    13.73   \n",
       "\n",
       "       CTMixto  consumo_total  consumo_prom  \n",
       "0       159.72         631.00         42.07  \n",
       "1         0.00         115.13         28.78  \n",
       "2         0.00         197.96         32.99  \n",
       "3         0.00         253.53         84.51  \n",
       "4        56.72         839.35         76.30  \n",
       "...        ...            ...           ...  \n",
       "71097      NaN        4286.28         19.31  \n",
       "71098    71.30        9796.12         20.98  \n",
       "71099   759.16        5692.81         29.34  \n",
       "71100   402.65         963.15         41.88  \n",
       "71101    41.20        9000.07         21.95  \n",
       "\n",
       "[71102 rows x 13 columns]"
      ]
     },
     "execution_count": 24,
     "metadata": {},
     "output_type": "execute_result"
    }
   ],
   "source": [
    "consumodf = consumodf.round(2)\n",
    "consumodf"
   ]
  },
  {
   "cell_type": "code",
   "execution_count": 25,
   "metadata": {},
   "outputs": [
    {
     "data": {
      "text/html": [
       "<div>\n",
       "<style scoped>\n",
       "    .dataframe tbody tr th:only-of-type {\n",
       "        vertical-align: middle;\n",
       "    }\n",
       "\n",
       "    .dataframe tbody tr th {\n",
       "        vertical-align: top;\n",
       "    }\n",
       "\n",
       "    .dataframe thead th {\n",
       "        text-align: right;\n",
       "    }\n",
       "</style>\n",
       "<table border=\"1\" class=\"dataframe\">\n",
       "  <thead>\n",
       "    <tr style=\"text-align: right;\">\n",
       "      <th></th>\n",
       "      <th>año</th>\n",
       "      <th>alcaldia</th>\n",
       "      <th>colonia</th>\n",
       "      <th>bimestre</th>\n",
       "      <th>indice_des</th>\n",
       "      <th>CPDomestico</th>\n",
       "      <th>CTDomestico</th>\n",
       "      <th>CPNODomestico</th>\n",
       "      <th>CTNODomestico</th>\n",
       "      <th>CPMixto</th>\n",
       "      <th>CTMixto</th>\n",
       "      <th>consumo_total</th>\n",
       "      <th>consumo_prom</th>\n",
       "    </tr>\n",
       "  </thead>\n",
       "  <tbody>\n",
       "    <tr>\n",
       "      <th>0</th>\n",
       "      <td>2019</td>\n",
       "      <td>GUSTAVO A. MADERO</td>\n",
       "      <td>7 DE NOVIEMBRE</td>\n",
       "      <td>3</td>\n",
       "      <td>ALTO</td>\n",
       "      <td>42.57</td>\n",
       "      <td>468.23</td>\n",
       "      <td>3.05</td>\n",
       "      <td>3.05</td>\n",
       "      <td>53.24</td>\n",
       "      <td>159.72</td>\n",
       "      <td>631.00</td>\n",
       "      <td>42.07</td>\n",
       "    </tr>\n",
       "    <tr>\n",
       "      <th>1</th>\n",
       "      <td>2019</td>\n",
       "      <td>GUSTAVO A. MADERO</td>\n",
       "      <td>7 DE NOVIEMBRE</td>\n",
       "      <td>3</td>\n",
       "      <td>MEDIO</td>\n",
       "      <td>35.94</td>\n",
       "      <td>107.81</td>\n",
       "      <td>7.32</td>\n",
       "      <td>7.32</td>\n",
       "      <td>0.00</td>\n",
       "      <td>0.00</td>\n",
       "      <td>115.13</td>\n",
       "      <td>28.78</td>\n",
       "    </tr>\n",
       "    <tr>\n",
       "      <th>2</th>\n",
       "      <td>2019</td>\n",
       "      <td>GUSTAVO A. MADERO</td>\n",
       "      <td>7 DE NOVIEMBRE</td>\n",
       "      <td>3</td>\n",
       "      <td>POPULAR</td>\n",
       "      <td>24.59</td>\n",
       "      <td>122.93</td>\n",
       "      <td>75.03</td>\n",
       "      <td>75.03</td>\n",
       "      <td>0.00</td>\n",
       "      <td>0.00</td>\n",
       "      <td>197.96</td>\n",
       "      <td>32.99</td>\n",
       "    </tr>\n",
       "    <tr>\n",
       "      <th>3</th>\n",
       "      <td>2019</td>\n",
       "      <td>GUSTAVO A. MADERO</td>\n",
       "      <td>NUEVA TENOCHTITLAN</td>\n",
       "      <td>3</td>\n",
       "      <td>BAJO</td>\n",
       "      <td>0.00</td>\n",
       "      <td>0.00</td>\n",
       "      <td>84.51</td>\n",
       "      <td>253.53</td>\n",
       "      <td>0.00</td>\n",
       "      <td>0.00</td>\n",
       "      <td>253.53</td>\n",
       "      <td>84.51</td>\n",
       "    </tr>\n",
       "    <tr>\n",
       "      <th>4</th>\n",
       "      <td>2019</td>\n",
       "      <td>AZCAPOTZALCO</td>\n",
       "      <td>PROHOGAR</td>\n",
       "      <td>3</td>\n",
       "      <td>BAJO</td>\n",
       "      <td>67.44</td>\n",
       "      <td>539.49</td>\n",
       "      <td>121.57</td>\n",
       "      <td>243.14</td>\n",
       "      <td>56.72</td>\n",
       "      <td>56.72</td>\n",
       "      <td>839.35</td>\n",
       "      <td>76.30</td>\n",
       "    </tr>\n",
       "    <tr>\n",
       "      <th>...</th>\n",
       "      <td>...</td>\n",
       "      <td>...</td>\n",
       "      <td>...</td>\n",
       "      <td>...</td>\n",
       "      <td>...</td>\n",
       "      <td>...</td>\n",
       "      <td>...</td>\n",
       "      <td>...</td>\n",
       "      <td>...</td>\n",
       "      <td>...</td>\n",
       "      <td>...</td>\n",
       "      <td>...</td>\n",
       "      <td>...</td>\n",
       "    </tr>\n",
       "    <tr>\n",
       "      <th>71097</th>\n",
       "      <td>2019</td>\n",
       "      <td>CUAUHTEMOC</td>\n",
       "      <td>GUERRERO</td>\n",
       "      <td>1</td>\n",
       "      <td>BAJO</td>\n",
       "      <td>20.05</td>\n",
       "      <td>3930.41</td>\n",
       "      <td>13.69</td>\n",
       "      <td>355.87</td>\n",
       "      <td>NaN</td>\n",
       "      <td>NaN</td>\n",
       "      <td>4286.28</td>\n",
       "      <td>19.31</td>\n",
       "    </tr>\n",
       "    <tr>\n",
       "      <th>71098</th>\n",
       "      <td>2019</td>\n",
       "      <td>CUAUHTEMOC</td>\n",
       "      <td>GUERRERO</td>\n",
       "      <td>1</td>\n",
       "      <td>POPULAR</td>\n",
       "      <td>21.13</td>\n",
       "      <td>9549.24</td>\n",
       "      <td>13.51</td>\n",
       "      <td>175.59</td>\n",
       "      <td>35.65</td>\n",
       "      <td>71.30</td>\n",
       "      <td>9796.12</td>\n",
       "      <td>20.98</td>\n",
       "    </tr>\n",
       "    <tr>\n",
       "      <th>71099</th>\n",
       "      <td>2019</td>\n",
       "      <td>CUAUHTEMOC</td>\n",
       "      <td>GUERRERO</td>\n",
       "      <td>1</td>\n",
       "      <td>BAJO</td>\n",
       "      <td>27.53</td>\n",
       "      <td>4707.25</td>\n",
       "      <td>15.09</td>\n",
       "      <td>226.40</td>\n",
       "      <td>94.89</td>\n",
       "      <td>759.16</td>\n",
       "      <td>5692.81</td>\n",
       "      <td>29.34</td>\n",
       "    </tr>\n",
       "    <tr>\n",
       "      <th>71100</th>\n",
       "      <td>2019</td>\n",
       "      <td>CUAUHTEMOC</td>\n",
       "      <td>GUERRERO</td>\n",
       "      <td>1</td>\n",
       "      <td>BAJO</td>\n",
       "      <td>30.61</td>\n",
       "      <td>550.89</td>\n",
       "      <td>9.61</td>\n",
       "      <td>9.61</td>\n",
       "      <td>100.66</td>\n",
       "      <td>402.65</td>\n",
       "      <td>963.15</td>\n",
       "      <td>41.88</td>\n",
       "    </tr>\n",
       "    <tr>\n",
       "      <th>71101</th>\n",
       "      <td>2019</td>\n",
       "      <td>CUAUHTEMOC</td>\n",
       "      <td>GUERRERO</td>\n",
       "      <td>1</td>\n",
       "      <td>BAJO</td>\n",
       "      <td>22.51</td>\n",
       "      <td>8552.94</td>\n",
       "      <td>15.03</td>\n",
       "      <td>405.93</td>\n",
       "      <td>13.73</td>\n",
       "      <td>41.20</td>\n",
       "      <td>9000.07</td>\n",
       "      <td>21.95</td>\n",
       "    </tr>\n",
       "  </tbody>\n",
       "</table>\n",
       "<p>71102 rows × 13 columns</p>\n",
       "</div>"
      ],
      "text/plain": [
       "        año           alcaldia             colonia bimestre indice_des  \\\n",
       "0      2019  GUSTAVO A. MADERO      7 DE NOVIEMBRE        3       ALTO   \n",
       "1      2019  GUSTAVO A. MADERO      7 DE NOVIEMBRE        3      MEDIO   \n",
       "2      2019  GUSTAVO A. MADERO      7 DE NOVIEMBRE        3    POPULAR   \n",
       "3      2019  GUSTAVO A. MADERO  NUEVA TENOCHTITLAN        3       BAJO   \n",
       "4      2019       AZCAPOTZALCO            PROHOGAR        3       BAJO   \n",
       "...     ...                ...                 ...      ...        ...   \n",
       "71097  2019         CUAUHTEMOC            GUERRERO        1       BAJO   \n",
       "71098  2019         CUAUHTEMOC            GUERRERO        1    POPULAR   \n",
       "71099  2019         CUAUHTEMOC            GUERRERO        1       BAJO   \n",
       "71100  2019         CUAUHTEMOC            GUERRERO        1       BAJO   \n",
       "71101  2019         CUAUHTEMOC            GUERRERO        1       BAJO   \n",
       "\n",
       "       CPDomestico  CTDomestico  CPNODomestico  CTNODomestico  CPMixto  \\\n",
       "0            42.57       468.23           3.05           3.05    53.24   \n",
       "1            35.94       107.81           7.32           7.32     0.00   \n",
       "2            24.59       122.93          75.03          75.03     0.00   \n",
       "3             0.00         0.00          84.51         253.53     0.00   \n",
       "4            67.44       539.49         121.57         243.14    56.72   \n",
       "...            ...          ...            ...            ...      ...   \n",
       "71097        20.05      3930.41          13.69         355.87      NaN   \n",
       "71098        21.13      9549.24          13.51         175.59    35.65   \n",
       "71099        27.53      4707.25          15.09         226.40    94.89   \n",
       "71100        30.61       550.89           9.61           9.61   100.66   \n",
       "71101        22.51      8552.94          15.03         405.93    13.73   \n",
       "\n",
       "       CTMixto  consumo_total  consumo_prom  \n",
       "0       159.72         631.00         42.07  \n",
       "1         0.00         115.13         28.78  \n",
       "2         0.00         197.96         32.99  \n",
       "3         0.00         253.53         84.51  \n",
       "4        56.72         839.35         76.30  \n",
       "...        ...            ...           ...  \n",
       "71097      NaN        4286.28         19.31  \n",
       "71098    71.30        9796.12         20.98  \n",
       "71099   759.16        5692.81         29.34  \n",
       "71100   402.65         963.15         41.88  \n",
       "71101    41.20        9000.07         21.95  \n",
       "\n",
       "[71102 rows x 13 columns]"
      ]
     },
     "execution_count": 25,
     "metadata": {},
     "output_type": "execute_result"
    }
   ],
   "source": [
    "#consumodf.round(2)\n",
    "consumodf[\"año\"]=consumodf[\"año\"].astype(str)\n",
    "consumodf[\"bimestre\"]=consumodf[\"bimestre\"].astype(str)\n",
    "consumodf[\"indice_des\"]=consumodf[\"indice_des\"].astype('category')\n",
    "consumodf"
   ]
  },
  {
   "cell_type": "markdown",
   "metadata": {},
   "source": [
    "* Comprobamos el cambio en el tipo de datos"
   ]
  },
  {
   "cell_type": "code",
   "execution_count": 26,
   "metadata": {},
   "outputs": [
    {
     "data": {
      "text/plain": [
       "año                object\n",
       "alcaldia           object\n",
       "colonia            object\n",
       "bimestre           object\n",
       "indice_des       category\n",
       "CPDomestico       float64\n",
       "CTDomestico       float64\n",
       "CPNODomestico     float64\n",
       "CTNODomestico     float64\n",
       "CPMixto           float64\n",
       "CTMixto           float64\n",
       "consumo_total     float64\n",
       "consumo_prom      float64\n",
       "dtype: object"
      ]
     },
     "execution_count": 26,
     "metadata": {},
     "output_type": "execute_result"
    }
   ],
   "source": [
    "consumodf.dtypes"
   ]
  },
  {
   "cell_type": "markdown",
   "metadata": {},
   "source": [
    "**VALORES PERDIDOS nan y 0**\n",
    "Ahora revisemos los registros en 0 y los valores perdidos\n",
    "Para recabar la información utilizamos un \"loop\" o iteración en cada columna.\n",
    "* 1) La instrucción **consumodf.columns:** nos da como resultado una lista con los nombres de las columnas\n",
    "* 2) de esta lista vamos seleccionado cada elemento (i) con la instrucción **  for i in consumodf.columns:**\n",
    "* 3) por cada elemento(i) le pedimos a python que imprima (i) y aplique **consumodf[i].value_counts()** instrucción que nos mostrará los valores que toma (i)\n",
    "    "
   ]
  },
  {
   "cell_type": "code",
   "execution_count": 27,
   "metadata": {},
   "outputs": [
    {
     "name": "stdout",
     "output_type": "stream",
     "text": [
      "año\n",
      "2019    71102\n",
      "Name: año, dtype: int64\n",
      "alcaldia\n",
      "IZP                    10515\n",
      "GUSTAVO A. MADERO      10058\n",
      "CUAUHTEMOC              7313\n",
      "BENITO JUAREZ           6049\n",
      "VENUSTIANO CARRANZA     5179\n",
      "MIGUEL HIDALGO          5110\n",
      "COYOACAN                4947\n",
      "AZCAPOTZALCO            4216\n",
      "ALVARO OBREGON          4140\n",
      "IZTACALCO               3469\n",
      "TLALPAN                 3204\n",
      "XOCHIMILCO              2450\n",
      "TLAHUAC                 1955\n",
      "MAGDALENA CONTRERAS      955\n",
      "CUAJIMALPA               892\n",
      "MILPA ALTA               650\n",
      "Name: alcaldia, dtype: int64\n",
      "colonia\n",
      "CENTRO                  1139\n",
      "AGRICOLA ORIENTAL        837\n",
      "ROMA NORTE               602\n",
      "MOCTEZUMA 2A SECCION     558\n",
      "JARDIN BALBUENA          498\n",
      "                        ... \n",
      "HUIZACHITO                 2\n",
      "PIRU SECC. I               2\n",
      "CALZADA JALALPA            2\n",
      "SANTISIMA TRINIDAD         1\n",
      "U. HAB. NUEVA ROSITA       1\n",
      "Name: colonia, Length: 1340, dtype: int64\n",
      "bimestre\n",
      "2    23942\n",
      "3    23822\n",
      "1    23338\n",
      "Name: bimestre, dtype: int64\n",
      "indice_des\n",
      "BAJO       29248\n",
      "POPULAR    16539\n",
      "ALTO       15516\n",
      "MEDIO       9799\n",
      "Name: indice_des, dtype: int64\n",
      "CPDomestico\n",
      "0.00      9861\n",
      "20.48       45\n",
      "23.18       44\n",
      "21.96       42\n",
      "21.35       39\n",
      "          ... \n",
      "222.14       1\n",
      "92.18        1\n",
      "62.56        1\n",
      "63.39        1\n",
      "3.30         1\n",
      "Name: CPDomestico, Length: 7479, dtype: int64\n",
      "CTDomestico\n",
      "0.00       9861\n",
      "1.22         37\n",
      "10.98        21\n",
      "14.64        20\n",
      "3.66         20\n",
      "           ... \n",
      "349.02        1\n",
      "707.75        1\n",
      "755.98        1\n",
      "2953.59       1\n",
      "1304.63       1\n",
      "Name: CTDomestico, Length: 47048, dtype: int64\n",
      "CPNODomestico\n",
      "0.00      8109\n",
      "1.22       352\n",
      "1.83       297\n",
      "3.05       264\n",
      "4.27       221\n",
      "          ... \n",
      "103.23       1\n",
      "103.27       1\n",
      "646.71       1\n",
      "114.97       1\n",
      "120.67       1\n",
      "Name: CPNODomestico, Length: 15758, dtype: int64\n",
      "CTNODomestico\n",
      "0.00       8109\n",
      "1.22        402\n",
      "1.83        316\n",
      "3.05        302\n",
      "7.93        219\n",
      "           ... \n",
      "192.44        1\n",
      "44.88         1\n",
      "23.46         1\n",
      "684.03        1\n",
      "1474.16       1\n",
      "Name: CTNODomestico, Length: 27336, dtype: int64\n",
      "CPMixto\n",
      "0.00      17715\n",
      "36.60        68\n",
      "17.70        66\n",
      "18.30        65\n",
      "36.00        63\n",
      "          ...  \n",
      "136.60        1\n",
      "142.83        1\n",
      "427.94        1\n",
      "104.16        1\n",
      "308.55        1\n",
      "Name: CPMixto, Length: 13543, dtype: int64\n",
      "CTMixto\n",
      "0.00       17715\n",
      "36.00         74\n",
      "17.70         61\n",
      "36.60         59\n",
      "18.30         54\n",
      "           ...  \n",
      "326.24         1\n",
      "275.51         1\n",
      "1428.80        1\n",
      "620.59         1\n",
      "120.67         1\n",
      "Name: CTMixto, Length: 24339, dtype: int64\n",
      "consumo_total\n",
      "0.00       2451\n",
      "3.05         70\n",
      "1.22         68\n",
      "3.66         42\n",
      "6.71         41\n",
      "           ... \n",
      "740.42        1\n",
      "7506.75       1\n",
      "4375.88       1\n",
      "2692.06       1\n",
      "5411.66       1\n",
      "Name: consumo_total, Length: 56015, dtype: int64\n",
      "consumo_prom\n",
      "0.00       2451\n",
      "1.22         64\n",
      "3.05         56\n",
      "4.27         46\n",
      "24.40        46\n",
      "           ... \n",
      "130.69        1\n",
      "71.86         1\n",
      "60.06         1\n",
      "3991.23       1\n",
      "253.41        1\n",
      "Name: consumo_prom, Length: 13256, dtype: int64\n"
     ]
    }
   ],
   "source": [
    "for i in consumodf.columns:\n",
    "    print(i)\n",
    "    print(consumodf[i].value_counts())"
   ]
  },
  {
   "cell_type": "markdown",
   "metadata": {},
   "source": [
    "* Como podemos observar en casi todas las columnas hay nan y valores 0.\n",
    "\n",
    "* Para **eliminar** los valores en **0 utilizamos la instrucción .drop.**\n",
    "  Apliquemos esta instrucción en una de las columnas de nuestro DataFrame"
   ]
  },
  {
   "cell_type": "code",
   "execution_count": 28,
   "metadata": {},
   "outputs": [],
   "source": [
    "consumodf = consumodf.drop(consumodf[consumodf['CPDomestico']==0].index)"
   ]
  },
  {
   "cell_type": "code",
   "execution_count": 29,
   "metadata": {},
   "outputs": [
    {
     "data": {
      "text/plain": [
       "20.48     45\n",
       "23.18     44\n",
       "21.96     42\n",
       "21.35     39\n",
       "26.84     38\n",
       "          ..\n",
       "74.11      1\n",
       "71.38      1\n",
       "65.71      1\n",
       "106.75     1\n",
       "61.41      1\n",
       "Name: CPDomestico, Length: 7478, dtype: int64"
      ]
     },
     "execution_count": 29,
     "metadata": {},
     "output_type": "execute_result"
    }
   ],
   "source": [
    "consumodf['CPDomestico'].value_counts()"
   ]
  },
  {
   "cell_type": "markdown",
   "metadata": {},
   "source": [
    "# EJERCICIO : UTIILIZANDO LOS NOMBRES DE LAS COLUMNAS QUE SE MUESTRAN DEBAJO COMPLETA LA INFORMACIÓN FALTANTE PARA ELIMINAR LAS FILAS CON REGISTROS EN 0\n",
    "En este caso vamos a elimiar todas esas filas para ilustrar algunos comandos, ¿tendría sentido eliminar todas las filas con valores en 0 en otro contexto?"
   ]
  },
  {
   "cell_type": "code",
   "execution_count": null,
   "metadata": {},
   "outputs": [],
   "source": [
    "consumodf.columns"
   ]
  },
  {
   "cell_type": "code",
   "execution_count": null,
   "metadata": {},
   "outputs": [],
   "source": [
    "consumodf = consumodf.drop(consumodf[consumodf['CTDomestico']==0].index)\n",
    "consumodf = .drop([consumodf['CPNODomestico']==0].)\n",
    "consumodf = consumodf.drop(consumodf[consumodf['CTNODomestico']==0].index)\n",
    "consumodf = consumodf.drop(consumodf[consumodf['CPMixto']==0].index)\n",
    " = .drop([consumodf['']==0].index)\n",
    "consumodf = consumodf.drop(consumodf[consumodf['consumo_total']==0].index)\n",
    " =(consumodf[consumodf['consumo_prom']==0].)"
   ]
  },
  {
   "cell_type": "markdown",
   "metadata": {},
   "source": [
    "**VALORES PERDIDOS**\n",
    "Iniciaremos este proceso revisando los valores perdidos con .count()"
   ]
  },
  {
   "cell_type": "code",
   "execution_count": null,
   "metadata": {},
   "outputs": [],
   "source": [
    "consumodf.count()"
   ]
  },
  {
   "cell_type": "markdown",
   "metadata": {},
   "source": [
    "* Utilizamos   la instrucción **.dropna** para eliminar las filas con información faltante"
   ]
  },
  {
   "cell_type": "code",
   "execution_count": null,
   "metadata": {},
   "outputs": [],
   "source": [
    "consumodf = consumodf.dropna(how=\"any\")\n",
    "consumodf.count()"
   ]
  },
  {
   "cell_type": "markdown",
   "metadata": {},
   "source": [
    "# GUARDANDO EL DATAFRAME LIMPIO"
   ]
  },
  {
   "cell_type": "markdown",
   "metadata": {},
   "source": [
    "**GUARDAMOS EL DATAFRAME EN UN NUEVO ARCHIVO**\n",
    "\n",
    "Observa que colocamos dos características a nuestra exportación 1)index y 2)header :\n",
    "\n",
    "* **Index False** exportará nuestro DataFRame sin la columna del índice generado por python y\n",
    "* **header True** guardará los nombres de las columnas como encabezados en el csv\n",
    "\n",
    "Siempre es recomendable tener una copia de tus datos limpios."
   ]
  },
  {
   "cell_type": "code",
   "execution_count": 31,
   "metadata": {},
   "outputs": [],
   "source": [
    "consumodf.to_csv(\"baseconsumolimpia.csv\",\n",
    "                  encoding=\"utf-8\", index=False, header=True)"
   ]
  },
  {
   "cell_type": "markdown",
   "metadata": {},
   "source": [
    "* Vamos a leer nuevamente los datos, pero ahora desde nuestro archivo limpio, ¿recuerdas como se hace?"
   ]
  },
  {
   "cell_type": "code",
   "execution_count": 32,
   "metadata": {},
   "outputs": [],
   "source": [
    "aguacsv=\"baseconsumolimpia.csv\""
   ]
  },
  {
   "cell_type": "code",
   "execution_count": 33,
   "metadata": {},
   "outputs": [],
   "source": [
    "consumodf = pd.read_csv(aguacsv,encoding=\"UTF-8\")"
   ]
  },
  {
   "cell_type": "markdown",
   "metadata": {},
   "source": [
    "# RESUMEN DE LA INFORMACIÓN"
   ]
  },
  {
   "cell_type": "markdown",
   "metadata": {},
   "source": [
    "* Vamos a hacer un resumen estadístico del DataFrame con la instrucción **.describe**"
   ]
  },
  {
   "cell_type": "code",
   "execution_count": 34,
   "metadata": {},
   "outputs": [
    {
     "data": {
      "text/html": [
       "<div>\n",
       "<style scoped>\n",
       "    .dataframe tbody tr th:only-of-type {\n",
       "        vertical-align: middle;\n",
       "    }\n",
       "\n",
       "    .dataframe tbody tr th {\n",
       "        vertical-align: top;\n",
       "    }\n",
       "\n",
       "    .dataframe thead th {\n",
       "        text-align: right;\n",
       "    }\n",
       "</style>\n",
       "<table border=\"1\" class=\"dataframe\">\n",
       "  <thead>\n",
       "    <tr style=\"text-align: right;\">\n",
       "      <th></th>\n",
       "      <th>año</th>\n",
       "      <th>bimestre</th>\n",
       "      <th>CPDomestico</th>\n",
       "      <th>CTDomestico</th>\n",
       "      <th>CPNODomestico</th>\n",
       "      <th>CTNODomestico</th>\n",
       "      <th>CPMixto</th>\n",
       "      <th>CTMixto</th>\n",
       "      <th>consumo_total</th>\n",
       "      <th>consumo_prom</th>\n",
       "    </tr>\n",
       "  </thead>\n",
       "  <tbody>\n",
       "    <tr>\n",
       "      <th>count</th>\n",
       "      <td>61241.0</td>\n",
       "      <td>61241.000000</td>\n",
       "      <td>56421.000000</td>\n",
       "      <td>56421.000000</td>\n",
       "      <td>61241.000000</td>\n",
       "      <td>61241.000000</td>\n",
       "      <td>52936.000000</td>\n",
       "      <td>52936.000000</td>\n",
       "      <td>61241.000000</td>\n",
       "      <td>61241.000000</td>\n",
       "    </tr>\n",
       "    <tr>\n",
       "      <th>mean</th>\n",
       "      <td>2019.0</td>\n",
       "      <td>1.928381</td>\n",
       "      <td>34.224003</td>\n",
       "      <td>1393.593249</td>\n",
       "      <td>86.066418</td>\n",
       "      <td>369.721983</td>\n",
       "      <td>57.952105</td>\n",
       "      <td>202.879198</td>\n",
       "      <td>1828.998249</td>\n",
       "      <td>68.209907</td>\n",
       "    </tr>\n",
       "    <tr>\n",
       "      <th>std</th>\n",
       "      <td>0.0</td>\n",
       "      <td>0.827159</td>\n",
       "      <td>68.724876</td>\n",
       "      <td>2954.958223</td>\n",
       "      <td>710.066586</td>\n",
       "      <td>1633.853180</td>\n",
       "      <td>132.133144</td>\n",
       "      <td>325.676197</td>\n",
       "      <td>3461.743068</td>\n",
       "      <td>662.009155</td>\n",
       "    </tr>\n",
       "    <tr>\n",
       "      <th>min</th>\n",
       "      <td>2019.0</td>\n",
       "      <td>1.000000</td>\n",
       "      <td>0.010000</td>\n",
       "      <td>0.120000</td>\n",
       "      <td>0.000000</td>\n",
       "      <td>0.000000</td>\n",
       "      <td>0.000000</td>\n",
       "      <td>0.000000</td>\n",
       "      <td>0.000000</td>\n",
       "      <td>0.000000</td>\n",
       "    </tr>\n",
       "    <tr>\n",
       "      <th>25%</th>\n",
       "      <td>2019.0</td>\n",
       "      <td>1.000000</td>\n",
       "      <td>22.440000</td>\n",
       "      <td>362.710000</td>\n",
       "      <td>6.540000</td>\n",
       "      <td>11.870000</td>\n",
       "      <td>17.290000</td>\n",
       "      <td>27.320000</td>\n",
       "      <td>513.650000</td>\n",
       "      <td>24.100000</td>\n",
       "    </tr>\n",
       "    <tr>\n",
       "      <th>50%</th>\n",
       "      <td>2019.0</td>\n",
       "      <td>2.000000</td>\n",
       "      <td>28.800000</td>\n",
       "      <td>750.110000</td>\n",
       "      <td>18.780000</td>\n",
       "      <td>54.290000</td>\n",
       "      <td>39.950000</td>\n",
       "      <td>114.860000</td>\n",
       "      <td>1019.350000</td>\n",
       "      <td>31.810000</td>\n",
       "    </tr>\n",
       "    <tr>\n",
       "      <th>75%</th>\n",
       "      <td>2019.0</td>\n",
       "      <td>3.000000</td>\n",
       "      <td>38.400000</td>\n",
       "      <td>1433.510000</td>\n",
       "      <td>48.680000</td>\n",
       "      <td>219.630000</td>\n",
       "      <td>67.160000</td>\n",
       "      <td>269.707500</td>\n",
       "      <td>1948.710000</td>\n",
       "      <td>43.460000</td>\n",
       "    </tr>\n",
       "    <tr>\n",
       "      <th>max</th>\n",
       "      <td>2019.0</td>\n",
       "      <td>3.000000</td>\n",
       "      <td>7796.410000</td>\n",
       "      <td>95060.690000</td>\n",
       "      <td>89691.770000</td>\n",
       "      <td>101035.000000</td>\n",
       "      <td>11702.220000</td>\n",
       "      <td>23404.440000</td>\n",
       "      <td>101035.000000</td>\n",
       "      <td>89691.770000</td>\n",
       "    </tr>\n",
       "  </tbody>\n",
       "</table>\n",
       "</div>"
      ],
      "text/plain": [
       "           año      bimestre   CPDomestico   CTDomestico  CPNODomestico  \\\n",
       "count  61241.0  61241.000000  56421.000000  56421.000000   61241.000000   \n",
       "mean    2019.0      1.928381     34.224003   1393.593249      86.066418   \n",
       "std        0.0      0.827159     68.724876   2954.958223     710.066586   \n",
       "min     2019.0      1.000000      0.010000      0.120000       0.000000   \n",
       "25%     2019.0      1.000000     22.440000    362.710000       6.540000   \n",
       "50%     2019.0      2.000000     28.800000    750.110000      18.780000   \n",
       "75%     2019.0      3.000000     38.400000   1433.510000      48.680000   \n",
       "max     2019.0      3.000000   7796.410000  95060.690000   89691.770000   \n",
       "\n",
       "       CTNODomestico       CPMixto       CTMixto  consumo_total  consumo_prom  \n",
       "count   61241.000000  52936.000000  52936.000000   61241.000000  61241.000000  \n",
       "mean      369.721983     57.952105    202.879198    1828.998249     68.209907  \n",
       "std      1633.853180    132.133144    325.676197    3461.743068    662.009155  \n",
       "min         0.000000      0.000000      0.000000       0.000000      0.000000  \n",
       "25%        11.870000     17.290000     27.320000     513.650000     24.100000  \n",
       "50%        54.290000     39.950000    114.860000    1019.350000     31.810000  \n",
       "75%       219.630000     67.160000    269.707500    1948.710000     43.460000  \n",
       "max    101035.000000  11702.220000  23404.440000  101035.000000  89691.770000  "
      ]
     },
     "execution_count": 34,
     "metadata": {},
     "output_type": "execute_result"
    }
   ],
   "source": [
    "consumodf.describe()"
   ]
  },
  {
   "cell_type": "markdown",
   "metadata": {},
   "source": [
    "**MEAN, MIN Y MAX:** Aunque el resumen  que **.describe** nos muestra  es útil, podemos mejorar la forma en la que presentamos nuestra información\n",
    "* Obtengamos el **promedio deL CONSUMO TOTAL(MEAN), del CONSUMO DOMÉSTICO Y NO DOMÉSTICO, así como sus valores máximos (MAX) y mínimos (MIN)**"
   ]
  },
  {
   "cell_type": "code",
   "execution_count": null,
   "metadata": {},
   "outputs": [],
   "source": [
    "promedio_consumo_total = consumodf[\"consumo_total\"].mean()\n",
    "CTMIN = consumodf[\"consumo_total\"].min()\n",
    "CTMAX= consumodf[\"consumo_total\"].max()\n",
    "promedio_consumo_total_Doméstico = consumodf[\"CTDomestico\"].mean()\n",
    "CDMIN = consumodf[\"CTDomestico\"].min()\n",
    "CDMAX= consumodf[\"CTDomestico\"].max()\n",
    "promedio_consumo_total_NoDoméstico = consumodf[\"CTNODomestico\"].mean()\n",
    "CNDMIN = consumodf[\"CTNODomestico\"].min()\n",
    "CNDMAX= consumodf[\"CTNODomestico\"].max()"
   ]
  },
  {
   "cell_type": "code",
   "execution_count": null,
   "metadata": {},
   "outputs": [],
   "source": [
    "promedio_consumo_total"
   ]
  },
  {
   "cell_type": "code",
   "execution_count": null,
   "metadata": {},
   "outputs": [],
   "source": [
    "CDMIN"
   ]
  },
  {
   "cell_type": "markdown",
   "metadata": {},
   "source": [
    "\n",
    "\n",
    "* **LEN, UNIQUE:** calcularemos también el número total de colonias en la base de datos utilizando **.unique y len()**"
   ]
  },
  {
   "cell_type": "code",
   "execution_count": null,
   "metadata": {},
   "outputs": [],
   "source": [
    "total_colonias = len(consumodf[\"colonia\"].unique())\n",
    "total_colonias"
   ]
  },
  {
   "cell_type": "code",
   "execution_count": null,
   "metadata": {},
   "outputs": [],
   "source": [
    "consumodf[\"colonia\"]"
   ]
  },
  {
   "cell_type": "code",
   "execution_count": null,
   "metadata": {},
   "outputs": [],
   "source": [
    "CNDMAX"
   ]
  },
  {
   "cell_type": "markdown",
   "metadata": {},
   "source": [
    "* Guardemos nuestros cálculos en un nuevo DataFrame\n",
    "\n",
    "**Sintaxis:** nombredataFrame=pd.DataFrame({\"Nombrecolumna\":[nombrevariablecreada],\"Nombrecolumna\":[nombrevariablecreada]})"
   ]
  },
  {
   "cell_type": "code",
   "execution_count": null,
   "metadata": {},
   "outputs": [],
   "source": [
    "\n",
    "resumen = pd.DataFrame({\"Promedio del consumo total\": promedio_consumo_total,\"Colonias\": [total_colonias],\n",
    "                        \"CTotal Min\": [CTMIN],\"CTotal MAx\": [CTMAX],\n",
    "                              \"Promedio del consumo total Doméstico\": [promedio_consumo_total_Doméstico],\n",
    "                               \"CDomestico Min\": [CDMIN],\"CDomestico Max\": [CDMAX],\n",
    "                              \"Promedio del consumo total NO Doméstico\": [promedio_consumo_total_NoDoméstico],\n",
    "                        \"CNDomestico Min\": [CNDMIN],\"CNDomestico Max\": [CNDMAX],})\n",
    "resumen"
   ]
  },
  {
   "cell_type": "markdown",
   "metadata": {},
   "source": [
    "# FILTRADO DE COLUMNAS, RESUMEN DE LA INFORMACIÓN\n",
    "Para nuestros propósitos,probablemente,es mucho más interesante analizar los datos desagregando la información por Alcaldia, bimestre, colonia o categoría del índice de desarrollo.\n",
    "Para llevar a cabo dicho análisis es necesario aplicar filtros y agrupar información"
   ]
  },
  {
   "cell_type": "markdown",
   "metadata": {},
   "source": [
    "#  .ILOC, .LOC\n",
    "Los comandos .iloc y .loc  son útiles para seleccionar información."
   ]
  },
  {
   "cell_type": "markdown",
   "metadata": {},
   "source": [
    "* El método **.ILOC** se utiliza para seleccionar en un DataFrame filas y/o columnas por su **ubicación.**\n",
    "* Se utiliza la sintáxis **dataframe.iloc[ filas , columnas]**\n",
    "  * Por ejemplo vamos a seleccionar en nuestro DataFrame resumen la información del **No. Total de Colonias** presente en la base de datos de consumo de agua. Recuerda que en python se cuenta a partir de 0 tanto filas como columnas, por ello para seleccionar la fila  1,segunda columna colocamos 0, 1"
   ]
  },
  {
   "cell_type": "code",
   "execution_count": null,
   "metadata": {},
   "outputs": [],
   "source": [
    "resumen.iloc[0,1]"
   ]
  },
  {
   "cell_type": "markdown",
   "metadata": {},
   "source": [
    "* Otra opción es seleccionar directamente la columna 2, sin colocar la referencia a la fila(es factible en este caso por que el DataFrame solo contiene 1 fila, este tipo de selección traerá el contenido completo de la columna)\n",
    "**dataframe.iloc[:, columna]**"
   ]
  },
  {
   "cell_type": "code",
   "execution_count": null,
   "metadata": {},
   "outputs": [],
   "source": [
    "resumen.iloc[:,1]"
   ]
  },
  {
   "cell_type": "markdown",
   "metadata": {},
   "source": [
    "* Para seleccionar toda una fila se omite la información de columnas **dataframe.iloc[fila,:]**"
   ]
  },
  {
   "cell_type": "code",
   "execution_count": null,
   "metadata": {},
   "outputs": [],
   "source": [
    "resumen.iloc[0,:]"
   ]
  },
  {
   "cell_type": "markdown",
   "metadata": {},
   "source": [
    " **.LOC:** La selección de información mediante el comando **.loc** puede resultar mucho más interesante\n",
    "* El método .loc puede ser utilizado de  dos formas diferentes: \n",
    " **1)** Para seleccionar filas o columnas mediante una etiqueta y  **2)** Para seleccionar filas que cumplen una condición:\n",
    "    * Para ilustrae el primer caso regresando a nuestro DataFrame de consumo de agua, podemos seleccionar toda la información de la columna \"Consumo promedio doméstico\" haciendo referencia a su etiqueta"
   ]
  },
  {
   "cell_type": "code",
   "execution_count": null,
   "metadata": {},
   "outputs": [],
   "source": [
    "consumodf.loc[:, 'CPDomestico']"
   ]
  },
  {
   "cell_type": "markdown",
   "metadata": {},
   "source": [
    "* Podemos seleccionar diversas columnas, pasando como parámetro un arreglo con los nombres de las columnas\n",
    "* El resultado al utilizar .loc es un DataFrame"
   ]
  },
  {
   "cell_type": "code",
   "execution_count": null,
   "metadata": {},
   "outputs": [],
   "source": [
    "consumodf.loc[:, ['CPDomestico','CTDomestico','CPNODomestico','CTNODomestico']]"
   ]
  },
  {
   "cell_type": "markdown",
   "metadata": {},
   "source": [
    "* Podríamos limitar la consulta a un número determinado de filas, por las primeras 5"
   ]
  },
  {
   "cell_type": "code",
   "execution_count": null,
   "metadata": {},
   "outputs": [],
   "source": [
    "consumodf.loc[10:14:,['CPDomestico','CTDomestico','CPNODomestico','CTNODomestico']]"
   ]
  },
  {
   "cell_type": "markdown",
   "metadata": {},
   "source": [
    "**2)** seleccionar filas o columnas que cumplen una condición.\n",
    "* Supongamos que estamos interesados en seleccionar la información de una colonia en particular para analizar los distintos tipos de consumos de agua"
   ]
  },
  {
   "cell_type": "code",
   "execution_count": null,
   "metadata": {},
   "outputs": [],
   "source": [
    "copilcoU=consumodf.loc[consumodf.loc[:, 'colonia'] == \"COPILCO UNIVERSIDAD\"]\n",
    "copilcoU"
   ]
  },
  {
   "cell_type": "markdown",
   "metadata": {},
   "source": [
    "* También podemos seleccionar filas que cumplan varias condiciones;\n",
    "por ejemplo la información de la colonia  COPILCO UNIVERSIDAD para el segundo y tercer bimestre\n"
   ]
  },
  {
   "cell_type": "code",
   "execution_count": null,
   "metadata": {},
   "outputs": [],
   "source": [
    "copilcoU2=consumodf.loc[(consumodf.loc[:, 'colonia'] != \"COPILCO UNIVERSIDAD\")&((consumodf['bimestre'] <=2))]\n",
    "copilcoU2"
   ]
  },
  {
   "cell_type": "code",
   "execution_count": null,
   "metadata": {},
   "outputs": [],
   "source": [
    "copilcoU3 = copilcoU.loc[copilcoU.loc[:, 'bimestre'] == 2]\n",
    "copilcoU3"
   ]
  },
  {
   "cell_type": "markdown",
   "metadata": {},
   "source": [
    "# ORDENANDO LOS DATOS "
   ]
  },
  {
   "cell_type": "markdown",
   "metadata": {},
   "source": [
    "**SORT**\n",
    "* Observando los datos, identificamos que la información de las columna bimestre aparece de forma desordenada combinando 2 y 3\n",
    "* Podemos ordenar los datos del DataFrame copilcoU2 "
   ]
  },
  {
   "cell_type": "code",
   "execution_count": null,
   "metadata": {},
   "outputs": [],
   "source": [
    "copilcoU2ordenado= copilcoU2.sort_values([\"CPNODomestico\"], ascending=True)\n",
    "copilcoU2ordenado.head()\n"
   ]
  },
  {
   "cell_type": "markdown",
   "metadata": {},
   "source": [
    "* Inclusive podemos **ordenar los datos por más de una columna**"
   ]
  },
  {
   "cell_type": "code",
   "execution_count": null,
   "metadata": {},
   "outputs": [],
   "source": [
    "copilcoU2ordenado= copilcoU2.sort_values([\"bimestre\",\"indice_des\"], ascending=True)\n",
    "copilcoU2ordenado.head()"
   ]
  },
  {
   "cell_type": "code",
   "execution_count": null,
   "metadata": {},
   "outputs": [],
   "source": [
    "consumodf['indice_des']"
   ]
  },
  {
   "cell_type": "markdown",
   "metadata": {},
   "source": [
    "# AGRUPANDO CON GROUP BY\n",
    "Es posible que estemos interesado en analizar los datos desde el punto de vista de algún tipo de agrupación presente en los datos.\n",
    "\n",
    "Por ejemplo **analizar por separado la información de las colonias etiquetadas con un índice de desarrollo \"ALTO\" vs las etiquetadas con un índice de desarrollo \"BAJO\".**\n",
    "\n",
    "Para realizar este tipo de análisis vamos a utilizar la instrucción **group.by**"
   ]
  },
  {
   "cell_type": "markdown",
   "metadata": {},
   "source": [
    "* Vamos a analizar los datos del DataFrame consumodf para comparar los consumos de agua de las colonias según su  índice desarrollo\n",
    "* **La instrucción .groupby crea un objeto, a partir del cual podremos obtener información de los grupos** "
   ]
  },
  {
   "cell_type": "code",
   "execution_count": null,
   "metadata": {},
   "outputs": [],
   "source": [
    "gruposdesarrollo=consumodf.groupby(['indice_des'])\n",
    "gruposdesarrollo"
   ]
  },
  {
   "cell_type": "markdown",
   "metadata": {},
   "source": [
    "**.GROUP.KEYS** Esta instrucción mostrará los grupos que se identifican en el DataFrame a partir de los valores únicos presentes en la columna"
   ]
  },
  {
   "cell_type": "code",
   "execution_count": null,
   "metadata": {},
   "outputs": [],
   "source": [
    "consumodf.groupby(['indice_des']).groups.keys()"
   ]
  },
  {
   "cell_type": "code",
   "execution_count": null,
   "metadata": {},
   "outputs": [],
   "source": [
    "gruposdesarrollo.groups.keys()"
   ]
  },
  {
   "cell_type": "markdown",
   "metadata": {},
   "source": [
    "* Si queremos saber **cuántos elementos integran cada grupo** podemos utilizar la instruccion **len** y la etiqueta del grupo "
   ]
  },
  {
   "cell_type": "code",
   "execution_count": null,
   "metadata": {},
   "outputs": [],
   "source": [
    "alto=len(consumodf.groupby(['indice_des']).groups['ALTO'])\n",
    "bajo=len(consumodf.groupby(['indice_des']).groups['BAJO'])\n",
    "medio=len(consumodf.groupby(['indice_des']).groups['MEDIO'])\n",
    "popular=len(consumodf.groupby(['indice_des']).groups['POPULAR'])\n",
    "alto,medio,bajo,popular"
   ]
  },
  {
   "cell_type": "markdown",
   "metadata": {},
   "source": [
    "**.GROUPBY .MEAN** Podemos obtener el promedio de consumo total por cada grupo"
   ]
  },
  {
   "cell_type": "code",
   "execution_count": null,
   "metadata": {},
   "outputs": [],
   "source": [
    "consumodf.groupby('indice_des')['consumo_total'].mean()"
   ]
  },
  {
   "cell_type": "markdown",
   "metadata": {},
   "source": [
    "**.GROUPBY .NUNIQUE:** Podemos obtener el numero total de colonias que se incluyen en cada grupo"
   ]
  },
  {
   "cell_type": "code",
   "execution_count": null,
   "metadata": {},
   "outputs": [],
   "source": [
    "consumodf.groupby('indice_des')[\"colonia\"].nunique()"
   ]
  },
  {
   "cell_type": "markdown",
   "metadata": {},
   "source": [
    "# MERGE\n",
    "Un problema común en el análisis de datos es la necesidad de tener que incorporar nueva información.\n",
    "Python cuenta con varios métodos para realizar esta tarea, cada uno es útil dependiendo cómo queremos incluir nuestra información y la estructura de los datos a los que la anexaremos.\n",
    "\n"
   ]
  },
  {
   "cell_type": "markdown",
   "metadata": {},
   "source": [
    "* Para identificar si los consumos de agua son altos o bajos, debemos considerar alguna medida que nos permita tener referencia, por ejemplo los litros consumidos por el número de habitantes de la alacldia\n",
    " nuestra información no contiene datos sobre la población, por lo que debemos incorporar este dato.\n",
    "* Tomamos información sobre las proyecciones de población que realiza CONAPO, estos datos están a nivel alcaldia , por lo que primero debemos obtener un DataFrame con la información resumida a ese nivel\n",
    "* Despues vamos a unir la información de población mediante el comando .merge y realizaremos algunos cálculos para analizar los consumos de agua:\n",
    "\n",
    "**1)** consideremos inicialmente únicamente la información de los consumos tootales"
   ]
  },
  {
   "cell_type": "code",
   "execution_count": null,
   "metadata": {},
   "outputs": [],
   "source": [
    "consumototalc=consumodf.groupby('alcaldia')['CTDomestico','CTNODomestico','CTMixto','consumo_total'].sum()\n",
    "consumototalc"
   ]
  },
  {
   "cell_type": "markdown",
   "metadata": {},
   "source": [
    "**2** Vamos a leer los datos de nuestro archivo de población**"
   ]
  },
  {
   "cell_type": "code",
   "execution_count": null,
   "metadata": {},
   "outputs": [],
   "source": [
    "poblacioncsv =\"proyeccionespoblac2019alcaldias.csv\"\n",
    "poblac2019cdmx= pd.read_csv(poblacioncsv,encoding=\"UTF-8\")\n",
    "poblac2019cdmx"
   ]
  },
  {
   "cell_type": "code",
   "execution_count": null,
   "metadata": {},
   "outputs": [],
   "source": [
    "dataframecompleto = pd.merge(poblac2019cdmx, consumototalc, how='outer', on='alcaldia')\n",
    "dataframecompleto "
   ]
  },
  {
   "cell_type": "markdown",
   "metadata": {},
   "source": [
    "* Calcularemos el consumo total/la población total de la alcaldia y agregaremos esta información como una nueva columna"
   ]
  },
  {
   "cell_type": "code",
   "execution_count": null,
   "metadata": {},
   "outputs": [],
   "source": [
    "CTpPobtot = dataframecompleto [\"consumo_total\"]/dataframecompleto [\"Pob_Tot2019\"]\n",
    "dataframecompleto[\"CTpPobtot\"] = CTpPobtot\n",
    "dataframecompleto"
   ]
  },
  {
   "cell_type": "code",
   "execution_count": null,
   "metadata": {},
   "outputs": [],
   "source": [
    "dataframecompleto[\"CTpPobtot\"].describe().round()"
   ]
  },
  {
   "cell_type": "markdown",
   "metadata": {},
   "source": [
    "**BINING**\n",
    "\n",
    "Vamos a dividir nuestros datos en distintas categorías a partir de la información  de el Consumo TOtal/Población\n",
    "para ello utilizaremos el comando **pd.cut y la instrucción bins**\n",
    "Los bins deben considerar el rango completo de la variable que vamos a categorizar(cada bin establece el límite de la categiría)\n",
    "Los nombres de los grupos deben ser no.bins-1."
   ]
  },
  {
   "cell_type": "code",
   "execution_count": null,
   "metadata": {},
   "outputs": [],
   "source": [
    "bins = [0, 3, 6, 13, 23, 34]\n",
    "group_names = [\"MUY BAJO\", \"BAJO\", \"MEDIO\", \"ALTO\", \"MUY ALTO\"]\n",
    "dataframecompleto[\"Categoriaconsumo\"] = pd.cut(dataframecompleto[\"CTpPobtot\"], bins, labels=group_names)\n",
    "dataframecompleto"
   ]
  },
  {
   "cell_type": "code",
   "execution_count": null,
   "metadata": {},
   "outputs": [],
   "source": [
    "#Guardemos nuestro DataFrame en un nuevo csv\n",
    "dataframecompleto.to_csv(\"basecompletaconpob.csv\",  encoding=\"utf-8\", index=False, header=True)"
   ]
  },
  {
   "cell_type": "markdown",
   "metadata": {},
   "source": [
    "# OPERADORES Y CONDICIONALES "
   ]
  },
  {
   "cell_type": "markdown",
   "metadata": {},
   "source": [
    "*Para realizar comparaciones en Python se utilizan diversos operadores, entre los más comúnes\n",
    "se encuentran:\n",
    "\n",
    "**== igual**\n",
    "\n",
    "**!= distinto de** \n",
    "\n",
    "**<*menor que**\n",
    "\n",
    "**> mayor que** \n",
    "\n",
    "**>= mayor o igual que**\n",
    "\n",
    "**and** \n",
    "\n",
    "**or**"
   ]
  },
  {
   "cell_type": "markdown",
   "metadata": {},
   "source": [
    "#### **IF**\n",
    "\n",
    "La instrucción **IF en conjunto con los operadores lógicos** permiten que un programa ejecute una o más  instrucciones al al cumplirse una condición.\n",
    "\n",
    "**La sintaxis de la instrucción if es la siguiente:**\n",
    "\n",
    "   * Se establecen los valores de las variables a comparar (sí aplica).\n",
    "    \n",
    "   * Se evalúa la condición IF\n",
    "    \n",
    "   * Sí el resultado es **True** se ejecuta el bloque de sentencias\n",
    "    \n",
    "   * Sí el resultado es **False** no se ejecuta el bloque de sentencias."
   ]
  },
  {
   "cell_type": "code",
   "execution_count": null,
   "metadata": {},
   "outputs": [],
   "source": [
    "#EJEMPLO\n",
    "x = 1\n",
    "y = 1\n",
    "if x == y:\n",
    "    print(\"x is equal to y\")\n",
    "    x = (x)+1\n",
    "    y= (y)+1\n",
    "    print(x)\n",
    "    print(y)"
   ]
  },
  {
   "cell_type": "code",
   "execution_count": null,
   "metadata": {},
   "outputs": [],
   "source": [
    "#EJEMPLO\n",
    "x = 1\n",
    "y = 2\n",
    "if x == y:\n",
    "    print(\"x is equal to y\")\n",
    "    x = (x)+1\n",
    "    y= (y)+1\n",
    "    print(x)\n",
    "    print(y)"
   ]
  },
  {
   "cell_type": "markdown",
   "metadata": {},
   "source": [
    "#### **IF ELSE** --  IF ANIDADOS CON MÁS DE DOS CONDICIONES"
   ]
  },
  {
   "cell_type": "markdown",
   "metadata": {},
   "source": [
    "**IF, ELIF, ELSE** \n",
    "Estas tres instrucciones  permiten establecer instrucciones para **más de un escenario.**\n",
    "Cuando sólo teníamos IF,  establecimos condiciones para el caso en el que la evaluación de IF da como resultado \"True\", al agregar ELSE podemos establecer instrucciones para el caso en el que la evaluación de IF da como resultado \"False\"\n",
    "\n",
    "Si además añadimos ELIF(contracción de else if) estamos incluyendo un escenario adicional para comparar nuestras variables."
   ]
  },
  {
   "cell_type": "code",
   "execution_count": null,
   "metadata": {},
   "outputs": [],
   "source": [
    "#EJEMPLO 1 IF ELSE\n",
    "x = 1\n",
    "y = 10\n",
    "if x == y:#La primera línea contiene la condición a evaluar y es una expresión lógica. Esta línea debe terminar siempre por dos puntos (:).\n",
    "    print(\"x is equal to y\")#loque de órdenes que se ejecutan cuando la condición se cumple (es decir, cuando la condición es verdadera). \n",
    "else:#si la condición anterior no se cumple\n",
    "     print(\"x is not equal to y\")\n"
   ]
  },
  {
   "cell_type": "code",
   "execution_count": null,
   "metadata": {},
   "outputs": [],
   "source": [
    "#EJEMPLO 2 IF ELIF ELSE\n",
    "x = 100\n",
    "y = 100\n",
    "if x > y:#condición_1:\n",
    "    print(\"x es mayor\") #bloque 1\n",
    "elif x < y: #condición_2:\n",
    "    print(\"x es menor\") #bloque 2\n",
    "else:\n",
    "    print(\"x es igual a y\")#bloque 3\n"
   ]
  },
  {
   "cell_type": "markdown",
   "metadata": {},
   "source": [
    "# LOOPS/CICLOS FOR,  WHILE\n",
    "Un For Loop o ciclo for, recorre cada uno de los elementos de una lista y ejecuta por cada elemento la condición establecida.\n",
    "\n",
    "**Ejemplo 1 For Loop en un rango de números**, si sólo se provee un número, se ejecutara la condición desde 0 hasta el número provisto"
   ]
  },
  {
   "cell_type": "code",
   "execution_count": null,
   "metadata": {},
   "outputs": [],
   "source": [
    "for x in range(10):\n",
    "    print(x)"
   ]
  },
  {
   "cell_type": "markdown",
   "metadata": {},
   "source": [
    "**Ejemplo 2 For Loop en un rango entre dos números,** si provee un número inicial y uno final , se ejecutara la condición hasta alcanzar el número final"
   ]
  },
  {
   "cell_type": "code",
   "execution_count": null,
   "metadata": {},
   "outputs": [],
   "source": [
    "for x in range(20, 30):\n",
    "    print(x)"
   ]
  },
  {
   "cell_type": "markdown",
   "metadata": {},
   "source": [
    "**Ejemplo 3 For Loop en un una lista** si se provee una lista, la instrucción se ejecutará por cada elemento dentro de la lista "
   ]
  },
  {
   "cell_type": "code",
   "execution_count": null,
   "metadata": {},
   "outputs": [],
   "source": [
    "palabras= [\"Sandía\", \"Canela\", \"Azul\", \"Tiempo\", \"Ayer\", \"Hoy\"]\n",
    "for palabra in palabras:\n",
    "    print(palabra)\n"
   ]
  },
  {
   "cell_type": "markdown",
   "metadata": {},
   "source": [
    "**Ejemplo 4 While Loop**  Este tipo de ciclos continuará ejecutando la instrucción establecida hasta que se cumple cierta condición"
   ]
  },
  {
   "cell_type": "code",
   "execution_count": null,
   "metadata": {},
   "outputs": [],
   "source": [
    "x = \"A\"\n",
    "while x == \"A\":\n",
    "    print(\"Primera letra del Abecedario\")\n",
    "    x = input(\"Introduce otra letra \")\n"
   ]
  },
  {
   "cell_type": "markdown",
   "metadata": {},
   "source": [
    "# EJERCICIOS \n",
    "Completa la información necesaria para ejecutar los siguientes Loops"
   ]
  },
  {
   "cell_type": "code",
   "execution_count": null,
   "metadata": {},
   "outputs": [],
   "source": [
    "#Ejecuta  un rango de números (0 al 4)\n",
    "for x in range():\n",
    "    print(x)\n",
    "    print(\"Muy bien,entendiste el ejericio!\")"
   ]
  },
  {
   "cell_type": "code",
   "execution_count": null,
   "metadata": {},
   "outputs": [],
   "source": [
    "#Ejecuta un loop de números del 2 al 6 inclusive\n",
    " x in range(, ):\n",
    "    print(x)"
   ]
  },
  {
   "cell_type": "code",
   "execution_count": null,
   "metadata": {},
   "outputs": [],
   "source": [
    "#Itera cada una de las letras en una palabra\n",
    "palabra = \"Econometría\"\n",
    "for letra in palabra:\n",
    "    print(letra)"
   ]
  },
  {
   "cell_type": "code",
   "execution_count": null,
   "metadata": {},
   "outputs": [],
   "source": [
    "#Itera cada uno de los elementos en una lista\n",
    "canasta = [\"leche\", \"carne\", \"jitomate\", \"lechuga\"]\n",
    "for  in :\n",
    "    print()"
   ]
  },
  {
   "cell_type": "code",
   "execution_count": null,
   "metadata": {},
   "outputs": [],
   "source": [
    "# Ejecuta la instrucción hasta que se cumpla una  a condition\n",
    "run = \"y\"\n",
    "while run == \"y\":\n",
    "    print(\"Hi!\")\n",
    "    run = input(\"To run again. Enter 'y'\")"
   ]
  },
  {
   "cell_type": "markdown",
   "metadata": {},
   "source": [
    "**LIST COMPREHENSION**\n",
    "Permite crear listas de forma simplificada y con menor cantidad de código.\n",
    "El resultado siempres será una lista.\n",
    "\n",
    "**Ejemplo 1:** Queremos guardar cada una de las letras que componen una palabra en una lista para cambiarla a mayúscula e imprimir todas las letras.\n",
    "Como ya hemos visto, podemos utilizar un ciclo for para este propósito"
   ]
  },
  {
   "cell_type": "code",
   "execution_count": null,
   "metadata": {},
   "outputs": [],
   "source": [
    "palabra = \"Parangaricutirimicuaro\" # guardamos en una variable nuestra palabra\n",
    "letras = [] #creamos una lista vacia en la que se van a ir agregando las letras de nuestra palabra\n",
    "for letra in palabra:# iniciamos nuestro ciclo for\n",
    "        letras.append(letra.upper()) # letra.upper(convierte a mayúscula la letra dentro del ciclo)\n",
    "                                     # letras.append(listavacia.append esta instrucción \"agrega\" la letra en mayúscula a la lista llamada letras)\n",
    "print(letras)"
   ]
  },
  {
   "cell_type": "markdown",
   "metadata": {},
   "source": [
    "* Con **LIST COMPREHENSION** podemos ejecutar la misma tarea con un código simplificado\n",
    "\n",
    "**Sintaxis:** variable para guardar la lista = [Expresion para aplicar a cada elemento() ciclo for]"
   ]
  },
  {
   "cell_type": "code",
   "execution_count": null,
   "metadata": {},
   "outputs": [],
   "source": [
    "palabra = \"Parangaricutirimicuaro\"\n",
    "letras = [letra.upper() for letra in palabra]\n",
    "print(letras)"
   ]
  },
  {
   "cell_type": "markdown",
   "metadata": {},
   "source": [
    "**Ejemplo 2: For en un rango**\n",
    "Obtengamos el cuadrado de los número pares que hay en un rango del 0 al 9"
   ]
  },
  {
   "cell_type": "code",
   "execution_count": null,
   "metadata": {},
   "outputs": [],
   "source": [
    "# variable para guardar la lista = [Expresion para aplicar a cada elemento() ciclo for range]   \n",
    "cuadrados_pares = [num**2 for num in range(10) if num % 2 == 0]\n",
    "print(cuadrados_pares)"
   ]
  },
  {
   "cell_type": "markdown",
   "metadata": {},
   "source": [
    "**Ejemplo 3: For IF**\n",
    "\n",
    "Podemos añadir un condicional (if) a un list comprehension.\n",
    "\n",
    "* Supongamos que queremos un listado de las temperaturas más altas en una semana del mes de julio (mayores a 26 grados)\n",
    "Tenemos un listado con el registro de temperaturas de cada día de la semana.\n",
    "Con un clico for e If podemos seleccionar las temperaturas de los días más calurosos."
   ]
  },
  {
   "cell_type": "code",
   "execution_count": null,
   "metadata": {},
   "outputs": [],
   "source": [
    "temperatura_semanal= [27, 25, 22, 29, 30,26,32]\n",
    "días_calurosos = []\n",
    "for temperatura in temperatura_semanal:\n",
    "    if temperatura > 26:\n",
    "        días_calurosos.append(temperatura)\n",
    "print(días_calurosos)"
   ]
  },
  {
   "cell_type": "markdown",
   "metadata": {},
   "source": [
    "* Podemos hacer la misma selección utilizando list comprehension"
   ]
  },
  {
   "cell_type": "code",
   "execution_count": null,
   "metadata": {},
   "outputs": [],
   "source": [
    "temperatura_semanal= [27, 25, 22, 29, 30,26,32]\n",
    "días_calurosos = [temperatura for temperatura in temperatura_semanal if temperatura > 26]\n",
    "\n",
    "print(días_calurosos)"
   ]
  },
  {
   "cell_type": "markdown",
   "metadata": {},
   "source": [
    "* Utilizando **IF, CICLOS FOR Y LIST COMPRENHENSION** en PANDAS"
   ]
  },
  {
   "cell_type": "code",
   "execution_count": null,
   "metadata": {},
   "outputs": [],
   "source": [
    "#Creamos un DataFrame de prueba\n",
    "import pandas as pd\n",
    "datos = {'nombre': ['Francisco', 'Julieta', 'Marcela', 'Joaquin', 'Carlos'], \n",
    "        'año': [2012, 2012, 2013, 2014, 2014], \n",
    "        'calificacion': [9, 7, 8, 10, 8]}\n",
    "df = pd.DataFrame(datos)\n",
    "df"
   ]
  },
  {
   "cell_type": "markdown",
   "metadata": {},
   "source": [
    "**Creando una nueva columna con IF** \n",
    "* Estructura df.loc[df['nombre_columna'] condicion, 'nombre_nueva_columna'] = 'valor si la condición se cumple'\n",
    "  Estructura df.loc[df['nombre_columna'] condicion, 'nombre_nueva_columna'] = 'valor si la condición  NO se cumple'"
   ]
  },
  {
   "cell_type": "code",
   "execution_count": null,
   "metadata": {},
   "outputs": [],
   "source": [
    "df.loc[df['año'] > 2012 , '+2012'] = 'Verdadero' \n",
    "df.loc[df['año'] <= 2012, '+2012'] = 'Falso' \n",
    "df"
   ]
  },
  {
   "cell_type": "markdown",
   "metadata": {},
   "source": [
    "**Ciclo for en pandas**"
   ]
  },
  {
   "cell_type": "code",
   "execution_count": null,
   "metadata": {},
   "outputs": [],
   "source": [
    "import numpy as np\n",
    "# Iteración por columnas del DataFrame:\n",
    "cols=df.columns\n",
    "upp=[]\n",
    "for col in cols:\n",
    "    upp.append(col.upper())\n",
    "print(upp)"
   ]
  },
  {
   "cell_type": "code",
   "execution_count": null,
   "metadata": {},
   "outputs": [],
   "source": [
    "# Iteración por filas del DataFrame:\n",
    "for indice_fila, fila in df.iterrows():\n",
    "    print(indice_fila)\n",
    "    print(fila)"
   ]
  },
  {
   "cell_type": "markdown",
   "metadata": {},
   "source": [
    "**Ejemplo List Comprehensions**\n",
    "* Vamos a crear una columna nueva de **\"año anterior\"** restaremos 1 a la columna año utilizando list comprehension.\n",
    "\n",
    "* **Sintaxis** nombredataframe[nombrecolumna] =[ciclo for para cada fila en la columna [nombrecolumna]]"
   ]
  },
  {
   "cell_type": "code",
   "execution_count": null,
   "metadata": {},
   "outputs": [],
   "source": [
    "df['año_anterior'] = [row-1 for row in df['año']]\n",
    "df"
   ]
  },
  {
   "cell_type": "code",
   "execution_count": null,
   "metadata": {},
   "outputs": [],
   "source": []
  }
 ],
 "metadata": {
  "kernelspec": {
   "display_name": "Python 3",
   "language": "python",
   "name": "python3"
  },
  "language_info": {
   "codemirror_mode": {
    "name": "ipython",
    "version": 3
   },
   "file_extension": ".py",
   "mimetype": "text/x-python",
   "name": "python",
   "nbconvert_exporter": "python",
   "pygments_lexer": "ipython3",
   "version": "3.7.5"
  }
 },
 "nbformat": 4,
 "nbformat_minor": 2
}
